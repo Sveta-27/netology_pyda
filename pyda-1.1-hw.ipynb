{
 "cells": [
  {
   "cell_type": "markdown",
   "metadata": {},
   "source": [
    "**Задание 1**. Даны 2 строки: *long_phrase* и *short_phrase*. \n",
    "Напишите код, который проверяет действительно ли длинная фраза *long_phrase* длиннее короткой *short_phrase*. И выводит *True* или *False* в зависимости от результата сравнения."
   ]
  },
  {
   "cell_type": "code",
   "execution_count": 50,
   "metadata": {},
   "outputs": [],
   "source": [
    "long_phrase = 'Насколько проще было бы писать программы, если бы не заказчики'\n",
    "short_phrase = '640Кб должно хватить для любых задач. Билл Гейтс (по легенде)'"
   ]
  },
  {
   "cell_type": "code",
   "execution_count": 52,
   "metadata": {},
   "outputs": [],
   "source": [
    "def is_long_phrase_longer(long_phrase,short_phrase):\n",
    "    if len(long_phrase) - len(short_phrase) > 0: \n",
    "        return 1\n",
    "    else: \n",
    "        return 0"
   ]
  },
  {
   "cell_type": "markdown",
   "metadata": {},
   "source": [
    "**Задание 2**. Дано значение объема файла в байтах. Напишите перевод этого значения в мегабайты в формате: \"*Объем файла равен 213.68Mb*\""
   ]
  },
  {
   "cell_type": "code",
   "execution_count": 56,
   "metadata": {},
   "outputs": [],
   "source": [
    "def gb_to_mb(db):\n",
    "    print(\"Объем файла равен {:.2f} Mb\".format(db*1024))"
   ]
  },
  {
   "cell_type": "markdown",
   "metadata": {},
   "source": [
    "**Задание 3**. Разработать приложение для определения знака зодиака по дате рождения. Пример:\n",
    "\n",
    "Введите месяц: март\n",
    "\n",
    "Введите число: 6\n",
    "\n",
    "Вывод:\n",
    "Рыбы"
   ]
  },
  {
   "cell_type": "markdown",
   "metadata": {},
   "source": [
    "21 january - 20 february Aquarius\n",
    "\n",
    "21 february - 20 march Pisces \n",
    "\n",
    "21 march - 20 april Aries\n",
    "\n",
    "21 april - 20 may Taurus\n",
    "\n",
    "21 may - 21 june Gemini\n",
    "\n",
    "22 june - 22 july Cancer\n",
    "\n",
    "23 july - 23 august Leo\n",
    "\n",
    "24 august - 23 september Virgo\n",
    "\n",
    "24 september - 23 october Libra\n",
    "\n",
    "24 october - 22 november Scorpio\n",
    "\n",
    "23 november - 21 december Sagittarius\n",
    "\n",
    "22 december - 20 january Capricorn \n"
   ]
  },
  {
   "cell_type": "code",
   "execution_count": 92,
   "metadata": {},
   "outputs": [],
   "source": [
    "def zodiac_sign(month, number):\n",
    "            if month == \"january\":\n",
    "                if number < 21 : return 'Capricorn '\n",
    "                else: return 'Aquarius'\n",
    "            if month == \"february\":\n",
    "                if number < 21 : return 'Aquarius'\n",
    "                else: return 'Pisces'\n",
    "            if month == \"march\":\n",
    "                if number < 21 : return 'Pisces'\n",
    "                else: return 'Aries'\n",
    "            if month == \"april\":\n",
    "                if number < 21 : return 'Aries'\n",
    "                else: return 'Taurus'\n",
    "            if month == \"may\":\n",
    "                if number < 21 : return 'Taurus'\n",
    "                else: return 'Gemini'\n",
    "            if month == \"june\":\n",
    "                if number < 22 : return 'Gemini'\n",
    "                else: return 'Cancer'\n",
    "            if month == \"july\":\n",
    "                if number < 23 : return 'Cancer'\n",
    "                else: return 'Leo'\n",
    "            if month == \"august\":\n",
    "                if number < 24 : return 'Leo' \n",
    "                else: return 'Virgo'\n",
    "            if month == \"september\":\n",
    "                if number < 24 : return 'Virgo'\n",
    "                else: return 'Libra'\n",
    "            if month == \"october\":\n",
    "                if number < 24 : return 'Libra'\n",
    "                else: return 'Scorpio'\n",
    "            if month == \"november\":\n",
    "                if number < 23 : return 'Scorpio'\n",
    "                else: return 'Sagittarius'      \n",
    "            if month == \"december\":\n",
    "                if number < 22 : return 'Sagittarius'\n",
    "                else: return 'Capricorn '\n",
    "            \n",
    "        \n",
    "        \n"
   ]
  },
  {
   "cell_type": "code",
   "execution_count": 93,
   "metadata": {},
   "outputs": [
    {
     "name": "stdout",
     "output_type": "stream",
     "text": [
      "Enter month: april\n",
      "Enter number: 25\n",
      "Taurus\n"
     ]
    }
   ],
   "source": [
    "month = input('Enter month: ')\n",
    "number = int(input('Enter number: '))\n",
    "print(zodiac_sign(month.lower(),number))"
   ]
  },
  {
   "cell_type": "markdown",
   "metadata": {},
   "source": [
    "**Задание 4**. Нужно разработать приложение для финансового планирования.\n",
    "Приложение учитывает сколько уходит на ипотеку, \"на жизнь\" и сколько нужно отложить на пенсию.\n",
    "Пользователь вводит:\n",
    "- заработанную плату в месяц.\n",
    "- сколько процентов от ЗП уходит на ипотеку.\n",
    "- сколько процентов от ЗП уходит \"на жизнь\".\n",
    "- сколько раз приходит премия в год.\n",
    "\n",
    "Остальная часть заработанной платы откладывается на пенсию.\n",
    "\n",
    "Также пользователю приходит премия в размере зарплаты, от которой половина уходит на отпуск, а вторая половина откладывается.\n",
    "\n",
    "Программа должна учитывать сколько премий было в год.\n",
    "\n",
    "Нужно вывести сколько денег тратит пользователь на ипотеку и сколько он накопит за год.\n",
    "\n",
    "Пример:\n",
    "\n",
    "Введите заработанную плату в месяц: 100000\n",
    "\n",
    "Введите сколько процентов уходит на ипотеку: 30\n",
    "\n",
    "Введите сколько процентов уходит на жизнь: 50\n",
    "\n",
    "Введите количество премий за год: 2\n",
    "\n",
    "Вывод:\n",
    "На ипотеку было потрачено: 360000 рублей\n",
    "Было накоплено: 340000 рублей"
   ]
  },
  {
   "cell_type": "code",
   "execution_count": 69,
   "metadata": {},
   "outputs": [],
   "source": [
    "def mortgage(salary, persent_mort):\n",
    "    return salary * (persent_mort/100) * 12\n",
    "    "
   ]
  },
  {
   "cell_type": "code",
   "execution_count": 83,
   "metadata": {},
   "outputs": [],
   "source": [
    "def accumulated(salary, persent_accum, cnt_prem):\n",
    "    return salary * 12 * (persent_accum / 100) + cnt_prem * salary * 0.5"
   ]
  },
  {
   "cell_type": "code",
   "execution_count": 76,
   "metadata": {},
   "outputs": [
    {
     "name": "stdout",
     "output_type": "stream",
     "text": [
      "Enter salary per month: 100000\n",
      "Enter how many percent is spent on a mortgage: 30\n",
      "Enter how many percent is spent on life: 50\n",
      "Enter the number of premiums for the year: 2\n"
     ]
    }
   ],
   "source": [
    "# goes on a mortgage\n",
    "salary = int(input('Enter salary per month: '))\n",
    "persent_mort = int(input('Enter how many percent is spent on a mortgage: '))  \n",
    "persent_life = int(input('Enter how many percent is spent on life: '))\n",
    "cnt_prem = int(input('Enter the number of premiums for the year: '))\n"
   ]
  },
  {
   "cell_type": "code",
   "execution_count": 91,
   "metadata": {},
   "outputs": [
    {
     "name": "stdout",
     "output_type": "stream",
     "text": [
      "Spent on a mortgage: 360000 rubles. Accumulated: 340000 rubles\n"
     ]
    }
   ],
   "source": [
    "spent_mort = mortgage(salary,persent_mort)\n",
    "accumulated_money = accumulated(salary, 100 - persent_life - persent_mort, cnt_prem)\n",
    "print('Spent on a mortgage: {:.0f} rubles. Accumulated: {:.0f} rubles'.format(spent_mort, accumulated_money))"
   ]
  },
  {
   "cell_type": "code",
   "execution_count": null,
   "metadata": {},
   "outputs": [],
   "source": []
  },
  {
   "cell_type": "code",
   "execution_count": null,
   "metadata": {},
   "outputs": [],
   "source": []
  },
  {
   "cell_type": "code",
   "execution_count": null,
   "metadata": {},
   "outputs": [],
   "source": []
  },
  {
   "cell_type": "code",
   "execution_count": null,
   "metadata": {},
   "outputs": [],
   "source": []
  }
 ],
 "metadata": {
  "kernelspec": {
   "display_name": "Python 3",
   "language": "python",
   "name": "python3"
  },
  "language_info": {
   "codemirror_mode": {
    "name": "ipython",
    "version": 3
   },
   "file_extension": ".py",
   "mimetype": "text/x-python",
   "name": "python",
   "nbconvert_exporter": "python",
   "pygments_lexer": "ipython3",
   "version": "3.7.3"
  }
 },
 "nbformat": 4,
 "nbformat_minor": 2
}
