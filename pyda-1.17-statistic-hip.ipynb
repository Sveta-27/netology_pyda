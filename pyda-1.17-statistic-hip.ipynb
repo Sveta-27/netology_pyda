{
 "cells": [
  {
   "cell_type": "markdown",
   "metadata": {
    "colab_type": "text",
    "id": "9wqpiQR2AbtX"
   },
   "source": [
    "# Домашнее задание №3"
   ]
  },
  {
   "cell_type": "code",
   "execution_count": 410,
   "metadata": {
    "colab": {},
    "colab_type": "code",
    "id": "Zo_j9HCKCPgi"
   },
   "outputs": [],
   "source": [
    "import numpy as np\n",
    "from scipy.stats import t\n",
    "from scipy.stats import norm\n",
    "import matplotlib.pyplot as plt\n",
    "from scipy import stats\n",
    "import pandas as pd\n",
    "import io\n",
    "import requests\n",
    "import seaborn as sns\n",
    "from sklearn.linear_model import LinearRegression\n",
    "from sklearn.model_selection import train_test_split\n",
    "from sklearn.preprocessing import PolynomialFeatures\n",
    "from sklearn.linear_model import LogisticRegression\n",
    "from sklearn.metrics import classification_report\n",
    "\n",
    "%matplotlib inline"
   ]
  },
  {
   "cell_type": "markdown",
   "metadata": {
    "colab_type": "text",
    "id": "LrhPyaIACZsb"
   },
   "source": [
    "Таблица Indian liver pations records."
   ]
  },
  {
   "cell_type": "markdown",
   "metadata": {},
   "source": [
    "Загрузить датасет https://www.kaggle.com/uciml/indian-liver-patient-records. "
   ]
  },
  {
   "cell_type": "code",
   "execution_count": 411,
   "metadata": {
    "colab": {
     "base_uri": "https://localhost:8080/",
     "height": 224
    },
    "colab_type": "code",
    "id": "LQWcltRn-vZc",
    "outputId": "57d517f0-64f9-47c1-e092-b724da8029a1"
   },
   "outputs": [
    {
     "data": {
      "text/html": [
       "<div>\n",
       "<style scoped>\n",
       "    .dataframe tbody tr th:only-of-type {\n",
       "        vertical-align: middle;\n",
       "    }\n",
       "\n",
       "    .dataframe tbody tr th {\n",
       "        vertical-align: top;\n",
       "    }\n",
       "\n",
       "    .dataframe thead th {\n",
       "        text-align: right;\n",
       "    }\n",
       "</style>\n",
       "<table border=\"1\" class=\"dataframe\">\n",
       "  <thead>\n",
       "    <tr style=\"text-align: right;\">\n",
       "      <th></th>\n",
       "      <th>Age</th>\n",
       "      <th>Gender</th>\n",
       "      <th>Total_Bilirubin</th>\n",
       "      <th>Direct_Bilirubin</th>\n",
       "      <th>Alkaline_Phosphotase</th>\n",
       "      <th>Alamine_Aminotransferase</th>\n",
       "      <th>Aspartate_Aminotransferase</th>\n",
       "      <th>Total_Protiens</th>\n",
       "      <th>Albumin</th>\n",
       "      <th>Albumin_and_Globulin_Ratio</th>\n",
       "      <th>Dataset</th>\n",
       "    </tr>\n",
       "  </thead>\n",
       "  <tbody>\n",
       "    <tr>\n",
       "      <td>578</td>\n",
       "      <td>60</td>\n",
       "      <td>Male</td>\n",
       "      <td>0.5</td>\n",
       "      <td>0.1</td>\n",
       "      <td>500</td>\n",
       "      <td>20</td>\n",
       "      <td>34</td>\n",
       "      <td>5.9</td>\n",
       "      <td>1.6</td>\n",
       "      <td>0.37</td>\n",
       "      <td>2</td>\n",
       "    </tr>\n",
       "    <tr>\n",
       "      <td>579</td>\n",
       "      <td>40</td>\n",
       "      <td>Male</td>\n",
       "      <td>0.6</td>\n",
       "      <td>0.1</td>\n",
       "      <td>98</td>\n",
       "      <td>35</td>\n",
       "      <td>31</td>\n",
       "      <td>6.0</td>\n",
       "      <td>3.2</td>\n",
       "      <td>1.10</td>\n",
       "      <td>1</td>\n",
       "    </tr>\n",
       "    <tr>\n",
       "      <td>580</td>\n",
       "      <td>52</td>\n",
       "      <td>Male</td>\n",
       "      <td>0.8</td>\n",
       "      <td>0.2</td>\n",
       "      <td>245</td>\n",
       "      <td>48</td>\n",
       "      <td>49</td>\n",
       "      <td>6.4</td>\n",
       "      <td>3.2</td>\n",
       "      <td>1.00</td>\n",
       "      <td>1</td>\n",
       "    </tr>\n",
       "    <tr>\n",
       "      <td>581</td>\n",
       "      <td>31</td>\n",
       "      <td>Male</td>\n",
       "      <td>1.3</td>\n",
       "      <td>0.5</td>\n",
       "      <td>184</td>\n",
       "      <td>29</td>\n",
       "      <td>32</td>\n",
       "      <td>6.8</td>\n",
       "      <td>3.4</td>\n",
       "      <td>1.00</td>\n",
       "      <td>1</td>\n",
       "    </tr>\n",
       "    <tr>\n",
       "      <td>582</td>\n",
       "      <td>38</td>\n",
       "      <td>Male</td>\n",
       "      <td>1.0</td>\n",
       "      <td>0.3</td>\n",
       "      <td>216</td>\n",
       "      <td>21</td>\n",
       "      <td>24</td>\n",
       "      <td>7.3</td>\n",
       "      <td>4.4</td>\n",
       "      <td>1.50</td>\n",
       "      <td>2</td>\n",
       "    </tr>\n",
       "  </tbody>\n",
       "</table>\n",
       "</div>"
      ],
      "text/plain": [
       "     Age Gender  Total_Bilirubin  Direct_Bilirubin  Alkaline_Phosphotase  \\\n",
       "578   60   Male              0.5               0.1                   500   \n",
       "579   40   Male              0.6               0.1                    98   \n",
       "580   52   Male              0.8               0.2                   245   \n",
       "581   31   Male              1.3               0.5                   184   \n",
       "582   38   Male              1.0               0.3                   216   \n",
       "\n",
       "     Alamine_Aminotransferase  Aspartate_Aminotransferase  Total_Protiens  \\\n",
       "578                        20                          34             5.9   \n",
       "579                        35                          31             6.0   \n",
       "580                        48                          49             6.4   \n",
       "581                        29                          32             6.8   \n",
       "582                        21                          24             7.3   \n",
       "\n",
       "     Albumin  Albumin_and_Globulin_Ratio  Dataset  \n",
       "578      1.6                        0.37        2  \n",
       "579      3.2                        1.10        1  \n",
       "580      3.2                        1.00        1  \n",
       "581      3.4                        1.00        1  \n",
       "582      4.4                        1.50        2  "
      ]
     },
     "execution_count": 411,
     "metadata": {},
     "output_type": "execute_result"
    }
   ],
   "source": [
    "url=\"http://yustiks.ru/dataset/indian_liver_patient.csv\"\n",
    "data=pd.read_csv(url)\n",
    "data.tail()"
   ]
  },
  {
   "cell_type": "markdown",
   "metadata": {
    "colab_type": "text",
    "id": "XyNNmtvIDDy3"
   },
   "source": [
    "Columns:\n",
    "\n",
    "*  Age of the patient\n",
    "*  Gender of the patient\n",
    "*  Total Bilirubin\n",
    "*  Direct Bilirubin\n",
    "*  Alkaline Phosphotase\n",
    "*  Alamine Aminotransferase\n",
    "*  Aspartate Aminotransferase\n",
    "*  Total Protiens\n",
    "*  Albumin\n",
    "*  Albumin and Globulin Ratio\n",
    "*  Dataset: field used to split the data into two sets (patient with liver disease, or no disease)\n"
   ]
  },
  {
   "cell_type": "markdown",
   "metadata": {},
   "source": [
    "Dataset: пациент с болезнью печени - 1,\n",
    "         пациент не болеет - 2"
   ]
  },
  {
   "cell_type": "markdown",
   "metadata": {
    "colab_type": "text",
    "id": "3v0ZWcBVSOXK"
   },
   "source": [
    "Построить одномерную линейную регрессию Direct_Bilirubin и Total_Bilirubin, предварительно разделив данные на 80% тренировочных и 20% тестовых. Построить график: исходных тренировочных и тестовых данных, а также прямой линейной регрессии."
   ]
  },
  {
   "cell_type": "code",
   "execution_count": 412,
   "metadata": {},
   "outputs": [],
   "source": [
    "X_train, X_test, y_train, y_test = train_test_split(\n",
    "    data['Direct_Bilirubin'],\n",
    "    data['Total_Bilirubin'],\n",
    "    test_size = 0.2,\n",
    "    random_state = 1\n",
    ")"
   ]
  },
  {
   "cell_type": "code",
   "execution_count": 413,
   "metadata": {},
   "outputs": [],
   "source": [
    "X_train = np.array(X_train).reshape(-1, 1)\n",
    "X_test = np.array(X_test).reshape(-1, 1)\n",
    "y_train = np.array(y_train).reshape(-1, 1)\n",
    "y_test = np.array(y_test).reshape(-1, 1)"
   ]
  },
  {
   "cell_type": "code",
   "execution_count": 414,
   "metadata": {},
   "outputs": [],
   "source": [
    "model = LinearRegression()"
   ]
  },
  {
   "cell_type": "code",
   "execution_count": 415,
   "metadata": {},
   "outputs": [
    {
     "data": {
      "text/plain": [
       "LinearRegression(copy_X=True, fit_intercept=True, n_jobs=None, normalize=False)"
      ]
     },
     "execution_count": 415,
     "metadata": {},
     "output_type": "execute_result"
    }
   ],
   "source": [
    "model.fit(X_train, y_train) "
   ]
  },
  {
   "cell_type": "code",
   "execution_count": 416,
   "metadata": {},
   "outputs": [
    {
     "data": {
      "text/plain": [
       "0.930804096867935"
      ]
     },
     "execution_count": 416,
     "metadata": {},
     "output_type": "execute_result"
    }
   ],
   "source": [
    "model.score(X_test, y_test)"
   ]
  },
  {
   "cell_type": "code",
   "execution_count": 417,
   "metadata": {},
   "outputs": [
    {
     "data": {
      "text/plain": [
       "<matplotlib.legend.Legend at 0x1a2ffda810>"
      ]
     },
     "execution_count": 417,
     "metadata": {},
     "output_type": "execute_result"
    },
    {
     "data": {
      "image/png": "[encoded data removed]",
      "text/plain": [
       "<Figure size 432x288 with 1 Axes>"
      ]
     },
     "metadata": {
      "needs_background": "light"
     },
     "output_type": "display_data"
    }
   ],
   "source": [
    "plt.xlabel('Direct_Bilirubin')\n",
    "plt.ylabel('Total_Bilirubin')\n",
    "plt.title('Linear Regression')\n",
    "x = np.linspace(min(X_train), max(X_train))\n",
    "y = (model.coef_*x + model.intercept_)\n",
    "plt.plot(x,y)\n",
    "plt.plot(X_train, y_train, 'r.')\n",
    "plt.plot(X_test, y_test, 'g.')\n",
    "plt.legend(['Линейная регрессия', 'Тренировочные данные', 'Тестовые данные'])\n"
   ]
  },
  {
   "cell_type": "code",
   "execution_count": null,
   "metadata": {},
   "outputs": [],
   "source": []
  },
  {
   "cell_type": "code",
   "execution_count": null,
   "metadata": {},
   "outputs": [],
   "source": []
  },
  {
   "cell_type": "code",
   "execution_count": null,
   "metadata": {},
   "outputs": [],
   "source": []
  },
  {
   "cell_type": "code",
   "execution_count": null,
   "metadata": {},
   "outputs": [],
   "source": []
  },
  {
   "cell_type": "code",
   "execution_count": null,
   "metadata": {},
   "outputs": [],
   "source": []
  },
  {
   "cell_type": "code",
   "execution_count": null,
   "metadata": {},
   "outputs": [],
   "source": []
  },
  {
   "cell_type": "markdown",
   "metadata": {},
   "source": [
    "Построить одномерную полиномиальную регрессию на Direct_Bilirubin и Total_Bilirubin, используя тренировочные и тестовые данные из шага выше. Проверить точность предсказаний на тестовых данных. Получилось ли улучшить результат?"
   ]
  },
  {
   "cell_type": "code",
   "execution_count": 418,
   "metadata": {},
   "outputs": [
    {
     "data": {
      "text/plain": [
       "LinearRegression(copy_X=True, fit_intercept=True, n_jobs=None, normalize=False)"
      ]
     },
     "execution_count": 418,
     "metadata": {},
     "output_type": "execute_result"
    }
   ],
   "source": [
    "poly_reg = PolynomialFeatures(degree=3)\n",
    "X_poly = poly_reg.fit_transform(X_train)\n",
    "\n",
    "pol_reg = LinearRegression()\n",
    "pol_reg.fit(X_poly, y_train)"
   ]
  },
  {
   "cell_type": "code",
   "execution_count": 419,
   "metadata": {},
   "outputs": [
    {
     "data": {
      "text/plain": [
       "0.9223871317241478"
      ]
     },
     "execution_count": 419,
     "metadata": {},
     "output_type": "execute_result"
    }
   ],
   "source": [
    "pol_reg.score(poly_reg.fit_transform(X_test), y_test)"
   ]
  },
  {
   "cell_type": "code",
   "execution_count": 420,
   "metadata": {},
   "outputs": [
    {
     "data": {
      "text/plain": [
       "<matplotlib.legend.Legend at 0x1a30290d10>"
      ]
     },
     "execution_count": 420,
     "metadata": {},
     "output_type": "execute_result"
    },
    {
     "data": {
      "image/png": "[encoded data removed]",
      "text/plain": [
       "<Figure size 432x288 with 1 Axes>"
      ]
     },
     "metadata": {
      "needs_background": "light"
     },
     "output_type": "display_data"
    }
   ],
   "source": [
    "plt.scatter(X_train, y_train, c='red')\n",
    "plt.scatter(X_test, y_test, c='green')\n",
    "x = np.linspace(min(X_test), max(X_train))\n",
    "y = pol_reg.predict(poly_reg.fit_transform(x))\n",
    "plt.plot(x, y, 'b')\n",
    "plt.xlabel('Direct_Bilirubin')\n",
    "plt.ylabel('Total_Bilirubin')\n",
    "plt.title('Linear Regression')\n",
    "plt.legend(['Полиномиальная регрессия', 'Тренировочные данные', 'Тестовые данные'])"
   ]
  },
  {
   "cell_type": "markdown",
   "metadata": {},
   "source": [
    "улучшить не удалось"
   ]
  },
  {
   "cell_type": "code",
   "execution_count": null,
   "metadata": {},
   "outputs": [],
   "source": []
  },
  {
   "cell_type": "code",
   "execution_count": null,
   "metadata": {},
   "outputs": [],
   "source": []
  },
  {
   "cell_type": "code",
   "execution_count": null,
   "metadata": {},
   "outputs": [],
   "source": []
  },
  {
   "cell_type": "markdown",
   "metadata": {
    "colab_type": "text",
    "id": "bv5rdcvPSi_O"
   },
   "source": [
    "Построить многомерную **логистическую регрессию** для предсказания болезни (Dataset) от всех параметров, предварительно разделив данные на 80% тренировочных и 20% тестовых.\n",
    "\n",
    "Сделать классификационный отчет (куда включить количество найденных параметров true positive и false negative). Посмотреть какой получился результат."
   ]
  },
  {
   "cell_type": "code",
   "execution_count": 421,
   "metadata": {},
   "outputs": [
    {
     "name": "stdout",
     "output_type": "stream",
     "text": [
      "Age 0\n",
      "Gender 0\n",
      "Total_Bilirubin 0\n",
      "Direct_Bilirubin 0\n",
      "Alkaline_Phosphotase 0\n",
      "Alamine_Aminotransferase 0\n",
      "Aspartate_Aminotransferase 0\n",
      "Total_Protiens 0\n",
      "Albumin 0\n",
      "Albumin_and_Globulin_Ratio 4\n",
      "Dataset 0\n"
     ]
    }
   ],
   "source": [
    "for i in data:\n",
    "    print(i, data[i].isnull().sum())  "
   ]
  },
  {
   "cell_type": "code",
   "execution_count": 422,
   "metadata": {},
   "outputs": [],
   "source": [
    "data_witout_na = data.dropna()"
   ]
  },
  {
   "cell_type": "code",
   "execution_count": 423,
   "metadata": {},
   "outputs": [
    {
     "name": "stdout",
     "output_type": "stream",
     "text": [
      "Age 0\n",
      "Gender 0\n",
      "Total_Bilirubin 0\n",
      "Direct_Bilirubin 0\n",
      "Alkaline_Phosphotase 0\n",
      "Alamine_Aminotransferase 0\n",
      "Aspartate_Aminotransferase 0\n",
      "Total_Protiens 0\n",
      "Albumin 0\n",
      "Albumin_and_Globulin_Ratio 0\n",
      "Dataset 0\n"
     ]
    }
   ],
   "source": [
    "for i in data_witout_na:\n",
    "    print(i, data_witout_na[i].isnull().sum())  "
   ]
  },
  {
   "cell_type": "code",
   "execution_count": 424,
   "metadata": {},
   "outputs": [
    {
     "data": {
      "text/html": [
       "<div>\n",
       "<style scoped>\n",
       "    .dataframe tbody tr th:only-of-type {\n",
       "        vertical-align: middle;\n",
       "    }\n",
       "\n",
       "    .dataframe tbody tr th {\n",
       "        vertical-align: top;\n",
       "    }\n",
       "\n",
       "    .dataframe thead th {\n",
       "        text-align: right;\n",
       "    }\n",
       "</style>\n",
       "<table border=\"1\" class=\"dataframe\">\n",
       "  <thead>\n",
       "    <tr style=\"text-align: right;\">\n",
       "      <th></th>\n",
       "      <th>Age</th>\n",
       "      <th>Gender</th>\n",
       "      <th>Total_Bilirubin</th>\n",
       "      <th>Direct_Bilirubin</th>\n",
       "      <th>Alkaline_Phosphotase</th>\n",
       "      <th>Alamine_Aminotransferase</th>\n",
       "      <th>Aspartate_Aminotransferase</th>\n",
       "      <th>Total_Protiens</th>\n",
       "      <th>Albumin</th>\n",
       "      <th>Albumin_and_Globulin_Ratio</th>\n",
       "    </tr>\n",
       "  </thead>\n",
       "  <tbody>\n",
       "    <tr>\n",
       "      <td>0</td>\n",
       "      <td>65</td>\n",
       "      <td>Female</td>\n",
       "      <td>0.7</td>\n",
       "      <td>0.1</td>\n",
       "      <td>187</td>\n",
       "      <td>16</td>\n",
       "      <td>18</td>\n",
       "      <td>6.8</td>\n",
       "      <td>3.3</td>\n",
       "      <td>0.90</td>\n",
       "    </tr>\n",
       "    <tr>\n",
       "      <td>1</td>\n",
       "      <td>62</td>\n",
       "      <td>Male</td>\n",
       "      <td>10.9</td>\n",
       "      <td>5.5</td>\n",
       "      <td>699</td>\n",
       "      <td>64</td>\n",
       "      <td>100</td>\n",
       "      <td>7.5</td>\n",
       "      <td>3.2</td>\n",
       "      <td>0.74</td>\n",
       "    </tr>\n",
       "    <tr>\n",
       "      <td>2</td>\n",
       "      <td>62</td>\n",
       "      <td>Male</td>\n",
       "      <td>7.3</td>\n",
       "      <td>4.1</td>\n",
       "      <td>490</td>\n",
       "      <td>60</td>\n",
       "      <td>68</td>\n",
       "      <td>7.0</td>\n",
       "      <td>3.3</td>\n",
       "      <td>0.89</td>\n",
       "    </tr>\n",
       "    <tr>\n",
       "      <td>3</td>\n",
       "      <td>58</td>\n",
       "      <td>Male</td>\n",
       "      <td>1.0</td>\n",
       "      <td>0.4</td>\n",
       "      <td>182</td>\n",
       "      <td>14</td>\n",
       "      <td>20</td>\n",
       "      <td>6.8</td>\n",
       "      <td>3.4</td>\n",
       "      <td>1.00</td>\n",
       "    </tr>\n",
       "    <tr>\n",
       "      <td>4</td>\n",
       "      <td>72</td>\n",
       "      <td>Male</td>\n",
       "      <td>3.9</td>\n",
       "      <td>2.0</td>\n",
       "      <td>195</td>\n",
       "      <td>27</td>\n",
       "      <td>59</td>\n",
       "      <td>7.3</td>\n",
       "      <td>2.4</td>\n",
       "      <td>0.40</td>\n",
       "    </tr>\n",
       "  </tbody>\n",
       "</table>\n",
       "</div>"
      ],
      "text/plain": [
       "   Age  Gender  Total_Bilirubin  Direct_Bilirubin  Alkaline_Phosphotase  \\\n",
       "0   65  Female              0.7               0.1                   187   \n",
       "1   62    Male             10.9               5.5                   699   \n",
       "2   62    Male              7.3               4.1                   490   \n",
       "3   58    Male              1.0               0.4                   182   \n",
       "4   72    Male              3.9               2.0                   195   \n",
       "\n",
       "   Alamine_Aminotransferase  Aspartate_Aminotransferase  Total_Protiens  \\\n",
       "0                        16                          18             6.8   \n",
       "1                        64                         100             7.5   \n",
       "2                        60                          68             7.0   \n",
       "3                        14                          20             6.8   \n",
       "4                        27                          59             7.3   \n",
       "\n",
       "   Albumin  Albumin_and_Globulin_Ratio  \n",
       "0      3.3                        0.90  \n",
       "1      3.2                        0.74  \n",
       "2      3.3                        0.89  \n",
       "3      3.4                        1.00  \n",
       "4      2.4                        0.40  "
      ]
     },
     "execution_count": 424,
     "metadata": {},
     "output_type": "execute_result"
    }
   ],
   "source": [
    "y = data_witout_na.Dataset\n",
    "X = data_witout_na.drop([\"Dataset\"], axis = 1)\n",
    "X.head()"
   ]
  },
  {
   "cell_type": "code",
   "execution_count": 425,
   "metadata": {
    "scrolled": true
   },
   "outputs": [],
   "source": [
    "X['Is_Man'] = (X['Gender'] == 'Male').astype('int')\n",
    "X.drop('Gender', axis = 1, inplace=True)"
   ]
  },
  {
   "cell_type": "code",
   "execution_count": 433,
   "metadata": {},
   "outputs": [],
   "source": [
    "X_train, X_test, y_train, y_test = train_test_split(\n",
    "    X, \n",
    "    y, \n",
    "    test_size=0.2, \n",
    "    random_state=1)"
   ]
  },
  {
   "cell_type": "code",
   "execution_count": 367,
   "metadata": {},
   "outputs": [
    {
     "name": "stdout",
     "output_type": "stream",
     "text": [
      "              precision    recall  f1-score   support\n",
      "\n",
      "           1       0.75      0.98      0.85        82\n",
      "           2       0.78      0.21      0.33        34\n",
      "\n",
      "    accuracy                           0.75       116\n",
      "   macro avg       0.76      0.59      0.59       116\n",
      "weighted avg       0.76      0.75      0.69       116\n",
      "\n"
     ]
    }
   ],
   "source": [
    "model = LogisticRegression(solver='liblinear').fit(X_train, y_train)\n",
    "model_pred = model.predict(X_test)\n",
    "\n",
    "print(classification_report(y_test, model_pred))"
   ]
  },
  {
   "cell_type": "code",
   "execution_count": null,
   "metadata": {},
   "outputs": [],
   "source": []
  },
  {
   "cell_type": "markdown",
   "metadata": {},
   "source": [
    "\n",
    "Улучшить модель за счет уменьшения параметров, отобранных для обучения модели. Выбрать только те атрибуты, которые коррелируют с таргет значением (атрибут Dataset) более 50% (нужно будет построить матрицу корреляций и посмотреть в ней параметры, наиболее коррелирующие с Dataset атрибутом). Проверить модель на тестовых данных, полученных выше. Построить классификационный отчет, сделать сравнение двух моделей по этим классификационным отчетам."
   ]
  },
  {
   "cell_type": "code",
   "execution_count": 435,
   "metadata": {},
   "outputs": [
    {
     "data": {
      "text/html": [
       "<style  type=\"text/css\" >\n",
       "    #T_98010b02_2629_11ea_af11_acde48001122row0_col0 {\n",
       "            background-color:  #b40426;\n",
       "            color:  #f1f1f1;\n",
       "        }    #T_98010b02_2629_11ea_af11_acde48001122row0_col1 {\n",
       "            background-color:  #799cf8;\n",
       "            color:  #000000;\n",
       "        }    #T_98010b02_2629_11ea_af11_acde48001122row0_col2 {\n",
       "            background-color:  #7da0f9;\n",
       "            color:  #000000;\n",
       "        }    #T_98010b02_2629_11ea_af11_acde48001122row0_col3 {\n",
       "            background-color:  #8fb1fe;\n",
       "            color:  #000000;\n",
       "        }    #T_98010b02_2629_11ea_af11_acde48001122row0_col4 {\n",
       "            background-color:  #4e68d8;\n",
       "            color:  #000000;\n",
       "        }    #T_98010b02_2629_11ea_af11_acde48001122row0_col5 {\n",
       "            background-color:  #5e7de7;\n",
       "            color:  #000000;\n",
       "        }    #T_98010b02_2629_11ea_af11_acde48001122row0_col6 {\n",
       "            background-color:  #3b4cc0;\n",
       "            color:  #f1f1f1;\n",
       "        }    #T_98010b02_2629_11ea_af11_acde48001122row0_col7 {\n",
       "            background-color:  #3b4cc0;\n",
       "            color:  #f1f1f1;\n",
       "        }    #T_98010b02_2629_11ea_af11_acde48001122row0_col8 {\n",
       "            background-color:  #3e51c5;\n",
       "            color:  #f1f1f1;\n",
       "        }    #T_98010b02_2629_11ea_af11_acde48001122row0_col9 {\n",
       "            background-color:  #5572df;\n",
       "            color:  #000000;\n",
       "        }    #T_98010b02_2629_11ea_af11_acde48001122row1_col0 {\n",
       "            background-color:  #82a6fb;\n",
       "            color:  #000000;\n",
       "        }    #T_98010b02_2629_11ea_af11_acde48001122row1_col1 {\n",
       "            background-color:  #b40426;\n",
       "            color:  #f1f1f1;\n",
       "        }    #T_98010b02_2629_11ea_af11_acde48001122row1_col2 {\n",
       "            background-color:  #d65244;\n",
       "            color:  #000000;\n",
       "        }    #T_98010b02_2629_11ea_af11_acde48001122row1_col3 {\n",
       "            background-color:  #b2ccfb;\n",
       "            color:  #000000;\n",
       "        }    #T_98010b02_2629_11ea_af11_acde48001122row1_col4 {\n",
       "            background-color:  #a7c5fe;\n",
       "            color:  #000000;\n",
       "        }    #T_98010b02_2629_11ea_af11_acde48001122row1_col5 {\n",
       "            background-color:  #abc8fd;\n",
       "            color:  #000000;\n",
       "        }    #T_98010b02_2629_11ea_af11_acde48001122row1_col6 {\n",
       "            background-color:  #6a8bef;\n",
       "            color:  #000000;\n",
       "        }    #T_98010b02_2629_11ea_af11_acde48001122row1_col7 {\n",
       "            background-color:  #445acc;\n",
       "            color:  #f1f1f1;\n",
       "        }    #T_98010b02_2629_11ea_af11_acde48001122row1_col8 {\n",
       "            background-color:  #4055c8;\n",
       "            color:  #f1f1f1;\n",
       "        }    #T_98010b02_2629_11ea_af11_acde48001122row1_col9 {\n",
       "            background-color:  #4055c8;\n",
       "            color:  #f1f1f1;\n",
       "        }    #T_98010b02_2629_11ea_af11_acde48001122row2_col0 {\n",
       "            background-color:  #81a4fb;\n",
       "            color:  #000000;\n",
       "        }    #T_98010b02_2629_11ea_af11_acde48001122row2_col1 {\n",
       "            background-color:  #d75445;\n",
       "            color:  #000000;\n",
       "        }    #T_98010b02_2629_11ea_af11_acde48001122row2_col2 {\n",
       "            background-color:  #b40426;\n",
       "            color:  #f1f1f1;\n",
       "        }    #T_98010b02_2629_11ea_af11_acde48001122row2_col3 {\n",
       "            background-color:  #bad0f8;\n",
       "            color:  #000000;\n",
       "        }    #T_98010b02_2629_11ea_af11_acde48001122row2_col4 {\n",
       "            background-color:  #adc9fd;\n",
       "            color:  #000000;\n",
       "        }    #T_98010b02_2629_11ea_af11_acde48001122row2_col5 {\n",
       "            background-color:  #b2ccfb;\n",
       "            color:  #000000;\n",
       "        }    #T_98010b02_2629_11ea_af11_acde48001122row2_col6 {\n",
       "            background-color:  #6c8ff1;\n",
       "            color:  #000000;\n",
       "        }    #T_98010b02_2629_11ea_af11_acde48001122row2_col7 {\n",
       "            background-color:  #4358cb;\n",
       "            color:  #f1f1f1;\n",
       "        }    #T_98010b02_2629_11ea_af11_acde48001122row2_col8 {\n",
       "            background-color:  #4358cb;\n",
       "            color:  #f1f1f1;\n",
       "        }    #T_98010b02_2629_11ea_af11_acde48001122row2_col9 {\n",
       "            background-color:  #3b4cc0;\n",
       "            color:  #f1f1f1;\n",
       "        }    #T_98010b02_2629_11ea_af11_acde48001122row3_col0 {\n",
       "            background-color:  #96b7ff;\n",
       "            color:  #000000;\n",
       "        }    #T_98010b02_2629_11ea_af11_acde48001122row3_col1 {\n",
       "            background-color:  #afcafc;\n",
       "            color:  #000000;\n",
       "        }    #T_98010b02_2629_11ea_af11_acde48001122row3_col2 {\n",
       "            background-color:  #bbd1f8;\n",
       "            color:  #000000;\n",
       "        }    #T_98010b02_2629_11ea_af11_acde48001122row3_col3 {\n",
       "            background-color:  #b40426;\n",
       "            color:  #f1f1f1;\n",
       "        }    #T_98010b02_2629_11ea_af11_acde48001122row3_col4 {\n",
       "            background-color:  #8caffe;\n",
       "            color:  #000000;\n",
       "        }    #T_98010b02_2629_11ea_af11_acde48001122row3_col5 {\n",
       "            background-color:  #96b7ff;\n",
       "            color:  #000000;\n",
       "        }    #T_98010b02_2629_11ea_af11_acde48001122row3_col6 {\n",
       "            background-color:  #6485ec;\n",
       "            color:  #000000;\n",
       "        }    #T_98010b02_2629_11ea_af11_acde48001122row3_col7 {\n",
       "            background-color:  #536edd;\n",
       "            color:  #000000;\n",
       "        }    #T_98010b02_2629_11ea_af11_acde48001122row3_col8 {\n",
       "            background-color:  #3b4cc0;\n",
       "            color:  #f1f1f1;\n",
       "        }    #T_98010b02_2629_11ea_af11_acde48001122row3_col9 {\n",
       "            background-color:  #4961d2;\n",
       "            color:  #f1f1f1;\n",
       "        }    #T_98010b02_2629_11ea_af11_acde48001122row4_col0 {\n",
       "            background-color:  #6788ee;\n",
       "            color:  #000000;\n",
       "        }    #T_98010b02_2629_11ea_af11_acde48001122row4_col1 {\n",
       "            background-color:  #b2ccfb;\n",
       "            color:  #000000;\n",
       "        }    #T_98010b02_2629_11ea_af11_acde48001122row4_col2 {\n",
       "            background-color:  #bbd1f8;\n",
       "            color:  #000000;\n",
       "        }    #T_98010b02_2629_11ea_af11_acde48001122row4_col3 {\n",
       "            background-color:  #9bbcff;\n",
       "            color:  #000000;\n",
       "        }    #T_98010b02_2629_11ea_af11_acde48001122row4_col4 {\n",
       "            background-color:  #b40426;\n",
       "            color:  #f1f1f1;\n",
       "        }    #T_98010b02_2629_11ea_af11_acde48001122row4_col5 {\n",
       "            background-color:  #ea7b60;\n",
       "            color:  #000000;\n",
       "        }    #T_98010b02_2629_11ea_af11_acde48001122row4_col6 {\n",
       "            background-color:  #6180e9;\n",
       "            color:  #000000;\n",
       "        }    #T_98010b02_2629_11ea_af11_acde48001122row4_col7 {\n",
       "            background-color:  #7699f6;\n",
       "            color:  #000000;\n",
       "        }    #T_98010b02_2629_11ea_af11_acde48001122row4_col8 {\n",
       "            background-color:  #779af7;\n",
       "            color:  #000000;\n",
       "        }    #T_98010b02_2629_11ea_af11_acde48001122row4_col9 {\n",
       "            background-color:  #4e68d8;\n",
       "            color:  #000000;\n",
       "        }    #T_98010b02_2629_11ea_af11_acde48001122row5_col0 {\n",
       "            background-color:  #799cf8;\n",
       "            color:  #000000;\n",
       "        }    #T_98010b02_2629_11ea_af11_acde48001122row5_col1 {\n",
       "            background-color:  #b9d0f9;\n",
       "            color:  #000000;\n",
       "        }    #T_98010b02_2629_11ea_af11_acde48001122row5_col2 {\n",
       "            background-color:  #c1d4f4;\n",
       "            color:  #000000;\n",
       "        }    #T_98010b02_2629_11ea_af11_acde48001122row5_col3 {\n",
       "            background-color:  #a7c5fe;\n",
       "            color:  #000000;\n",
       "        }    #T_98010b02_2629_11ea_af11_acde48001122row5_col4 {\n",
       "            background-color:  #e97a5f;\n",
       "            color:  #000000;\n",
       "        }    #T_98010b02_2629_11ea_af11_acde48001122row5_col5 {\n",
       "            background-color:  #b40426;\n",
       "            color:  #f1f1f1;\n",
       "        }    #T_98010b02_2629_11ea_af11_acde48001122row5_col6 {\n",
       "            background-color:  #6485ec;\n",
       "            color:  #000000;\n",
       "        }    #T_98010b02_2629_11ea_af11_acde48001122row5_col7 {\n",
       "            background-color:  #6788ee;\n",
       "            color:  #000000;\n",
       "        }    #T_98010b02_2629_11ea_af11_acde48001122row5_col8 {\n",
       "            background-color:  #6485ec;\n",
       "            color:  #000000;\n",
       "        }    #T_98010b02_2629_11ea_af11_acde48001122row5_col9 {\n",
       "            background-color:  #516ddb;\n",
       "            color:  #000000;\n",
       "        }    #T_98010b02_2629_11ea_af11_acde48001122row6_col0 {\n",
       "            background-color:  #4c66d6;\n",
       "            color:  #000000;\n",
       "        }    #T_98010b02_2629_11ea_af11_acde48001122row6_col1 {\n",
       "            background-color:  #7295f4;\n",
       "            color:  #000000;\n",
       "        }    #T_98010b02_2629_11ea_af11_acde48001122row6_col2 {\n",
       "            background-color:  #7a9df8;\n",
       "            color:  #000000;\n",
       "        }    #T_98010b02_2629_11ea_af11_acde48001122row6_col3 {\n",
       "            background-color:  #6f92f3;\n",
       "            color:  #000000;\n",
       "        }    #T_98010b02_2629_11ea_af11_acde48001122row6_col4 {\n",
       "            background-color:  #5a78e4;\n",
       "            color:  #000000;\n",
       "        }    #T_98010b02_2629_11ea_af11_acde48001122row6_col5 {\n",
       "            background-color:  #5d7ce6;\n",
       "            color:  #000000;\n",
       "        }    #T_98010b02_2629_11ea_af11_acde48001122row6_col6 {\n",
       "            background-color:  #b40426;\n",
       "            color:  #f1f1f1;\n",
       "        }    #T_98010b02_2629_11ea_af11_acde48001122row6_col7 {\n",
       "            background-color:  #e8765c;\n",
       "            color:  #000000;\n",
       "        }    #T_98010b02_2629_11ea_af11_acde48001122row6_col8 {\n",
       "            background-color:  #bad0f8;\n",
       "            color:  #000000;\n",
       "        }    #T_98010b02_2629_11ea_af11_acde48001122row6_col9 {\n",
       "            background-color:  #84a7fc;\n",
       "            color:  #000000;\n",
       "        }    #T_98010b02_2629_11ea_af11_acde48001122row7_col0 {\n",
       "            background-color:  #3b4cc0;\n",
       "            color:  #f1f1f1;\n",
       "        }    #T_98010b02_2629_11ea_af11_acde48001122row7_col1 {\n",
       "            background-color:  #3b4cc0;\n",
       "            color:  #f1f1f1;\n",
       "        }    #T_98010b02_2629_11ea_af11_acde48001122row7_col2 {\n",
       "            background-color:  #3e51c5;\n",
       "            color:  #f1f1f1;\n",
       "        }    #T_98010b02_2629_11ea_af11_acde48001122row7_col3 {\n",
       "            background-color:  #4b64d5;\n",
       "            color:  #f1f1f1;\n",
       "        }    #T_98010b02_2629_11ea_af11_acde48001122row7_col4 {\n",
       "            background-color:  #5e7de7;\n",
       "            color:  #000000;\n",
       "        }    #T_98010b02_2629_11ea_af11_acde48001122row7_col5 {\n",
       "            background-color:  #4b64d5;\n",
       "            color:  #f1f1f1;\n",
       "        }    #T_98010b02_2629_11ea_af11_acde48001122row7_col6 {\n",
       "            background-color:  #ea7b60;\n",
       "            color:  #000000;\n",
       "        }    #T_98010b02_2629_11ea_af11_acde48001122row7_col7 {\n",
       "            background-color:  #b40426;\n",
       "            color:  #f1f1f1;\n",
       "        }    #T_98010b02_2629_11ea_af11_acde48001122row7_col8 {\n",
       "            background-color:  #f49a7b;\n",
       "            color:  #000000;\n",
       "        }    #T_98010b02_2629_11ea_af11_acde48001122row7_col9 {\n",
       "            background-color:  #a7c5fe;\n",
       "            color:  #000000;\n",
       "        }    #T_98010b02_2629_11ea_af11_acde48001122row8_col0 {\n",
       "            background-color:  #465ecf;\n",
       "            color:  #f1f1f1;\n",
       "        }    #T_98010b02_2629_11ea_af11_acde48001122row8_col1 {\n",
       "            background-color:  #3e51c5;\n",
       "            color:  #f1f1f1;\n",
       "        }    #T_98010b02_2629_11ea_af11_acde48001122row8_col2 {\n",
       "            background-color:  #455cce;\n",
       "            color:  #f1f1f1;\n",
       "        }    #T_98010b02_2629_11ea_af11_acde48001122row8_col3 {\n",
       "            background-color:  #3b4cc0;\n",
       "            color:  #f1f1f1;\n",
       "        }    #T_98010b02_2629_11ea_af11_acde48001122row8_col4 {\n",
       "            background-color:  #6687ed;\n",
       "            color:  #000000;\n",
       "        }    #T_98010b02_2629_11ea_af11_acde48001122row8_col5 {\n",
       "            background-color:  #506bda;\n",
       "            color:  #000000;\n",
       "        }    #T_98010b02_2629_11ea_af11_acde48001122row8_col6 {\n",
       "            background-color:  #b2ccfb;\n",
       "            color:  #000000;\n",
       "        }    #T_98010b02_2629_11ea_af11_acde48001122row8_col7 {\n",
       "            background-color:  #f39778;\n",
       "            color:  #000000;\n",
       "        }    #T_98010b02_2629_11ea_af11_acde48001122row8_col8 {\n",
       "            background-color:  #b40426;\n",
       "            color:  #f1f1f1;\n",
       "        }    #T_98010b02_2629_11ea_af11_acde48001122row8_col9 {\n",
       "            background-color:  #a9c6fd;\n",
       "            color:  #000000;\n",
       "        }    #T_98010b02_2629_11ea_af11_acde48001122row9_col0 {\n",
       "            background-color:  #5a78e4;\n",
       "            color:  #000000;\n",
       "        }    #T_98010b02_2629_11ea_af11_acde48001122row9_col1 {\n",
       "            background-color:  #3b4cc0;\n",
       "            color:  #f1f1f1;\n",
       "        }    #T_98010b02_2629_11ea_af11_acde48001122row9_col2 {\n",
       "            background-color:  #3b4cc0;\n",
       "            color:  #f1f1f1;\n",
       "        }    #T_98010b02_2629_11ea_af11_acde48001122row9_col3 {\n",
       "            background-color:  #465ecf;\n",
       "            color:  #f1f1f1;\n",
       "        }    #T_98010b02_2629_11ea_af11_acde48001122row9_col4 {\n",
       "            background-color:  #3b4cc0;\n",
       "            color:  #f1f1f1;\n",
       "        }    #T_98010b02_2629_11ea_af11_acde48001122row9_col5 {\n",
       "            background-color:  #3b4cc0;\n",
       "            color:  #f1f1f1;\n",
       "        }    #T_98010b02_2629_11ea_af11_acde48001122row9_col6 {\n",
       "            background-color:  #7699f6;\n",
       "            color:  #000000;\n",
       "        }    #T_98010b02_2629_11ea_af11_acde48001122row9_col7 {\n",
       "            background-color:  #abc8fd;\n",
       "            color:  #000000;\n",
       "        }    #T_98010b02_2629_11ea_af11_acde48001122row9_col8 {\n",
       "            background-color:  #a6c4fe;\n",
       "            color:  #000000;\n",
       "        }    #T_98010b02_2629_11ea_af11_acde48001122row9_col9 {\n",
       "            background-color:  #b40426;\n",
       "            color:  #f1f1f1;\n",
       "        }</style><table id=\"T_98010b02_2629_11ea_af11_acde48001122\" ><thead>    <tr>        <th class=\"blank level0\" ></th>        <th class=\"col_heading level0 col0\" >Age</th>        <th class=\"col_heading level0 col1\" >Total_Bilirubin</th>        <th class=\"col_heading level0 col2\" >Direct_Bilirubin</th>        <th class=\"col_heading level0 col3\" >Alkaline_Phosphotase</th>        <th class=\"col_heading level0 col4\" >Alamine_Aminotransferase</th>        <th class=\"col_heading level0 col5\" >Aspartate_Aminotransferase</th>        <th class=\"col_heading level0 col6\" >Total_Protiens</th>        <th class=\"col_heading level0 col7\" >Albumin</th>        <th class=\"col_heading level0 col8\" >Albumin_and_Globulin_Ratio</th>        <th class=\"col_heading level0 col9\" >Dataset</th>    </tr></thead><tbody>\n",
       "                <tr>\n",
       "                        <th id=\"T_98010b02_2629_11ea_af11_acde48001122level0_row0\" class=\"row_heading level0 row0\" >Age</th>\n",
       "                        <td id=\"T_98010b02_2629_11ea_af11_acde48001122row0_col0\" class=\"data row0 col0\" >1</td>\n",
       "                        <td id=\"T_98010b02_2629_11ea_af11_acde48001122row0_col1\" class=\"data row0 col1\" >0.0117627</td>\n",
       "                        <td id=\"T_98010b02_2629_11ea_af11_acde48001122row0_col2\" class=\"data row0 col2\" >0.00752914</td>\n",
       "                        <td id=\"T_98010b02_2629_11ea_af11_acde48001122row0_col3\" class=\"data row0 col3\" >0.0804246</td>\n",
       "                        <td id=\"T_98010b02_2629_11ea_af11_acde48001122row0_col4\" class=\"data row0 col4\" >-0.0868828</td>\n",
       "                        <td id=\"T_98010b02_2629_11ea_af11_acde48001122row0_col5\" class=\"data row0 col5\" >-0.0199099</td>\n",
       "                        <td id=\"T_98010b02_2629_11ea_af11_acde48001122row0_col6\" class=\"data row0 col6\" >-0.187461</td>\n",
       "                        <td id=\"T_98010b02_2629_11ea_af11_acde48001122row0_col7\" class=\"data row0 col7\" >-0.265924</td>\n",
       "                        <td id=\"T_98010b02_2629_11ea_af11_acde48001122row0_col8\" class=\"data row0 col8\" >-0.216408</td>\n",
       "                        <td id=\"T_98010b02_2629_11ea_af11_acde48001122row0_col9\" class=\"data row0 col9\" >-0.137351</td>\n",
       "            </tr>\n",
       "            <tr>\n",
       "                        <th id=\"T_98010b02_2629_11ea_af11_acde48001122level0_row1\" class=\"row_heading level0 row1\" >Total_Bilirubin</th>\n",
       "                        <td id=\"T_98010b02_2629_11ea_af11_acde48001122row1_col0\" class=\"data row1 col0\" >0.0117627</td>\n",
       "                        <td id=\"T_98010b02_2629_11ea_af11_acde48001122row1_col1\" class=\"data row1 col1\" >1</td>\n",
       "                        <td id=\"T_98010b02_2629_11ea_af11_acde48001122row1_col2\" class=\"data row1 col2\" >0.874618</td>\n",
       "                        <td id=\"T_98010b02_2629_11ea_af11_acde48001122row1_col3\" class=\"data row1 col3\" >0.206669</td>\n",
       "                        <td id=\"T_98010b02_2629_11ea_af11_acde48001122row1_col4\" class=\"data row1 col4\" >0.214065</td>\n",
       "                        <td id=\"T_98010b02_2629_11ea_af11_acde48001122row1_col5\" class=\"data row1 col5\" >0.237831</td>\n",
       "                        <td id=\"T_98010b02_2629_11ea_af11_acde48001122row1_col6\" class=\"data row1 col6\" >-0.00809934</td>\n",
       "                        <td id=\"T_98010b02_2629_11ea_af11_acde48001122row1_col7\" class=\"data row1 col7\" >-0.22225</td>\n",
       "                        <td id=\"T_98010b02_2629_11ea_af11_acde48001122row1_col8\" class=\"data row1 col8\" >-0.206267</td>\n",
       "                        <td id=\"T_98010b02_2629_11ea_af11_acde48001122row1_col9\" class=\"data row1 col9\" >-0.220208</td>\n",
       "            </tr>\n",
       "            <tr>\n",
       "                        <th id=\"T_98010b02_2629_11ea_af11_acde48001122level0_row2\" class=\"row_heading level0 row2\" >Direct_Bilirubin</th>\n",
       "                        <td id=\"T_98010b02_2629_11ea_af11_acde48001122row2_col0\" class=\"data row2 col0\" >0.00752914</td>\n",
       "                        <td id=\"T_98010b02_2629_11ea_af11_acde48001122row2_col1\" class=\"data row2 col1\" >0.874618</td>\n",
       "                        <td id=\"T_98010b02_2629_11ea_af11_acde48001122row2_col2\" class=\"data row2 col2\" >1</td>\n",
       "                        <td id=\"T_98010b02_2629_11ea_af11_acde48001122row2_col3\" class=\"data row2 col3\" >0.234939</td>\n",
       "                        <td id=\"T_98010b02_2629_11ea_af11_acde48001122row2_col4\" class=\"data row2 col4\" >0.233894</td>\n",
       "                        <td id=\"T_98010b02_2629_11ea_af11_acde48001122row2_col5\" class=\"data row2 col5\" >0.257544</td>\n",
       "                        <td id=\"T_98010b02_2629_11ea_af11_acde48001122row2_col6\" class=\"data row2 col6\" >-0.000138741</td>\n",
       "                        <td id=\"T_98010b02_2629_11ea_af11_acde48001122row2_col7\" class=\"data row2 col7\" >-0.228531</td>\n",
       "                        <td id=\"T_98010b02_2629_11ea_af11_acde48001122row2_col8\" class=\"data row2 col8\" >-0.200125</td>\n",
       "                        <td id=\"T_98010b02_2629_11ea_af11_acde48001122row2_col9\" class=\"data row2 col9\" >-0.246046</td>\n",
       "            </tr>\n",
       "            <tr>\n",
       "                        <th id=\"T_98010b02_2629_11ea_af11_acde48001122level0_row3\" class=\"row_heading level0 row3\" >Alkaline_Phosphotase</th>\n",
       "                        <td id=\"T_98010b02_2629_11ea_af11_acde48001122row3_col0\" class=\"data row3 col0\" >0.0804246</td>\n",
       "                        <td id=\"T_98010b02_2629_11ea_af11_acde48001122row3_col1\" class=\"data row3 col1\" >0.206669</td>\n",
       "                        <td id=\"T_98010b02_2629_11ea_af11_acde48001122row3_col2\" class=\"data row3 col2\" >0.234939</td>\n",
       "                        <td id=\"T_98010b02_2629_11ea_af11_acde48001122row3_col3\" class=\"data row3 col3\" >1</td>\n",
       "                        <td id=\"T_98010b02_2629_11ea_af11_acde48001122row3_col4\" class=\"data row3 col4\" >0.12568</td>\n",
       "                        <td id=\"T_98010b02_2629_11ea_af11_acde48001122row3_col5\" class=\"data row3 col5\" >0.167196</td>\n",
       "                        <td id=\"T_98010b02_2629_11ea_af11_acde48001122row3_col6\" class=\"data row3 col6\" >-0.0285144</td>\n",
       "                        <td id=\"T_98010b02_2629_11ea_af11_acde48001122row3_col7\" class=\"data row3 col7\" >-0.165453</td>\n",
       "                        <td id=\"T_98010b02_2629_11ea_af11_acde48001122row3_col8\" class=\"data row3 col8\" >-0.234166</td>\n",
       "                        <td id=\"T_98010b02_2629_11ea_af11_acde48001122row3_col9\" class=\"data row3 col9\" >-0.184866</td>\n",
       "            </tr>\n",
       "            <tr>\n",
       "                        <th id=\"T_98010b02_2629_11ea_af11_acde48001122level0_row4\" class=\"row_heading level0 row4\" >Alamine_Aminotransferase</th>\n",
       "                        <td id=\"T_98010b02_2629_11ea_af11_acde48001122row4_col0\" class=\"data row4 col0\" >-0.0868828</td>\n",
       "                        <td id=\"T_98010b02_2629_11ea_af11_acde48001122row4_col1\" class=\"data row4 col1\" >0.214065</td>\n",
       "                        <td id=\"T_98010b02_2629_11ea_af11_acde48001122row4_col2\" class=\"data row4 col2\" >0.233894</td>\n",
       "                        <td id=\"T_98010b02_2629_11ea_af11_acde48001122row4_col3\" class=\"data row4 col3\" >0.12568</td>\n",
       "                        <td id=\"T_98010b02_2629_11ea_af11_acde48001122row4_col4\" class=\"data row4 col4\" >1</td>\n",
       "                        <td id=\"T_98010b02_2629_11ea_af11_acde48001122row4_col5\" class=\"data row4 col5\" >0.791966</td>\n",
       "                        <td id=\"T_98010b02_2629_11ea_af11_acde48001122row4_col6\" class=\"data row4 col6\" >-0.0425182</td>\n",
       "                        <td id=\"T_98010b02_2629_11ea_af11_acde48001122row4_col7\" class=\"data row4 col7\" >-0.0297417</td>\n",
       "                        <td id=\"T_98010b02_2629_11ea_af11_acde48001122row4_col8\" class=\"data row4 col8\" >-0.00237499</td>\n",
       "                        <td id=\"T_98010b02_2629_11ea_af11_acde48001122row4_col9\" class=\"data row4 col9\" >-0.163416</td>\n",
       "            </tr>\n",
       "            <tr>\n",
       "                        <th id=\"T_98010b02_2629_11ea_af11_acde48001122level0_row5\" class=\"row_heading level0 row5\" >Aspartate_Aminotransferase</th>\n",
       "                        <td id=\"T_98010b02_2629_11ea_af11_acde48001122row5_col0\" class=\"data row5 col0\" >-0.0199099</td>\n",
       "                        <td id=\"T_98010b02_2629_11ea_af11_acde48001122row5_col1\" class=\"data row5 col1\" >0.237831</td>\n",
       "                        <td id=\"T_98010b02_2629_11ea_af11_acde48001122row5_col2\" class=\"data row5 col2\" >0.257544</td>\n",
       "                        <td id=\"T_98010b02_2629_11ea_af11_acde48001122row5_col3\" class=\"data row5 col3\" >0.167196</td>\n",
       "                        <td id=\"T_98010b02_2629_11ea_af11_acde48001122row5_col4\" class=\"data row5 col4\" >0.791966</td>\n",
       "                        <td id=\"T_98010b02_2629_11ea_af11_acde48001122row5_col5\" class=\"data row5 col5\" >1</td>\n",
       "                        <td id=\"T_98010b02_2629_11ea_af11_acde48001122row5_col6\" class=\"data row5 col6\" >-0.0256454</td>\n",
       "                        <td id=\"T_98010b02_2629_11ea_af11_acde48001122row5_col7\" class=\"data row5 col7\" >-0.0852903</td>\n",
       "                        <td id=\"T_98010b02_2629_11ea_af11_acde48001122row5_col8\" class=\"data row5 col8\" >-0.0700398</td>\n",
       "                        <td id=\"T_98010b02_2629_11ea_af11_acde48001122row5_col9\" class=\"data row5 col9\" >-0.151934</td>\n",
       "            </tr>\n",
       "            <tr>\n",
       "                        <th id=\"T_98010b02_2629_11ea_af11_acde48001122level0_row6\" class=\"row_heading level0 row6\" >Total_Protiens</th>\n",
       "                        <td id=\"T_98010b02_2629_11ea_af11_acde48001122row6_col0\" class=\"data row6 col0\" >-0.187461</td>\n",
       "                        <td id=\"T_98010b02_2629_11ea_af11_acde48001122row6_col1\" class=\"data row6 col1\" >-0.00809934</td>\n",
       "                        <td id=\"T_98010b02_2629_11ea_af11_acde48001122row6_col2\" class=\"data row6 col2\" >-0.000138741</td>\n",
       "                        <td id=\"T_98010b02_2629_11ea_af11_acde48001122row6_col3\" class=\"data row6 col3\" >-0.0285144</td>\n",
       "                        <td id=\"T_98010b02_2629_11ea_af11_acde48001122row6_col4\" class=\"data row6 col4\" >-0.0425182</td>\n",
       "                        <td id=\"T_98010b02_2629_11ea_af11_acde48001122row6_col5\" class=\"data row6 col5\" >-0.0256454</td>\n",
       "                        <td id=\"T_98010b02_2629_11ea_af11_acde48001122row6_col6\" class=\"data row6 col6\" >1</td>\n",
       "                        <td id=\"T_98010b02_2629_11ea_af11_acde48001122row6_col7\" class=\"data row6 col7\" >0.784053</td>\n",
       "                        <td id=\"T_98010b02_2629_11ea_af11_acde48001122row6_col8\" class=\"data row6 col8\" >0.234887</td>\n",
       "                        <td id=\"T_98010b02_2629_11ea_af11_acde48001122row6_col9\" class=\"data row6 col9\" >0.0350082</td>\n",
       "            </tr>\n",
       "            <tr>\n",
       "                        <th id=\"T_98010b02_2629_11ea_af11_acde48001122level0_row7\" class=\"row_heading level0 row7\" >Albumin</th>\n",
       "                        <td id=\"T_98010b02_2629_11ea_af11_acde48001122row7_col0\" class=\"data row7 col0\" >-0.265924</td>\n",
       "                        <td id=\"T_98010b02_2629_11ea_af11_acde48001122row7_col1\" class=\"data row7 col1\" >-0.22225</td>\n",
       "                        <td id=\"T_98010b02_2629_11ea_af11_acde48001122row7_col2\" class=\"data row7 col2\" >-0.228531</td>\n",
       "                        <td id=\"T_98010b02_2629_11ea_af11_acde48001122row7_col3\" class=\"data row7 col3\" >-0.165453</td>\n",
       "                        <td id=\"T_98010b02_2629_11ea_af11_acde48001122row7_col4\" class=\"data row7 col4\" >-0.0297417</td>\n",
       "                        <td id=\"T_98010b02_2629_11ea_af11_acde48001122row7_col5\" class=\"data row7 col5\" >-0.0852903</td>\n",
       "                        <td id=\"T_98010b02_2629_11ea_af11_acde48001122row7_col6\" class=\"data row7 col6\" >0.784053</td>\n",
       "                        <td id=\"T_98010b02_2629_11ea_af11_acde48001122row7_col7\" class=\"data row7 col7\" >1</td>\n",
       "                        <td id=\"T_98010b02_2629_11ea_af11_acde48001122row7_col8\" class=\"data row7 col8\" >0.689632</td>\n",
       "                        <td id=\"T_98010b02_2629_11ea_af11_acde48001122row7_col9\" class=\"data row7 col9\" >0.161388</td>\n",
       "            </tr>\n",
       "            <tr>\n",
       "                        <th id=\"T_98010b02_2629_11ea_af11_acde48001122level0_row8\" class=\"row_heading level0 row8\" >Albumin_and_Globulin_Ratio</th>\n",
       "                        <td id=\"T_98010b02_2629_11ea_af11_acde48001122row8_col0\" class=\"data row8 col0\" >-0.216408</td>\n",
       "                        <td id=\"T_98010b02_2629_11ea_af11_acde48001122row8_col1\" class=\"data row8 col1\" >-0.206267</td>\n",
       "                        <td id=\"T_98010b02_2629_11ea_af11_acde48001122row8_col2\" class=\"data row8 col2\" >-0.200125</td>\n",
       "                        <td id=\"T_98010b02_2629_11ea_af11_acde48001122row8_col3\" class=\"data row8 col3\" >-0.234166</td>\n",
       "                        <td id=\"T_98010b02_2629_11ea_af11_acde48001122row8_col4\" class=\"data row8 col4\" >-0.00237499</td>\n",
       "                        <td id=\"T_98010b02_2629_11ea_af11_acde48001122row8_col5\" class=\"data row8 col5\" >-0.0700398</td>\n",
       "                        <td id=\"T_98010b02_2629_11ea_af11_acde48001122row8_col6\" class=\"data row8 col6\" >0.234887</td>\n",
       "                        <td id=\"T_98010b02_2629_11ea_af11_acde48001122row8_col7\" class=\"data row8 col7\" >0.689632</td>\n",
       "                        <td id=\"T_98010b02_2629_11ea_af11_acde48001122row8_col8\" class=\"data row8 col8\" >1</td>\n",
       "                        <td id=\"T_98010b02_2629_11ea_af11_acde48001122row8_col9\" class=\"data row8 col9\" >0.163131</td>\n",
       "            </tr>\n",
       "            <tr>\n",
       "                        <th id=\"T_98010b02_2629_11ea_af11_acde48001122level0_row9\" class=\"row_heading level0 row9\" >Dataset</th>\n",
       "                        <td id=\"T_98010b02_2629_11ea_af11_acde48001122row9_col0\" class=\"data row9 col0\" >-0.137351</td>\n",
       "                        <td id=\"T_98010b02_2629_11ea_af11_acde48001122row9_col1\" class=\"data row9 col1\" >-0.220208</td>\n",
       "                        <td id=\"T_98010b02_2629_11ea_af11_acde48001122row9_col2\" class=\"data row9 col2\" >-0.246046</td>\n",
       "                        <td id=\"T_98010b02_2629_11ea_af11_acde48001122row9_col3\" class=\"data row9 col3\" >-0.184866</td>\n",
       "                        <td id=\"T_98010b02_2629_11ea_af11_acde48001122row9_col4\" class=\"data row9 col4\" >-0.163416</td>\n",
       "                        <td id=\"T_98010b02_2629_11ea_af11_acde48001122row9_col5\" class=\"data row9 col5\" >-0.151934</td>\n",
       "                        <td id=\"T_98010b02_2629_11ea_af11_acde48001122row9_col6\" class=\"data row9 col6\" >0.0350082</td>\n",
       "                        <td id=\"T_98010b02_2629_11ea_af11_acde48001122row9_col7\" class=\"data row9 col7\" >0.161388</td>\n",
       "                        <td id=\"T_98010b02_2629_11ea_af11_acde48001122row9_col8\" class=\"data row9 col8\" >0.163131</td>\n",
       "                        <td id=\"T_98010b02_2629_11ea_af11_acde48001122row9_col9\" class=\"data row9 col9\" >1</td>\n",
       "            </tr>\n",
       "    </tbody></table>"
      ],
      "text/plain": [
       "<pandas.io.formats.style.Styler at 0x1a30ae1590>"
      ]
     },
     "execution_count": 435,
     "metadata": {},
     "output_type": "execute_result"
    }
   ],
   "source": [
    "data.corr().style.background_gradient(cmap='coolwarm')"
   ]
  },
  {
   "cell_type": "code",
   "execution_count": 436,
   "metadata": {},
   "outputs": [
    {
     "data": {
      "text/html": [
       "<div>\n",
       "<style scoped>\n",
       "    .dataframe tbody tr th:only-of-type {\n",
       "        vertical-align: middle;\n",
       "    }\n",
       "\n",
       "    .dataframe tbody tr th {\n",
       "        vertical-align: top;\n",
       "    }\n",
       "\n",
       "    .dataframe thead th {\n",
       "        text-align: right;\n",
       "    }\n",
       "</style>\n",
       "<table border=\"1\" class=\"dataframe\">\n",
       "  <thead>\n",
       "    <tr style=\"text-align: right;\">\n",
       "      <th></th>\n",
       "      <th>Age</th>\n",
       "      <th>Total_Bilirubin</th>\n",
       "      <th>Direct_Bilirubin</th>\n",
       "      <th>Alkaline_Phosphotase</th>\n",
       "      <th>Alamine_Aminotransferase</th>\n",
       "      <th>Aspartate_Aminotransferase</th>\n",
       "      <th>Total_Protiens</th>\n",
       "      <th>Albumin</th>\n",
       "      <th>Albumin_and_Globulin_Ratio</th>\n",
       "      <th>Is_Man</th>\n",
       "    </tr>\n",
       "  </thead>\n",
       "  <tbody>\n",
       "    <tr>\n",
       "      <td>445</td>\n",
       "      <td>17</td>\n",
       "      <td>0.9</td>\n",
       "      <td>0.2</td>\n",
       "      <td>279</td>\n",
       "      <td>40</td>\n",
       "      <td>46</td>\n",
       "      <td>7.3</td>\n",
       "      <td>4.0</td>\n",
       "      <td>1.2</td>\n",
       "      <td>1</td>\n",
       "    </tr>\n",
       "    <tr>\n",
       "      <td>407</td>\n",
       "      <td>12</td>\n",
       "      <td>1.0</td>\n",
       "      <td>0.2</td>\n",
       "      <td>719</td>\n",
       "      <td>157</td>\n",
       "      <td>108</td>\n",
       "      <td>7.2</td>\n",
       "      <td>3.7</td>\n",
       "      <td>1.0</td>\n",
       "      <td>1</td>\n",
       "    </tr>\n",
       "    <tr>\n",
       "      <td>119</td>\n",
       "      <td>32</td>\n",
       "      <td>18.0</td>\n",
       "      <td>8.2</td>\n",
       "      <td>298</td>\n",
       "      <td>1250</td>\n",
       "      <td>1050</td>\n",
       "      <td>5.4</td>\n",
       "      <td>2.6</td>\n",
       "      <td>0.9</td>\n",
       "      <td>1</td>\n",
       "    </tr>\n",
       "    <tr>\n",
       "      <td>521</td>\n",
       "      <td>55</td>\n",
       "      <td>4.4</td>\n",
       "      <td>2.9</td>\n",
       "      <td>230</td>\n",
       "      <td>14</td>\n",
       "      <td>25</td>\n",
       "      <td>7.1</td>\n",
       "      <td>2.1</td>\n",
       "      <td>0.4</td>\n",
       "      <td>1</td>\n",
       "    </tr>\n",
       "    <tr>\n",
       "      <td>498</td>\n",
       "      <td>68</td>\n",
       "      <td>1.8</td>\n",
       "      <td>0.5</td>\n",
       "      <td>151</td>\n",
       "      <td>18</td>\n",
       "      <td>22</td>\n",
       "      <td>6.5</td>\n",
       "      <td>4.0</td>\n",
       "      <td>1.6</td>\n",
       "      <td>1</td>\n",
       "    </tr>\n",
       "    <tr>\n",
       "      <td>...</td>\n",
       "      <td>...</td>\n",
       "      <td>...</td>\n",
       "      <td>...</td>\n",
       "      <td>...</td>\n",
       "      <td>...</td>\n",
       "      <td>...</td>\n",
       "      <td>...</td>\n",
       "      <td>...</td>\n",
       "      <td>...</td>\n",
       "      <td>...</td>\n",
       "    </tr>\n",
       "    <tr>\n",
       "      <td>129</td>\n",
       "      <td>45</td>\n",
       "      <td>2.8</td>\n",
       "      <td>1.7</td>\n",
       "      <td>263</td>\n",
       "      <td>57</td>\n",
       "      <td>65</td>\n",
       "      <td>5.1</td>\n",
       "      <td>2.3</td>\n",
       "      <td>0.8</td>\n",
       "      <td>1</td>\n",
       "    </tr>\n",
       "    <tr>\n",
       "      <td>144</td>\n",
       "      <td>45</td>\n",
       "      <td>3.5</td>\n",
       "      <td>1.5</td>\n",
       "      <td>189</td>\n",
       "      <td>63</td>\n",
       "      <td>87</td>\n",
       "      <td>5.6</td>\n",
       "      <td>2.9</td>\n",
       "      <td>1.0</td>\n",
       "      <td>0</td>\n",
       "    </tr>\n",
       "    <tr>\n",
       "      <td>72</td>\n",
       "      <td>75</td>\n",
       "      <td>0.8</td>\n",
       "      <td>0.2</td>\n",
       "      <td>205</td>\n",
       "      <td>27</td>\n",
       "      <td>24</td>\n",
       "      <td>4.4</td>\n",
       "      <td>2.0</td>\n",
       "      <td>0.8</td>\n",
       "      <td>0</td>\n",
       "    </tr>\n",
       "    <tr>\n",
       "      <td>236</td>\n",
       "      <td>22</td>\n",
       "      <td>0.8</td>\n",
       "      <td>0.2</td>\n",
       "      <td>300</td>\n",
       "      <td>57</td>\n",
       "      <td>40</td>\n",
       "      <td>7.9</td>\n",
       "      <td>3.8</td>\n",
       "      <td>0.9</td>\n",
       "      <td>1</td>\n",
       "    </tr>\n",
       "    <tr>\n",
       "      <td>37</td>\n",
       "      <td>46</td>\n",
       "      <td>14.2</td>\n",
       "      <td>7.8</td>\n",
       "      <td>374</td>\n",
       "      <td>38</td>\n",
       "      <td>77</td>\n",
       "      <td>4.3</td>\n",
       "      <td>2.0</td>\n",
       "      <td>0.8</td>\n",
       "      <td>0</td>\n",
       "    </tr>\n",
       "  </tbody>\n",
       "</table>\n",
       "<p>463 rows × 10 columns</p>\n",
       "</div>"
      ],
      "text/plain": [
       "     Age  Total_Bilirubin  Direct_Bilirubin  Alkaline_Phosphotase  \\\n",
       "445   17              0.9               0.2                   279   \n",
       "407   12              1.0               0.2                   719   \n",
       "119   32             18.0               8.2                   298   \n",
       "521   55              4.4               2.9                   230   \n",
       "498   68              1.8               0.5                   151   \n",
       "..   ...              ...               ...                   ...   \n",
       "129   45              2.8               1.7                   263   \n",
       "144   45              3.5               1.5                   189   \n",
       "72    75              0.8               0.2                   205   \n",
       "236   22              0.8               0.2                   300   \n",
       "37    46             14.2               7.8                   374   \n",
       "\n",
       "     Alamine_Aminotransferase  Aspartate_Aminotransferase  Total_Protiens  \\\n",
       "445                        40                          46             7.3   \n",
       "407                       157                         108             7.2   \n",
       "119                      1250                        1050             5.4   \n",
       "521                        14                          25             7.1   \n",
       "498                        18                          22             6.5   \n",
       "..                        ...                         ...             ...   \n",
       "129                        57                          65             5.1   \n",
       "144                        63                          87             5.6   \n",
       "72                         27                          24             4.4   \n",
       "236                        57                          40             7.9   \n",
       "37                         38                          77             4.3   \n",
       "\n",
       "     Albumin  Albumin_and_Globulin_Ratio  Is_Man  \n",
       "445      4.0                         1.2       1  \n",
       "407      3.7                         1.0       1  \n",
       "119      2.6                         0.9       1  \n",
       "521      2.1                         0.4       1  \n",
       "498      4.0                         1.6       1  \n",
       "..       ...                         ...     ...  \n",
       "129      2.3                         0.8       1  \n",
       "144      2.9                         1.0       0  \n",
       "72       2.0                         0.8       0  \n",
       "236      3.8                         0.9       1  \n",
       "37       2.0                         0.8       0  \n",
       "\n",
       "[463 rows x 10 columns]"
      ]
     },
     "execution_count": 436,
     "metadata": {},
     "output_type": "execute_result"
    }
   ],
   "source": [
    "X_train"
   ]
  },
  {
   "cell_type": "code",
   "execution_count": 438,
   "metadata": {},
   "outputs": [],
   "source": [
    "X_train = X_train[['Direct_Bilirubin','Total_Bilirubin']]\n",
    "X_test = X_test[['Direct_Bilirubin','Total_Bilirubin']]\n",
    "\n",
    "model = LogisticRegression(solver='liblinear').fit(X_train, y_train)"
   ]
  },
  {
   "cell_type": "code",
   "execution_count": 439,
   "metadata": {},
   "outputs": [
    {
     "name": "stdout",
     "output_type": "stream",
     "text": [
      "              precision    recall  f1-score   support\n",
      "\n",
      "           1       0.71      1.00      0.83        82\n",
      "           2       0.00      0.00      0.00        34\n",
      "\n",
      "    accuracy                           0.71       116\n",
      "   macro avg       0.35      0.50      0.41       116\n",
      "weighted avg       0.50      0.71      0.59       116\n",
      "\n"
     ]
    },
    {
     "name": "stderr",
     "output_type": "stream",
     "text": [
      "/Users/user/anaconda3/lib/python3.7/site-packages/sklearn/metrics/classification.py:1437: UndefinedMetricWarning: Precision and F-score are ill-defined and being set to 0.0 in labels with no predicted samples.\n",
      "  'precision', 'predicted', average, warn_for)\n"
     ]
    }
   ],
   "source": [
    "model_pred = model.predict(X_test)\n",
    "print(classification_report(y_test, model_pred))"
   ]
  },
  {
   "cell_type": "code",
   "execution_count": null,
   "metadata": {},
   "outputs": [],
   "source": []
  },
  {
   "cell_type": "markdown",
   "metadata": {
    "colab_type": "text",
    "id": "ZWc_9uF3PQIo"
   },
   "source": [
    "Посчитать квартили для всех колонок. "
   ]
  },
  {
   "cell_type": "code",
   "execution_count": 440,
   "metadata": {},
   "outputs": [
    {
     "data": {
      "text/html": [
       "<div>\n",
       "<style scoped>\n",
       "    .dataframe tbody tr th:only-of-type {\n",
       "        vertical-align: middle;\n",
       "    }\n",
       "\n",
       "    .dataframe tbody tr th {\n",
       "        vertical-align: top;\n",
       "    }\n",
       "\n",
       "    .dataframe thead th {\n",
       "        text-align: right;\n",
       "    }\n",
       "</style>\n",
       "<table border=\"1\" class=\"dataframe\">\n",
       "  <thead>\n",
       "    <tr style=\"text-align: right;\">\n",
       "      <th></th>\n",
       "      <th>Age</th>\n",
       "      <th>Total_Bilirubin</th>\n",
       "      <th>Direct_Bilirubin</th>\n",
       "      <th>Alkaline_Phosphotase</th>\n",
       "      <th>Alamine_Aminotransferase</th>\n",
       "      <th>Aspartate_Aminotransferase</th>\n",
       "      <th>Total_Protiens</th>\n",
       "      <th>Albumin</th>\n",
       "      <th>Albumin_and_Globulin_Ratio</th>\n",
       "      <th>Is_Man</th>\n",
       "    </tr>\n",
       "  </thead>\n",
       "  <tbody>\n",
       "    <tr>\n",
       "      <td>0.25</td>\n",
       "      <td>33.0</td>\n",
       "      <td>0.8</td>\n",
       "      <td>0.2</td>\n",
       "      <td>175.5</td>\n",
       "      <td>23.0</td>\n",
       "      <td>25.0</td>\n",
       "      <td>5.8</td>\n",
       "      <td>2.6</td>\n",
       "      <td>0.70</td>\n",
       "      <td>1.0</td>\n",
       "    </tr>\n",
       "    <tr>\n",
       "      <td>0.50</td>\n",
       "      <td>45.0</td>\n",
       "      <td>1.0</td>\n",
       "      <td>0.3</td>\n",
       "      <td>208.0</td>\n",
       "      <td>35.0</td>\n",
       "      <td>42.0</td>\n",
       "      <td>6.6</td>\n",
       "      <td>3.1</td>\n",
       "      <td>0.93</td>\n",
       "      <td>1.0</td>\n",
       "    </tr>\n",
       "    <tr>\n",
       "      <td>0.75</td>\n",
       "      <td>58.0</td>\n",
       "      <td>2.6</td>\n",
       "      <td>1.3</td>\n",
       "      <td>298.0</td>\n",
       "      <td>61.0</td>\n",
       "      <td>87.0</td>\n",
       "      <td>7.2</td>\n",
       "      <td>3.8</td>\n",
       "      <td>1.10</td>\n",
       "      <td>1.0</td>\n",
       "    </tr>\n",
       "  </tbody>\n",
       "</table>\n",
       "</div>"
      ],
      "text/plain": [
       "       Age  Total_Bilirubin  Direct_Bilirubin  Alkaline_Phosphotase  \\\n",
       "0.25  33.0              0.8               0.2                 175.5   \n",
       "0.50  45.0              1.0               0.3                 208.0   \n",
       "0.75  58.0              2.6               1.3                 298.0   \n",
       "\n",
       "      Alamine_Aminotransferase  Aspartate_Aminotransferase  Total_Protiens  \\\n",
       "0.25                      23.0                        25.0             5.8   \n",
       "0.50                      35.0                        42.0             6.6   \n",
       "0.75                      61.0                        87.0             7.2   \n",
       "\n",
       "      Albumin  Albumin_and_Globulin_Ratio  Is_Man  \n",
       "0.25      2.6                        0.70     1.0  \n",
       "0.50      3.1                        0.93     1.0  \n",
       "0.75      3.8                        1.10     1.0  "
      ]
     },
     "execution_count": 440,
     "metadata": {},
     "output_type": "execute_result"
    }
   ],
   "source": [
    "X.quantile([0.25, 0.5, 0.75])"
   ]
  },
  {
   "cell_type": "code",
   "execution_count": null,
   "metadata": {},
   "outputs": [],
   "source": []
  },
  {
   "cell_type": "code",
   "execution_count": null,
   "metadata": {},
   "outputs": [],
   "source": []
  },
  {
   "cell_type": "code",
   "execution_count": null,
   "metadata": {},
   "outputs": [],
   "source": []
  },
  {
   "cell_type": "code",
   "execution_count": null,
   "metadata": {},
   "outputs": [],
   "source": []
  },
  {
   "cell_type": "markdown",
   "metadata": {
    "colab_type": "text",
    "id": "7kwq4rqzOoz1"
   },
   "source": [
    "Построить график histogram двух выборок по наличию или отсутствию болезни: люди, возрастом до 50 лет, и люди после 50 лет. Посчитать среднее значение и квартиль 0.5 в данных выборках. Чем они отличаются?"
   ]
  },
  {
   "cell_type": "code",
   "execution_count": null,
   "metadata": {},
   "outputs": [],
   "source": []
  },
  {
   "cell_type": "code",
   "execution_count": 441,
   "metadata": {},
   "outputs": [
    {
     "data": {
      "image/png": "[encoded data removed]",
      "text/plain": [
       "<Figure size 432x288 with 1 Axes>"
      ]
     },
     "metadata": {
      "needs_background": "light"
     },
     "output_type": "display_data"
    }
   ],
   "source": [
    "plt.hist([data[(data['Age'] >= 50)]['Dataset'],\n",
    "         data[(data['Age'] < 50)]['Dataset']],  \n",
    "        label=['>= 50', '< 50'], bins = 2)\n",
    "plt.legend()\n",
    "plt.show()\n",
    "# 1 - healthy 2 - ill"
   ]
  },
  {
   "cell_type": "code",
   "execution_count": 442,
   "metadata": {},
   "outputs": [
    {
     "name": "stdout",
     "output_type": "stream",
     "text": [
      "1.2391304347826086\n",
      "1.0\n"
     ]
    }
   ],
   "source": [
    "print(data[(data['Age'] >= 50)]['Dataset'].mean())\n",
    "print(data[(data['Age'] >= 50)]['Dataset'].quantile(0.5))"
   ]
  },
  {
   "cell_type": "code",
   "execution_count": 443,
   "metadata": {},
   "outputs": [
    {
     "name": "stdout",
     "output_type": "stream",
     "text": [
      "1.3172804532577904\n",
      "1.0\n"
     ]
    }
   ],
   "source": [
    "print(data[(data['Age'] < 50)]['Dataset'].mean())\n",
    "print(data[(data['Age'] < 50)]['Dataset'].quantile(0.5))"
   ]
  },
  {
   "cell_type": "markdown",
   "metadata": {},
   "source": [
    "тк величины дискретные значения отличаются за счет того что mean не обязательнно принадлежит значениям (0,1)"
   ]
  },
  {
   "cell_type": "code",
   "execution_count": null,
   "metadata": {},
   "outputs": [],
   "source": []
  },
  {
   "cell_type": "code",
   "execution_count": null,
   "metadata": {},
   "outputs": [],
   "source": []
  },
  {
   "cell_type": "code",
   "execution_count": null,
   "metadata": {},
   "outputs": [],
   "source": []
  },
  {
   "cell_type": "code",
   "execution_count": null,
   "metadata": {},
   "outputs": [],
   "source": []
  },
  {
   "cell_type": "code",
   "execution_count": 279,
   "metadata": {},
   "outputs": [],
   "source": []
  },
  {
   "cell_type": "markdown",
   "metadata": {
    "colab_type": "text",
    "id": "QZVd-KyDQq38"
   },
   "source": [
    "\n",
    "Посчитать критерий одновыборочный t-критерий для выборки по критерию Total_Bilirubin у больных людей. Как показатель помогает понять, что выборки не похожа на генеральную совокупность?"
   ]
  },
  {
   "cell_type": "code",
   "execution_count": 444,
   "metadata": {},
   "outputs": [
    {
     "data": {
      "text/plain": [
       "Ttest_1sampResult(statistic=-27.741265868012505, pvalue=3.180002804533163e-64)"
      ]
     },
     "execution_count": 444,
     "metadata": {},
     "output_type": "execute_result"
    }
   ],
   "source": [
    "import scipy.stats as stats\n",
    "data_ill = data[data['Dataset'] == 2]['Total_Bilirubin']\n",
    "stats.ttest_1samp(data_ill, data['Total_Bilirubin'].mean())"
   ]
  },
  {
   "cell_type": "markdown",
   "metadata": {},
   "source": [
    "pvalue < 5% значит выборка не похожа на генеральную совокупность"
   ]
  },
  {
   "cell_type": "code",
   "execution_count": null,
   "metadata": {},
   "outputs": [],
   "source": []
  },
  {
   "cell_type": "markdown",
   "metadata": {
    "colab_type": "text",
    "id": "dI901FRqRC8A"
   },
   "source": [
    "Посчитать критерий t для двух выборок: больные и здоровые (по критерию Total_Bilirubin). Имеют ли данные группы схожесть?"
   ]
  },
  {
   "cell_type": "code",
   "execution_count": 445,
   "metadata": {},
   "outputs": [
    {
     "data": {
      "text/plain": [
       "Ttest_indResult(statistic=-5.441441126834863, pvalue=7.801430929364345e-08)"
      ]
     },
     "execution_count": 445,
     "metadata": {},
     "output_type": "execute_result"
    }
   ],
   "source": [
    "data_ill = data[data['Dataset']==2]['Total_Bilirubin']\n",
    "data_heal = data[data['Dataset']==1]['Total_Bilirubin']\n",
    "\n",
    "stats.ttest_ind(data_ill, data_heal)"
   ]
  },
  {
   "cell_type": "markdown",
   "metadata": {},
   "source": [
    " p-value равно 7.801430929364345e-08, что намного меньше стандартной альфа ошибки 0.05, поэтому мы отвергаем нулевую гипотезу "
   ]
  },
  {
   "cell_type": "code",
   "execution_count": null,
   "metadata": {},
   "outputs": [],
   "source": []
  },
  {
   "cell_type": "code",
   "execution_count": null,
   "metadata": {},
   "outputs": [],
   "source": []
  },
  {
   "cell_type": "code",
   "execution_count": null,
   "metadata": {},
   "outputs": [],
   "source": []
  },
  {
   "cell_type": "markdown",
   "metadata": {
    "colab_type": "text",
    "id": "2e0YHsEqAnvv"
   },
   "source": [
    "Посчитать статистическую значимость для трех выборок (по возрасту) - 1ая группа от 1 до 30 лет, 2ая группа от 30 лет до 55, 3я группа более 55 по выборке Dataset. Сравнить с реальностью (они логично что будут отличаться)."
   ]
  },
  {
   "cell_type": "code",
   "execution_count": 446,
   "metadata": {},
   "outputs": [],
   "source": [
    "group_1 = data[(data['Age'] < 30)]['Dataset']\n",
    "group_2 = data[(data['Age'] >= 30) & (data['Age'] < 55)]['Dataset']\n",
    "group_3 = data[(data['Age'] > 55)]['Dataset']"
   ]
  },
  {
   "cell_type": "code",
   "execution_count": 384,
   "metadata": {},
   "outputs": [
    {
     "data": {
      "text/plain": [
       "F_onewayResult(statistic=8.979641248857694, pvalue=0.00014494594843704077)"
      ]
     },
     "execution_count": 384,
     "metadata": {},
     "output_type": "execute_result"
    }
   ],
   "source": [
    "stats.f_oneway(group_1, group_2, group_3)"
   ]
  },
  {
   "cell_type": "markdown",
   "metadata": {},
   "source": [
    "pvalue < 5% => выборки отличаются что логично и соотносится с реальностью"
   ]
  },
  {
   "cell_type": "code",
   "execution_count": null,
   "metadata": {},
   "outputs": [],
   "source": []
  },
  {
   "cell_type": "code",
   "execution_count": null,
   "metadata": {},
   "outputs": [],
   "source": []
  },
  {
   "cell_type": "code",
   "execution_count": null,
   "metadata": {
    "colab_type": "text",
    "id": "Jm1ESbSRRPOP"
   },
   "outputs": [],
   "source": []
  },
  {
   "cell_type": "code",
   "execution_count": null,
   "metadata": {},
   "outputs": [],
   "source": []
  },
  {
   "cell_type": "code",
   "execution_count": null,
   "metadata": {},
   "outputs": [],
   "source": []
  },
  {
   "cell_type": "code",
   "execution_count": null,
   "metadata": {},
   "outputs": [],
   "source": []
  },
  {
   "cell_type": "code",
   "execution_count": null,
   "metadata": {},
   "outputs": [],
   "source": []
  },
  {
   "cell_type": "code",
   "execution_count": null,
   "metadata": {},
   "outputs": [],
   "source": []
  },
  {
   "cell_type": "code",
   "execution_count": null,
   "metadata": {},
   "outputs": [],
   "source": []
  },
  {
   "cell_type": "code",
   "execution_count": null,
   "metadata": {},
   "outputs": [],
   "source": []
  },
  {
   "cell_type": "code",
   "execution_count": null,
   "metadata": {},
   "outputs": [],
   "source": []
  },
  {
   "cell_type": "code",
   "execution_count": null,
   "metadata": {},
   "outputs": [],
   "source": []
  },
  {
   "cell_type": "code",
   "execution_count": null,
   "metadata": {},
   "outputs": [],
   "source": []
  },
  {
   "cell_type": "code",
   "execution_count": null,
   "metadata": {},
   "outputs": [],
   "source": []
  },
  {
   "cell_type": "code",
   "execution_count": null,
   "metadata": {},
   "outputs": [],
   "source": []
  },
  {
   "cell_type": "code",
   "execution_count": null,
   "metadata": {},
   "outputs": [],
   "source": []
  },
  {
   "cell_type": "code",
   "execution_count": null,
   "metadata": {},
   "outputs": [],
   "source": []
  },
  {
   "cell_type": "code",
   "execution_count": null,
   "metadata": {},
   "outputs": [],
   "source": []
  }
 ],
 "metadata": {
  "colab": {
   "collapsed_sections": [],
   "name": "dz_3.ipynb",
   "provenance": [],
   "toc_visible": true,
   "version": "0.3.2"
  },
  "kernelspec": {
   "display_name": "Python 3",
   "language": "python",
   "name": "python3"
  },
  "language_info": {
   "codemirror_mode": {
    "name": "ipython",
    "version": 3
   },
   "file_extension": ".py",
   "mimetype": "text/x-python",
   "name": "python",
   "nbconvert_exporter": "python",
   "pygments_lexer": "ipython3",
   "version": "3.7.4"
  }
 },
 "nbformat": 4,
 "nbformat_minor": 1
}
