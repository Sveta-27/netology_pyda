{
 "cells": [
  {
   "cell_type": "code",
   "execution_count": 8,
   "metadata": {},
   "outputs": [],
   "source": [
    "import pandas as pd\n",
    "from pylab import rcParams\n",
    "import matplotlib.pyplot as plt\n",
    "import plotly.express as px\n",
    "import seaborn as sns\n",
    "\n",
    "rcParams['figure.figsize'] = 12,9\n",
    "pd.options.display.max_rows = 3000"
   ]
  },
  {
   "cell_type": "code",
   "execution_count": 9,
   "metadata": {},
   "outputs": [],
   "source": [
    "# dataset from https://stats2.digitalresources.jisc.ac.uk/Index.aspx?DataSetCode=WDI# \n",
    "# and data about oil (brent) cost from https://www.macrotrends.net/2480/brent-crude-oil-prices-10-year-daily-chart"
   ]
  },
  {
   "cell_type": "code",
   "execution_count": null,
   "metadata": {},
   "outputs": [],
   "source": []
  },
  {
   "cell_type": "markdown",
   "metadata": {},
   "source": [
    "# GDP analys "
   ]
  },
  {
   "cell_type": "markdown",
   "metadata": {},
   "source": [
    "## Main countrys stats"
   ]
  },
  {
   "cell_type": "markdown",
   "metadata": {},
   "source": [
    "### проверим известное утверждение (и поймем масштабы бедствия :D) о том, что GPD (and IGS) России сильно зависит от цен на нефть"
   ]
  },
  {
   "cell_type": "code",
   "execution_count": 10,
   "metadata": {},
   "outputs": [
    {
     "data": {
      "text/html": [
       "<div>\n",
       "<style scoped>\n",
       "    .dataframe tbody tr th:only-of-type {\n",
       "        vertical-align: middle;\n",
       "    }\n",
       "\n",
       "    .dataframe tbody tr th {\n",
       "        vertical-align: top;\n",
       "    }\n",
       "\n",
       "    .dataframe thead th {\n",
       "        text-align: right;\n",
       "    }\n",
       "</style>\n",
       "<table border=\"1\" class=\"dataframe\">\n",
       "  <thead>\n",
       "    <tr style=\"text-align: right;\">\n",
       "      <th></th>\n",
       "      <th>LOCATION</th>\n",
       "      <th>Location</th>\n",
       "      <th>SUBJECT</th>\n",
       "      <th>Subject</th>\n",
       "      <th>TIME</th>\n",
       "      <th>Time</th>\n",
       "      <th>Value</th>\n",
       "      <th>Flag Codes</th>\n",
       "      <th>Flags</th>\n",
       "    </tr>\n",
       "  </thead>\n",
       "  <tbody>\n",
       "    <tr>\n",
       "      <td>0</td>\n",
       "      <td>EAR</td>\n",
       "      <td>Early-demographic dividend</td>\n",
       "      <td>NY-GDP-MKTP-CD</td>\n",
       "      <td>GDP (current US$)</td>\n",
       "      <td>2010</td>\n",
       "      <td>2010</td>\n",
       "      <td>8.547106e+12</td>\n",
       "      <td>NaN</td>\n",
       "      <td>NaN</td>\n",
       "    </tr>\n",
       "    <tr>\n",
       "      <td>1</td>\n",
       "      <td>EAR</td>\n",
       "      <td>Early-demographic dividend</td>\n",
       "      <td>NY-GDP-MKTP-CD</td>\n",
       "      <td>GDP (current US$)</td>\n",
       "      <td>2011</td>\n",
       "      <td>2011</td>\n",
       "      <td>9.582349e+12</td>\n",
       "      <td>NaN</td>\n",
       "      <td>NaN</td>\n",
       "    </tr>\n",
       "    <tr>\n",
       "      <td>2</td>\n",
       "      <td>EAR</td>\n",
       "      <td>Early-demographic dividend</td>\n",
       "      <td>NY-GDP-MKTP-CD</td>\n",
       "      <td>GDP (current US$)</td>\n",
       "      <td>2012</td>\n",
       "      <td>2012</td>\n",
       "      <td>1.004625e+13</td>\n",
       "      <td>NaN</td>\n",
       "      <td>NaN</td>\n",
       "    </tr>\n",
       "    <tr>\n",
       "      <td>3</td>\n",
       "      <td>EAR</td>\n",
       "      <td>Early-demographic dividend</td>\n",
       "      <td>NY-GDP-MKTP-CD</td>\n",
       "      <td>GDP (current US$)</td>\n",
       "      <td>2013</td>\n",
       "      <td>2013</td>\n",
       "      <td>1.022993e+13</td>\n",
       "      <td>NaN</td>\n",
       "      <td>NaN</td>\n",
       "    </tr>\n",
       "    <tr>\n",
       "      <td>4</td>\n",
       "      <td>EAR</td>\n",
       "      <td>Early-demographic dividend</td>\n",
       "      <td>NY-GDP-MKTP-CD</td>\n",
       "      <td>GDP (current US$)</td>\n",
       "      <td>2014</td>\n",
       "      <td>2014</td>\n",
       "      <td>1.059492e+13</td>\n",
       "      <td>NaN</td>\n",
       "      <td>NaN</td>\n",
       "    </tr>\n",
       "  </tbody>\n",
       "</table>\n",
       "</div>"
      ],
      "text/plain": [
       "  LOCATION                    Location         SUBJECT            Subject  \\\n",
       "0      EAR  Early-demographic dividend  NY-GDP-MKTP-CD  GDP (current US$)   \n",
       "1      EAR  Early-demographic dividend  NY-GDP-MKTP-CD  GDP (current US$)   \n",
       "2      EAR  Early-demographic dividend  NY-GDP-MKTP-CD  GDP (current US$)   \n",
       "3      EAR  Early-demographic dividend  NY-GDP-MKTP-CD  GDP (current US$)   \n",
       "4      EAR  Early-demographic dividend  NY-GDP-MKTP-CD  GDP (current US$)   \n",
       "\n",
       "   TIME  Time         Value  Flag Codes  Flags  \n",
       "0  2010  2010  8.547106e+12         NaN    NaN  \n",
       "1  2011  2011  9.582349e+12         NaN    NaN  \n",
       "2  2012  2012  1.004625e+13         NaN    NaN  \n",
       "3  2013  2013  1.022993e+13         NaN    NaN  \n",
       "4  2014  2014  1.059492e+13         NaN    NaN  "
      ]
     },
     "execution_count": 10,
     "metadata": {},
     "output_type": "execute_result"
    }
   ],
   "source": [
    "gdp = pd.read_csv('gdp2010.csv')\n",
    "# gdp = gdp[['Location','Time', 'Value']]\n",
    "gdp.head()\n"
   ]
  },
  {
   "cell_type": "code",
   "execution_count": 11,
   "metadata": {},
   "outputs": [
    {
     "data": {
      "text/plain": [
       "<BarContainer object of 14 artists>"
      ]
     },
     "execution_count": 11,
     "metadata": {},
     "output_type": "execute_result"
    },
    {
     "data": {
      "image/png": "[encoded data removed]",
      "text/plain": [
       "<Figure size 864x648 with 1 Axes>"
      ]
     },
     "metadata": {
      "needs_background": "light"
     },
     "output_type": "display_data"
    }
   ],
   "source": [
    "gdp_filtr = gdp[(gdp['Location'].isin(['Russian Federation',\n",
    "                                       'United States',\n",
    "                                       'European Union',\n",
    "                                       'China',\n",
    "                                       'Australia',\n",
    "                                       'Germany',\n",
    "                                       'Japan', \n",
    "                                       'United Kingdom', \n",
    "                                       'India', \n",
    "                                       'France',\n",
    "                                       'Italy',\n",
    "                                       'Brazil', \n",
    "                                       'Canada',\n",
    "                                       'Spain']))].sort_values('Value')\n",
    "\n",
    "plt.barh(gdp_filtr[gdp_filtr['Time']==2017]['Location'],\n",
    "         gdp_filtr[gdp_filtr['Time']==2017]['Value'])\n",
    "\n",
    "# 'World', 'Finland'"
   ]
  },
  {
   "cell_type": "code",
   "execution_count": 12,
   "metadata": {},
   "outputs": [
    {
     "data": {
      "application/vnd.plotly.v1+json": {
       "config": {
        "plotlyServerURL": "https://plot.ly"
       },
       "data": [
        {
         "coloraxis": "coloraxis",
         "geo": "geo",
         "hoverlabel": {
          "namelength": 0
         },
         "hovertemplate": "<b>%{hovertext}</b><br><br>LOCATION=%{location}<br>Value=%{z}",
         "hovertext": [
          "Arab World",
          "Central Europe and the Baltics",
          "Caribbean small states",
          "Europe & Central Asia (IDA & IBRD)",
          "Europe & Central Asia (excluding high income)",
          "Fragile and conflict affected situations",
          "Heavily Indebted Poor Countries (HIPC)",
          "IDA blend",
          "IDA only",
          "IDA total",
          "Least developed countries: UN classification",
          "Low income",
          "Middle East & North Africa",
          "Middle East & North Africa (excluding high income)",
          "Middle East & North Africa (IDA & IBRD)",
          "Other small states",
          "Pacific island small states",
          "South Asia (IDA & IBRD)",
          "Small states",
          "Pre-demographic dividend",
          "South Asia",
          "Sub-Saharan Africa (excluding high income)",
          "Sub-Saharan Africa",
          "Sub-Saharan Africa (IDA & IBRD)",
          "Albania",
          "Afghanistan",
          "Algeria",
          "Angola",
          "Antigua and Barbuda",
          "Andorra",
          "American Samoa",
          "Armenia",
          "Aruba",
          "Argentina",
          "Bahamas, The",
          "Australia",
          "Azerbaijan",
          "Austria",
          "Barbados",
          "Bangladesh",
          "Bahrain",
          "Belize",
          "Belgium",
          "Belarus",
          "Bhutan",
          "Benin",
          "Bolivia",
          "Bosnia and Herzegovina",
          "Brazil",
          "Botswana",
          "Burkina Faso",
          "Brunei Darussalam",
          "Bulgaria",
          "Cabo Verde",
          "Burundi",
          "Cambodia",
          "Central African Republic",
          "Canada",
          "Cayman Islands",
          "Cameroon",
          "Chile",
          "Chad",
          "Congo, Dem. Rep.",
          "Colombia",
          "Comoros",
          "Côte d'Ivoire",
          "Costa Rica",
          "Congo, Rep.",
          "Cyprus",
          "Curaçao",
          "Cuba",
          "Croatia",
          "Dominica",
          "Djibouti",
          "Denmark",
          "Czech Republic",
          "Ecuador",
          "Dominican Republic",
          "Egypt, Arab Rep.",
          "El Salvador",
          "Equatorial Guinea",
          "Estonia",
          "Eswatini",
          "Ethiopia",
          "Finland",
          "France",
          "Fiji",
          "Gabon",
          "Georgia",
          "Gambia, The",
          "Greece",
          "Germany",
          "Ghana",
          "Grenada",
          "Guam",
          "Guatemala",
          "Haiti",
          "Guyana",
          "Guinea-Bissau",
          "Guinea",
          "Hong Kong SAR, China",
          "Hungary",
          "Honduras",
          "Indonesia",
          "India",
          "Iceland",
          "Ireland",
          "Iraq",
          "Iran, Islamic Rep.",
          "Italy",
          "Israel",
          "Jamaica",
          "Japan",
          "Jordan",
          "Kiribati",
          "Kenya",
          "Kazakhstan",
          "Kuwait",
          "Kyrgyz Republic",
          "Korea, Rep.",
          "Kosovo",
          "Lebanon",
          "Lesotho",
          "Lao PDR",
          "Latvia",
          "Libya",
          "Lithuania",
          "Liberia",
          "Luxembourg",
          "Malawi",
          "Macao SAR, China",
          "Madagascar",
          "Maldives",
          "Mali",
          "Malaysia",
          "Mauritius",
          "Malta",
          "Marshall Islands",
          "Mauritania",
          "Moldova",
          "Micronesia, Fed. Sts.",
          "Mexico",
          "Montenegro",
          "Morocco",
          "Monaco",
          "Mongolia",
          "Nauru",
          "Myanmar",
          "Mozambique",
          "Namibia",
          "Nepal",
          "New Zealand",
          "Netherlands",
          "Nigeria",
          "Niger",
          "Nicaragua",
          "Norway",
          "North Macedonia",
          "Northern Mariana Islands",
          "Oman",
          "Palau",
          "Pakistan",
          "Panama",
          "Papua New Guinea",
          "Paraguay",
          "Peru",
          "Philippines",
          "Portugal",
          "Poland",
          "Qatar",
          "Puerto Rico",
          "Russian Federation",
          "Romania",
          "Samoa",
          "San Marino",
          "Rwanda",
          "São Tomé and Principe",
          "Senegal",
          "Saudi Arabia",
          "Serbia",
          "Seychelles",
          "Slovak Republic",
          "Sierra Leone",
          "Singapore",
          "Solomon Islands",
          "South Africa",
          "Somalia",
          "Slovenia",
          "Sri Lanka",
          "Spain",
          "St. Kitts and Nevis",
          "St. Lucia",
          "Sudan",
          "St. Vincent and the Grenadines",
          "Suriname",
          "Switzerland",
          "Sweden",
          "Tajikistan",
          "Tanzania",
          "Thailand",
          "Timor-Leste",
          "Togo",
          "Tonga",
          "Tunisia",
          "Trinidad and Tobago",
          "Turkey",
          "Turkmenistan",
          "Tuvalu",
          "Ukraine",
          "Uganda",
          "Turks and Caicos Islands",
          "United Kingdom",
          "United Arab Emirates",
          "Vanuatu",
          "Uzbekistan",
          "Uruguay",
          "Virgin Islands (U.S.)",
          "West Bank and Gaza",
          "Vietnam",
          "Yemen, Rep.",
          "Zimbabwe",
          "Zambia"
         ],
         "locations": [
          "ARB",
          "CEB",
          "CSS",
          "TEC",
          "ECA",
          "FCS",
          "HPC",
          "IDB",
          "IDX",
          "IDA",
          "LDC",
          "LIC",
          "MEA",
          "MNA",
          "TMN",
          "OSS",
          "PSS",
          "TSA",
          "SST",
          "PRE",
          "SAS",
          "SSA",
          "SSF",
          "TSS",
          "ALB",
          "AFG",
          "DZA",
          "AGO",
          "ATG",
          "AND",
          "ASM",
          "ARM",
          "ABW",
          "ARG",
          "BHS",
          "AUS",
          "AZE",
          "AUT",
          "BRB",
          "BGD",
          "BHR",
          "BLZ",
          "BEL",
          "BLR",
          "BTN",
          "BEN",
          "BOL",
          "BIH",
          "BRA",
          "BWA",
          "BFA",
          "BRN",
          "BGR",
          "CPV",
          "BDI",
          "KHM",
          "CAF",
          "CAN",
          "CYM",
          "CMR",
          "CHL",
          "TCD",
          "COD",
          "COL",
          "COM",
          "CIV",
          "CRI",
          "COG",
          "CYP",
          "CUW",
          "CUB",
          "HRV",
          "DMA",
          "DJI",
          "DNK",
          "CZE",
          "ECU",
          "DOM",
          "EGY",
          "SLV",
          "GNQ",
          "EST",
          "SWZ",
          "ETH",
          "FIN",
          "FRA",
          "FJI",
          "GAB",
          "GEO",
          "GMB",
          "GRC",
          "DEU",
          "GHA",
          "GRD",
          "GUM",
          "GTM",
          "HTI",
          "GUY",
          "GNB",
          "GIN",
          "HKG",
          "HUN",
          "HND",
          "IDN",
          "IND",
          "ISL",
          "IRL",
          "IRQ",
          "IRN",
          "ITA",
          "ISR",
          "JAM",
          "JPN",
          "JOR",
          "KIR",
          "KEN",
          "KAZ",
          "KWT",
          "KGZ",
          "KOR",
          "XKX",
          "LBN",
          "LSO",
          "LAO",
          "LVA",
          "LBY",
          "LTU",
          "LBR",
          "LUX",
          "MWI",
          "MAC",
          "MDG",
          "MDV",
          "MLI",
          "MYS",
          "MUS",
          "MLT",
          "MHL",
          "MRT",
          "MDA",
          "FSM",
          "MEX",
          "MNE",
          "MAR",
          "MCO",
          "MNG",
          "NRU",
          "MMR",
          "MOZ",
          "NAM",
          "NPL",
          "NZL",
          "NLD",
          "NGA",
          "NER",
          "NIC",
          "NOR",
          "MKD",
          "MNP",
          "OMN",
          "PLW",
          "PAK",
          "PAN",
          "PNG",
          "PRY",
          "PER",
          "PHL",
          "PRT",
          "POL",
          "QAT",
          "PRI",
          "RUS",
          "ROU",
          "WSM",
          "SMR",
          "RWA",
          "STP",
          "SEN",
          "SAU",
          "SRB",
          "SYC",
          "SVK",
          "SLE",
          "SGP",
          "SLB",
          "ZAF",
          "SOM",
          "SVN",
          "LKA",
          "ESP",
          "KNA",
          "LCA",
          "SDN",
          "VCT",
          "SUR",
          "CHE",
          "SWE",
          "TJK",
          "TZA",
          "THA",
          "TLS",
          "TGO",
          "TON",
          "TUN",
          "TTO",
          "TUR",
          "TKM",
          "TUV",
          "UKR",
          "UGA",
          "TCA",
          "GBR",
          "ARE",
          "VUT",
          "UZB",
          "URY",
          "VIR",
          "PSE",
          "VNM",
          "YEM",
          "ZWE",
          "ZMB"
         ],
         "name": "",
         "type": "choropleth",
         "z": [
          2588873647194.9,
          1455568032701.07,
          69074812658.1643,
          3898846070787.19,
          3317273632219.24,
          829812208374.292,
          753022206109.2329,
          942180672601.1841,
          1217660056890.77,
          2158608447502.58,
          1078897293216.62,
          527887616045.976,
          3275008659269.25,
          1437537340501.73,
          1422817551938.79,
          404664548115.563,
          9883385373.76577,
          3347712176123.4,
          483622746147.49396,
          1304312568918.79,
          3347712176123.4,
          1678441648981.57,
          1679945005255.79,
          1679945005255.79,
          13025062195.7906,
          20191764940.1602,
          167555280113.181,
          122123822333.591,
          1510084750.74074,
          3013387423.93509,
          634000000,
          11527458565.7334,
          2700558659.2178802,
          642695864756.35,
          12162100000,
          1330803227996.08,
          40865558912.3867,
          416835975862.194,
          4673500000,
          249723862487.36102,
          35432686170.2128,
          1862614800,
          494901708704.269,
          54726595249.1849,
          2528007911.35353,
          9246696923.66155,
          37508642257.5977,
          18080118128.3854,
          2053594973992.61,
          17406565823.2986,
          12322864244.9183,
          12128088999.9276,
          58220973782.7715,
          1771235958.20125,
          3172416146.3921,
          22177200511.5811,
          2167501639.76783,
          1646867220617.47,
          3570575151.2672296,
          34922782310.6416,
          277746457909.868,
          9975692095.40855,
          38019265625.856,
          311789874617.096,
          1068124329.8625699,
          38053610009.4172,
          58174550211.5503,
          8701334800.219759,
          22141864998.8731,
          3116610111.7318397,
          96851000000,
          55201417479.3925,
          496726248.51851904,
          1844674434.5037103,
          329865553842.833,
          215913545038.43,
          104295862000,
          75931656814.657,
          235369129337.71103,
          24927970000,
          12289913729.3358,
          26611651598.9453,
          4433664364.24725,
          81716326730.819,
          252331136734.129,
          2586285406561.51,
          5270335184.70768,
          14892609693.1667,
          15081330942.4188,
          1489464787.85603,
          203085551429.132,
          3693204332229.78,
          58996776244.424,
          1126882296.2963,
          5859000000,
          75620095537.5005,
          8408252995.161429,
          3555205811.1380205,
          1346841897.00437,
          9915311049.151329,
          341648103474.824,
          139761138102.757,
          22940179173.6147,
          1015423455783.28,
          2652551202555.27,
          24489493459.0074,
          334834010485.56,
          193158783783.784,
          454012768723.589,
          1946570340341.13,
          353268411918.577,
          14781107821.7513,
          4859950558538.97,
          40765867418.8999,
          185572501.53280202,
          78757391333.0088,
          162886867831.694,
          119551599076.82199,
          7702934800.12836,
          1530750923148.7,
          7227764976.792741,
          53393799668.325,
          2578265355.71255,
          16853087485.4118,
          30463302413.7289,
          38115981878.5647,
          47544459558.9514,
          3285455000,
          62316359824.1281,
          6303292264.18905,
          50559431846.4989,
          11465850504.0067,
          4865546025.86599,
          15339614406.6617,
          314707268049.991,
          13259351418.4459,
          12748803180.3035,
          204173400,
          4975432190.51025,
          9669759987.026329,
          336427500,
          1158071006809.62,
          4844592066.71174,
          109708728848.535,
          6400946585.53076,
          11433635875.9316,
          113880715.21933702,
          66719084835.9898,
          12651912500.4128,
          13566192142.5835,
          24880266905.4961,
          202590814084.99103,
          831809944960.879,
          375745486520.656,
          8119710126.32655,
          13843586679.5401,
          399488897844.046,
          11279509013.9119,
          1593000000,
          70783875162.5488,
          289823500,
          304951818494.06604,
          62283800000,
          22277692408.8879,
          39008900331.6733,
          210702303186.432,
          313619747740.18604,
          219308126633.62802,
          526371021088.56104,
          166928571428.57098,
          104250200000,
          1578624060588.26,
          211406933991.363,
          841538412.998896,
          1632860040.56795,
          9135454442.14013,
          375040173.816889,
          21081669870.0624,
          688586133333.333,
          44120424391.86,
          1503168689.81984,
          95617670260.1145,
          3739577973.2394295,
          338406474038.67,
          1321131090.7350302,
          349268114386.875,
          4509001513.2827,
          48455919386.0505,
          88019706803.834,
          1314314164402.2,
          992007403.125926,
          1810139888.8888898,
          123053386001.137,
          785222509.144563,
          3068766109.75333,
          678965423322.021,
          535607385506.432,
          7157865188.25222,
          53320625958.5628,
          455275517239.34705,
          2487269437.36822,
          4765866980.38429,
          430174168.740104,
          39952095560.8829,
          22250455018.8067,
          851549231502.615,
          37926285714.2857,
          40620557.13350929,
          112190355158.17801,
          25995031850.1545,
          962525840,
          2637866340434.13,
          382575085091.899,
          849708342.6984121,
          59159949231.4924,
          56488991831.0239,
          3855000000,
          14498100000,
          223779865815.183,
          26818703092.5852,
          22813010116.1292,
          25868142076.7897
         ]
        }
       ],
       "layout": {
        "coloraxis": {
         "colorbar": {
          "title": {
           "text": "Value"
          }
         },
         "colorscale": [
          [
           0,
           "#0d0887"
          ],
          [
           0.1111111111111111,
           "#46039f"
          ],
          [
           0.2222222222222222,
           "#7201a8"
          ],
          [
           0.3333333333333333,
           "#9c179e"
          ],
          [
           0.4444444444444444,
           "#bd3786"
          ],
          [
           0.5555555555555556,
           "#d8576b"
          ],
          [
           0.6666666666666666,
           "#ed7953"
          ],
          [
           0.7777777777777778,
           "#fb9f3a"
          ],
          [
           0.8888888888888888,
           "#fdca26"
          ],
          [
           1,
           "#f0f921"
          ]
         ]
        },
        "geo": {
         "center": {},
         "domain": {
          "x": [
           0,
           1
          ],
          "y": [
           0,
           1
          ]
         }
        },
        "height": 600,
        "legend": {
         "tracegroupgap": 0
        },
        "margin": {
         "t": 60
        },
        "template": {
         "data": {
          "bar": [
           {
            "error_x": {
             "color": "#2a3f5f"
            },
            "error_y": {
             "color": "#2a3f5f"
            },
            "marker": {
             "line": {
              "color": "#E5ECF6",
              "width": 0.5
             }
            },
            "type": "bar"
           }
          ],
          "barpolar": [
           {
            "marker": {
             "line": {
              "color": "#E5ECF6",
              "width": 0.5
             }
            },
            "type": "barpolar"
           }
          ],
          "carpet": [
           {
            "aaxis": {
             "endlinecolor": "#2a3f5f",
             "gridcolor": "white",
             "linecolor": "white",
             "minorgridcolor": "white",
             "startlinecolor": "#2a3f5f"
            },
            "baxis": {
             "endlinecolor": "#2a3f5f",
             "gridcolor": "white",
             "linecolor": "white",
             "minorgridcolor": "white",
             "startlinecolor": "#2a3f5f"
            },
            "type": "carpet"
           }
          ],
          "choropleth": [
           {
            "colorbar": {
             "outlinewidth": 0,
             "ticks": ""
            },
            "type": "choropleth"
           }
          ],
          "contour": [
           {
            "colorbar": {
             "outlinewidth": 0,
             "ticks": ""
            },
            "colorscale": [
             [
              0,
              "#0d0887"
             ],
             [
              0.1111111111111111,
              "#46039f"
             ],
             [
              0.2222222222222222,
              "#7201a8"
             ],
             [
              0.3333333333333333,
              "#9c179e"
             ],
             [
              0.4444444444444444,
              "#bd3786"
             ],
             [
              0.5555555555555556,
              "#d8576b"
             ],
             [
              0.6666666666666666,
              "#ed7953"
             ],
             [
              0.7777777777777778,
              "#fb9f3a"
             ],
             [
              0.8888888888888888,
              "#fdca26"
             ],
             [
              1,
              "#f0f921"
             ]
            ],
            "type": "contour"
           }
          ],
          "contourcarpet": [
           {
            "colorbar": {
             "outlinewidth": 0,
             "ticks": ""
            },
            "type": "contourcarpet"
           }
          ],
          "heatmap": [
           {
            "colorbar": {
             "outlinewidth": 0,
             "ticks": ""
            },
            "colorscale": [
             [
              0,
              "#0d0887"
             ],
             [
              0.1111111111111111,
              "#46039f"
             ],
             [
              0.2222222222222222,
              "#7201a8"
             ],
             [
              0.3333333333333333,
              "#9c179e"
             ],
             [
              0.4444444444444444,
              "#bd3786"
             ],
             [
              0.5555555555555556,
              "#d8576b"
             ],
             [
              0.6666666666666666,
              "#ed7953"
             ],
             [
              0.7777777777777778,
              "#fb9f3a"
             ],
             [
              0.8888888888888888,
              "#fdca26"
             ],
             [
              1,
              "#f0f921"
             ]
            ],
            "type": "heatmap"
           }
          ],
          "heatmapgl": [
           {
            "colorbar": {
             "outlinewidth": 0,
             "ticks": ""
            },
            "colorscale": [
             [
              0,
              "#0d0887"
             ],
             [
              0.1111111111111111,
              "#46039f"
             ],
             [
              0.2222222222222222,
              "#7201a8"
             ],
             [
              0.3333333333333333,
              "#9c179e"
             ],
             [
              0.4444444444444444,
              "#bd3786"
             ],
             [
              0.5555555555555556,
              "#d8576b"
             ],
             [
              0.6666666666666666,
              "#ed7953"
             ],
             [
              0.7777777777777778,
              "#fb9f3a"
             ],
             [
              0.8888888888888888,
              "#fdca26"
             ],
             [
              1,
              "#f0f921"
             ]
            ],
            "type": "heatmapgl"
           }
          ],
          "histogram": [
           {
            "marker": {
             "colorbar": {
              "outlinewidth": 0,
              "ticks": ""
             }
            },
            "type": "histogram"
           }
          ],
          "histogram2d": [
           {
            "colorbar": {
             "outlinewidth": 0,
             "ticks": ""
            },
            "colorscale": [
             [
              0,
              "#0d0887"
             ],
             [
              0.1111111111111111,
              "#46039f"
             ],
             [
              0.2222222222222222,
              "#7201a8"
             ],
             [
              0.3333333333333333,
              "#9c179e"
             ],
             [
              0.4444444444444444,
              "#bd3786"
             ],
             [
              0.5555555555555556,
              "#d8576b"
             ],
             [
              0.6666666666666666,
              "#ed7953"
             ],
             [
              0.7777777777777778,
              "#fb9f3a"
             ],
             [
              0.8888888888888888,
              "#fdca26"
             ],
             [
              1,
              "#f0f921"
             ]
            ],
            "type": "histogram2d"
           }
          ],
          "histogram2dcontour": [
           {
            "colorbar": {
             "outlinewidth": 0,
             "ticks": ""
            },
            "colorscale": [
             [
              0,
              "#0d0887"
             ],
             [
              0.1111111111111111,
              "#46039f"
             ],
             [
              0.2222222222222222,
              "#7201a8"
             ],
             [
              0.3333333333333333,
              "#9c179e"
             ],
             [
              0.4444444444444444,
              "#bd3786"
             ],
             [
              0.5555555555555556,
              "#d8576b"
             ],
             [
              0.6666666666666666,
              "#ed7953"
             ],
             [
              0.7777777777777778,
              "#fb9f3a"
             ],
             [
              0.8888888888888888,
              "#fdca26"
             ],
             [
              1,
              "#f0f921"
             ]
            ],
            "type": "histogram2dcontour"
           }
          ],
          "mesh3d": [
           {
            "colorbar": {
             "outlinewidth": 0,
             "ticks": ""
            },
            "type": "mesh3d"
           }
          ],
          "parcoords": [
           {
            "line": {
             "colorbar": {
              "outlinewidth": 0,
              "ticks": ""
             }
            },
            "type": "parcoords"
           }
          ],
          "pie": [
           {
            "automargin": true,
            "type": "pie"
           }
          ],
          "scatter": [
           {
            "marker": {
             "colorbar": {
              "outlinewidth": 0,
              "ticks": ""
             }
            },
            "type": "scatter"
           }
          ],
          "scatter3d": [
           {
            "line": {
             "colorbar": {
              "outlinewidth": 0,
              "ticks": ""
             }
            },
            "marker": {
             "colorbar": {
              "outlinewidth": 0,
              "ticks": ""
             }
            },
            "type": "scatter3d"
           }
          ],
          "scattercarpet": [
           {
            "marker": {
             "colorbar": {
              "outlinewidth": 0,
              "ticks": ""
             }
            },
            "type": "scattercarpet"
           }
          ],
          "scattergeo": [
           {
            "marker": {
             "colorbar": {
              "outlinewidth": 0,
              "ticks": ""
             }
            },
            "type": "scattergeo"
           }
          ],
          "scattergl": [
           {
            "marker": {
             "colorbar": {
              "outlinewidth": 0,
              "ticks": ""
             }
            },
            "type": "scattergl"
           }
          ],
          "scattermapbox": [
           {
            "marker": {
             "colorbar": {
              "outlinewidth": 0,
              "ticks": ""
             }
            },
            "type": "scattermapbox"
           }
          ],
          "scatterpolar": [
           {
            "marker": {
             "colorbar": {
              "outlinewidth": 0,
              "ticks": ""
             }
            },
            "type": "scatterpolar"
           }
          ],
          "scatterpolargl": [
           {
            "marker": {
             "colorbar": {
              "outlinewidth": 0,
              "ticks": ""
             }
            },
            "type": "scatterpolargl"
           }
          ],
          "scatterternary": [
           {
            "marker": {
             "colorbar": {
              "outlinewidth": 0,
              "ticks": ""
             }
            },
            "type": "scatterternary"
           }
          ],
          "surface": [
           {
            "colorbar": {
             "outlinewidth": 0,
             "ticks": ""
            },
            "colorscale": [
             [
              0,
              "#0d0887"
             ],
             [
              0.1111111111111111,
              "#46039f"
             ],
             [
              0.2222222222222222,
              "#7201a8"
             ],
             [
              0.3333333333333333,
              "#9c179e"
             ],
             [
              0.4444444444444444,
              "#bd3786"
             ],
             [
              0.5555555555555556,
              "#d8576b"
             ],
             [
              0.6666666666666666,
              "#ed7953"
             ],
             [
              0.7777777777777778,
              "#fb9f3a"
             ],
             [
              0.8888888888888888,
              "#fdca26"
             ],
             [
              1,
              "#f0f921"
             ]
            ],
            "type": "surface"
           }
          ],
          "table": [
           {
            "cells": {
             "fill": {
              "color": "#EBF0F8"
             },
             "line": {
              "color": "white"
             }
            },
            "header": {
             "fill": {
              "color": "#C8D4E3"
             },
             "line": {
              "color": "white"
             }
            },
            "type": "table"
           }
          ]
         },
         "layout": {
          "annotationdefaults": {
           "arrowcolor": "#2a3f5f",
           "arrowhead": 0,
           "arrowwidth": 1
          },
          "coloraxis": {
           "colorbar": {
            "outlinewidth": 0,
            "ticks": ""
           }
          },
          "colorscale": {
           "diverging": [
            [
             0,
             "#8e0152"
            ],
            [
             0.1,
             "#c51b7d"
            ],
            [
             0.2,
             "#de77ae"
            ],
            [
             0.3,
             "#f1b6da"
            ],
            [
             0.4,
             "#fde0ef"
            ],
            [
             0.5,
             "#f7f7f7"
            ],
            [
             0.6,
             "#e6f5d0"
            ],
            [
             0.7,
             "#b8e186"
            ],
            [
             0.8,
             "#7fbc41"
            ],
            [
             0.9,
             "#4d9221"
            ],
            [
             1,
             "#276419"
            ]
           ],
           "sequential": [
            [
             0,
             "#0d0887"
            ],
            [
             0.1111111111111111,
             "#46039f"
            ],
            [
             0.2222222222222222,
             "#7201a8"
            ],
            [
             0.3333333333333333,
             "#9c179e"
            ],
            [
             0.4444444444444444,
             "#bd3786"
            ],
            [
             0.5555555555555556,
             "#d8576b"
            ],
            [
             0.6666666666666666,
             "#ed7953"
            ],
            [
             0.7777777777777778,
             "#fb9f3a"
            ],
            [
             0.8888888888888888,
             "#fdca26"
            ],
            [
             1,
             "#f0f921"
            ]
           ],
           "sequentialminus": [
            [
             0,
             "#0d0887"
            ],
            [
             0.1111111111111111,
             "#46039f"
            ],
            [
             0.2222222222222222,
             "#7201a8"
            ],
            [
             0.3333333333333333,
             "#9c179e"
            ],
            [
             0.4444444444444444,
             "#bd3786"
            ],
            [
             0.5555555555555556,
             "#d8576b"
            ],
            [
             0.6666666666666666,
             "#ed7953"
            ],
            [
             0.7777777777777778,
             "#fb9f3a"
            ],
            [
             0.8888888888888888,
             "#fdca26"
            ],
            [
             1,
             "#f0f921"
            ]
           ]
          },
          "colorway": [
           "#636efa",
           "#EF553B",
           "#00cc96",
           "#ab63fa",
           "#FFA15A",
           "#19d3f3",
           "#FF6692",
           "#B6E880",
           "#FF97FF",
           "#FECB52"
          ],
          "font": {
           "color": "#2a3f5f"
          },
          "geo": {
           "bgcolor": "white",
           "lakecolor": "white",
           "landcolor": "#E5ECF6",
           "showlakes": true,
           "showland": true,
           "subunitcolor": "white"
          },
          "hoverlabel": {
           "align": "left"
          },
          "hovermode": "closest",
          "mapbox": {
           "style": "light"
          },
          "paper_bgcolor": "white",
          "plot_bgcolor": "#E5ECF6",
          "polar": {
           "angularaxis": {
            "gridcolor": "white",
            "linecolor": "white",
            "ticks": ""
           },
           "bgcolor": "#E5ECF6",
           "radialaxis": {
            "gridcolor": "white",
            "linecolor": "white",
            "ticks": ""
           }
          },
          "scene": {
           "xaxis": {
            "backgroundcolor": "#E5ECF6",
            "gridcolor": "white",
            "gridwidth": 2,
            "linecolor": "white",
            "showbackground": true,
            "ticks": "",
            "zerolinecolor": "white"
           },
           "yaxis": {
            "backgroundcolor": "#E5ECF6",
            "gridcolor": "white",
            "gridwidth": 2,
            "linecolor": "white",
            "showbackground": true,
            "ticks": "",
            "zerolinecolor": "white"
           },
           "zaxis": {
            "backgroundcolor": "#E5ECF6",
            "gridcolor": "white",
            "gridwidth": 2,
            "linecolor": "white",
            "showbackground": true,
            "ticks": "",
            "zerolinecolor": "white"
           }
          },
          "shapedefaults": {
           "line": {
            "color": "#2a3f5f"
           }
          },
          "ternary": {
           "aaxis": {
            "gridcolor": "white",
            "linecolor": "white",
            "ticks": ""
           },
           "baxis": {
            "gridcolor": "white",
            "linecolor": "white",
            "ticks": ""
           },
           "bgcolor": "#E5ECF6",
           "caxis": {
            "gridcolor": "white",
            "linecolor": "white",
            "ticks": ""
           }
          },
          "title": {
           "x": 0.05
          },
          "xaxis": {
           "automargin": true,
           "gridcolor": "white",
           "linecolor": "white",
           "ticks": "",
           "title": {
            "standoff": 15
           },
           "zerolinecolor": "white",
           "zerolinewidth": 2
          },
          "yaxis": {
           "automargin": true,
           "gridcolor": "white",
           "linecolor": "white",
           "ticks": "",
           "title": {
            "standoff": 15
           },
           "zerolinecolor": "white",
           "zerolinewidth": 2
          }
         }
        }
       }
      },
      "text/html": [
       "<div>\n",
       "        \n",
       "        \n",
       "            <div id=\"58493e64-1abc-47f0-b01a-d446012a975b\" class=\"plotly-graph-div\" style=\"height:600px; width:100%;\"></div>\n",
       "            <script type=\"text/javascript\">\n",
       "                require([\"plotly\"], function(Plotly) {\n",
       "                    window.PLOTLYENV=window.PLOTLYENV || {};\n",
       "                    \n",
       "                if (document.getElementById(\"58493e64-1abc-47f0-b01a-d446012a975b\")) {\n",
       "                    Plotly.newPlot(\n",
       "                        '58493e64-1abc-47f0-b01a-d446012a975b',\n",
       "                        [{\"coloraxis\": \"coloraxis\", \"geo\": \"geo\", \"hoverlabel\": {\"namelength\": 0}, \"hovertemplate\": \"<b>%{hovertext}</b><br><br>LOCATION=%{location}<br>Value=%{z}\", \"hovertext\": [\"Arab World\", \"Central Europe and the Baltics\", \"Caribbean small states\", \"Europe & Central Asia (IDA & IBRD)\", \"Europe & Central Asia (excluding high income)\", \"Fragile and conflict affected situations\", \"Heavily Indebted Poor Countries (HIPC)\", \"IDA blend\", \"IDA only\", \"IDA total\", \"Least developed countries: UN classification\", \"Low income\", \"Middle East & North Africa\", \"Middle East & North Africa (excluding high income)\", \"Middle East & North Africa (IDA & IBRD)\", \"Other small states\", \"Pacific island small states\", \"South Asia (IDA & IBRD)\", \"Small states\", \"Pre-demographic dividend\", \"South Asia\", \"Sub-Saharan Africa (excluding high income)\", \"Sub-Saharan Africa\", \"Sub-Saharan Africa (IDA & IBRD)\", \"Albania\", \"Afghanistan\", \"Algeria\", \"Angola\", \"Antigua and Barbuda\", \"Andorra\", \"American Samoa\", \"Armenia\", \"Aruba\", \"Argentina\", \"Bahamas, The\", \"Australia\", \"Azerbaijan\", \"Austria\", \"Barbados\", \"Bangladesh\", \"Bahrain\", \"Belize\", \"Belgium\", \"Belarus\", \"Bhutan\", \"Benin\", \"Bolivia\", \"Bosnia and Herzegovina\", \"Brazil\", \"Botswana\", \"Burkina Faso\", \"Brunei Darussalam\", \"Bulgaria\", \"Cabo Verde\", \"Burundi\", \"Cambodia\", \"Central African Republic\", \"Canada\", \"Cayman Islands\", \"Cameroon\", \"Chile\", \"Chad\", \"Congo, Dem. Rep.\", \"Colombia\", \"Comoros\", \"C\\u00f4te d'Ivoire\", \"Costa Rica\", \"Congo, Rep.\", \"Cyprus\", \"Cura\\u00e7ao\", \"Cuba\", \"Croatia\", \"Dominica\", \"Djibouti\", \"Denmark\", \"Czech Republic\", \"Ecuador\", \"Dominican Republic\", \"Egypt, Arab Rep.\", \"El Salvador\", \"Equatorial Guinea\", \"Estonia\", \"Eswatini\", \"Ethiopia\", \"Finland\", \"France\", \"Fiji\", \"Gabon\", \"Georgia\", \"Gambia, The\", \"Greece\", \"Germany\", \"Ghana\", \"Grenada\", \"Guam\", \"Guatemala\", \"Haiti\", \"Guyana\", \"Guinea-Bissau\", \"Guinea\", \"Hong Kong SAR, China\", \"Hungary\", \"Honduras\", \"Indonesia\", \"India\", \"Iceland\", \"Ireland\", \"Iraq\", \"Iran, Islamic Rep.\", \"Italy\", \"Israel\", \"Jamaica\", \"Japan\", \"Jordan\", \"Kiribati\", \"Kenya\", \"Kazakhstan\", \"Kuwait\", \"Kyrgyz Republic\", \"Korea, Rep.\", \"Kosovo\", \"Lebanon\", \"Lesotho\", \"Lao PDR\", \"Latvia\", \"Libya\", \"Lithuania\", \"Liberia\", \"Luxembourg\", \"Malawi\", \"Macao SAR, China\", \"Madagascar\", \"Maldives\", \"Mali\", \"Malaysia\", \"Mauritius\", \"Malta\", \"Marshall Islands\", \"Mauritania\", \"Moldova\", \"Micronesia, Fed. Sts.\", \"Mexico\", \"Montenegro\", \"Morocco\", \"Monaco\", \"Mongolia\", \"Nauru\", \"Myanmar\", \"Mozambique\", \"Namibia\", \"Nepal\", \"New Zealand\", \"Netherlands\", \"Nigeria\", \"Niger\", \"Nicaragua\", \"Norway\", \"North Macedonia\", \"Northern Mariana Islands\", \"Oman\", \"Palau\", \"Pakistan\", \"Panama\", \"Papua New Guinea\", \"Paraguay\", \"Peru\", \"Philippines\", \"Portugal\", \"Poland\", \"Qatar\", \"Puerto Rico\", \"Russian Federation\", \"Romania\", \"Samoa\", \"San Marino\", \"Rwanda\", \"S\\u00e3o Tom\\u00e9 and Principe\", \"Senegal\", \"Saudi Arabia\", \"Serbia\", \"Seychelles\", \"Slovak Republic\", \"Sierra Leone\", \"Singapore\", \"Solomon Islands\", \"South Africa\", \"Somalia\", \"Slovenia\", \"Sri Lanka\", \"Spain\", \"St. Kitts and Nevis\", \"St. Lucia\", \"Sudan\", \"St. Vincent and the Grenadines\", \"Suriname\", \"Switzerland\", \"Sweden\", \"Tajikistan\", \"Tanzania\", \"Thailand\", \"Timor-Leste\", \"Togo\", \"Tonga\", \"Tunisia\", \"Trinidad and Tobago\", \"Turkey\", \"Turkmenistan\", \"Tuvalu\", \"Ukraine\", \"Uganda\", \"Turks and Caicos Islands\", \"United Kingdom\", \"United Arab Emirates\", \"Vanuatu\", \"Uzbekistan\", \"Uruguay\", \"Virgin Islands (U.S.)\", \"West Bank and Gaza\", \"Vietnam\", \"Yemen, Rep.\", \"Zimbabwe\", \"Zambia\"], \"locations\": [\"ARB\", \"CEB\", \"CSS\", \"TEC\", \"ECA\", \"FCS\", \"HPC\", \"IDB\", \"IDX\", \"IDA\", \"LDC\", \"LIC\", \"MEA\", \"MNA\", \"TMN\", \"OSS\", \"PSS\", \"TSA\", \"SST\", \"PRE\", \"SAS\", \"SSA\", \"SSF\", \"TSS\", \"ALB\", \"AFG\", \"DZA\", \"AGO\", \"ATG\", \"AND\", \"ASM\", \"ARM\", \"ABW\", \"ARG\", \"BHS\", \"AUS\", \"AZE\", \"AUT\", \"BRB\", \"BGD\", \"BHR\", \"BLZ\", \"BEL\", \"BLR\", \"BTN\", \"BEN\", \"BOL\", \"BIH\", \"BRA\", \"BWA\", \"BFA\", \"BRN\", \"BGR\", \"CPV\", \"BDI\", \"KHM\", \"CAF\", \"CAN\", \"CYM\", \"CMR\", \"CHL\", \"TCD\", \"COD\", \"COL\", \"COM\", \"CIV\", \"CRI\", \"COG\", \"CYP\", \"CUW\", \"CUB\", \"HRV\", \"DMA\", \"DJI\", \"DNK\", \"CZE\", \"ECU\", \"DOM\", \"EGY\", \"SLV\", \"GNQ\", \"EST\", \"SWZ\", \"ETH\", \"FIN\", \"FRA\", \"FJI\", \"GAB\", \"GEO\", \"GMB\", \"GRC\", \"DEU\", \"GHA\", \"GRD\", \"GUM\", \"GTM\", \"HTI\", \"GUY\", \"GNB\", \"GIN\", \"HKG\", \"HUN\", \"HND\", \"IDN\", \"IND\", \"ISL\", \"IRL\", \"IRQ\", \"IRN\", \"ITA\", \"ISR\", \"JAM\", \"JPN\", \"JOR\", \"KIR\", \"KEN\", \"KAZ\", \"KWT\", \"KGZ\", \"KOR\", \"XKX\", \"LBN\", \"LSO\", \"LAO\", \"LVA\", \"LBY\", \"LTU\", \"LBR\", \"LUX\", \"MWI\", \"MAC\", \"MDG\", \"MDV\", \"MLI\", \"MYS\", \"MUS\", \"MLT\", \"MHL\", \"MRT\", \"MDA\", \"FSM\", \"MEX\", \"MNE\", \"MAR\", \"MCO\", \"MNG\", \"NRU\", \"MMR\", \"MOZ\", \"NAM\", \"NPL\", \"NZL\", \"NLD\", \"NGA\", \"NER\", \"NIC\", \"NOR\", \"MKD\", \"MNP\", \"OMN\", \"PLW\", \"PAK\", \"PAN\", \"PNG\", \"PRY\", \"PER\", \"PHL\", \"PRT\", \"POL\", \"QAT\", \"PRI\", \"RUS\", \"ROU\", \"WSM\", \"SMR\", \"RWA\", \"STP\", \"SEN\", \"SAU\", \"SRB\", \"SYC\", \"SVK\", \"SLE\", \"SGP\", \"SLB\", \"ZAF\", \"SOM\", \"SVN\", \"LKA\", \"ESP\", \"KNA\", \"LCA\", \"SDN\", \"VCT\", \"SUR\", \"CHE\", \"SWE\", \"TJK\", \"TZA\", \"THA\", \"TLS\", \"TGO\", \"TON\", \"TUN\", \"TTO\", \"TUR\", \"TKM\", \"TUV\", \"UKR\", \"UGA\", \"TCA\", \"GBR\", \"ARE\", \"VUT\", \"UZB\", \"URY\", \"VIR\", \"PSE\", \"VNM\", \"YEM\", \"ZWE\", \"ZMB\"], \"name\": \"\", \"type\": \"choropleth\", \"z\": [2588873647194.9, 1455568032701.07, 69074812658.1643, 3898846070787.19, 3317273632219.24, 829812208374.292, 753022206109.2329, 942180672601.1841, 1217660056890.77, 2158608447502.58, 1078897293216.62, 527887616045.976, 3275008659269.25, 1437537340501.73, 1422817551938.79, 404664548115.563, 9883385373.76577, 3347712176123.4, 483622746147.49396, 1304312568918.79, 3347712176123.4, 1678441648981.57, 1679945005255.79, 1679945005255.79, 13025062195.7906, 20191764940.1602, 167555280113.181, 122123822333.591, 1510084750.74074, 3013387423.93509, 634000000.0, 11527458565.7334, 2700558659.2178802, 642695864756.35, 12162100000.0, 1330803227996.08, 40865558912.3867, 416835975862.194, 4673500000.0, 249723862487.36102, 35432686170.2128, 1862614800.0, 494901708704.269, 54726595249.1849, 2528007911.35353, 9246696923.66155, 37508642257.5977, 18080118128.3854, 2053594973992.61, 17406565823.2986, 12322864244.9183, 12128088999.9276, 58220973782.7715, 1771235958.20125, 3172416146.3921, 22177200511.5811, 2167501639.76783, 1646867220617.47, 3570575151.2672296, 34922782310.6416, 277746457909.868, 9975692095.40855, 38019265625.856, 311789874617.096, 1068124329.8625699, 38053610009.4172, 58174550211.5503, 8701334800.219759, 22141864998.8731, 3116610111.7318397, 96851000000.0, 55201417479.3925, 496726248.51851904, 1844674434.5037103, 329865553842.833, 215913545038.43, 104295862000.0, 75931656814.657, 235369129337.71103, 24927970000.0, 12289913729.3358, 26611651598.9453, 4433664364.24725, 81716326730.819, 252331136734.129, 2586285406561.51, 5270335184.70768, 14892609693.1667, 15081330942.4188, 1489464787.85603, 203085551429.132, 3693204332229.78, 58996776244.424, 1126882296.2963, 5859000000.0, 75620095537.5005, 8408252995.161429, 3555205811.1380205, 1346841897.00437, 9915311049.151329, 341648103474.824, 139761138102.757, 22940179173.6147, 1015423455783.28, 2652551202555.27, 24489493459.0074, 334834010485.56, 193158783783.784, 454012768723.589, 1946570340341.13, 353268411918.577, 14781107821.7513, 4859950558538.97, 40765867418.8999, 185572501.53280202, 78757391333.0088, 162886867831.694, 119551599076.82199, 7702934800.12836, 1530750923148.7, 7227764976.792741, 53393799668.325, 2578265355.71255, 16853087485.4118, 30463302413.7289, 38115981878.5647, 47544459558.9514, 3285455000.0, 62316359824.1281, 6303292264.18905, 50559431846.4989, 11465850504.0067, 4865546025.86599, 15339614406.6617, 314707268049.991, 13259351418.4459, 12748803180.3035, 204173400.0, 4975432190.51025, 9669759987.026329, 336427500.0, 1158071006809.62, 4844592066.71174, 109708728848.535, 6400946585.53076, 11433635875.9316, 113880715.21933702, 66719084835.9898, 12651912500.4128, 13566192142.5835, 24880266905.4961, 202590814084.99103, 831809944960.879, 375745486520.656, 8119710126.32655, 13843586679.5401, 399488897844.046, 11279509013.9119, 1593000000.0, 70783875162.5488, 289823500.0, 304951818494.06604, 62283800000.0, 22277692408.8879, 39008900331.6733, 210702303186.432, 313619747740.18604, 219308126633.62802, 526371021088.56104, 166928571428.57098, 104250200000.0, 1578624060588.26, 211406933991.363, 841538412.998896, 1632860040.56795, 9135454442.14013, 375040173.816889, 21081669870.0624, 688586133333.333, 44120424391.86, 1503168689.81984, 95617670260.1145, 3739577973.2394295, 338406474038.67, 1321131090.7350302, 349268114386.875, 4509001513.2827, 48455919386.0505, 88019706803.834, 1314314164402.2, 992007403.125926, 1810139888.8888898, 123053386001.137, 785222509.144563, 3068766109.75333, 678965423322.021, 535607385506.432, 7157865188.25222, 53320625958.5628, 455275517239.34705, 2487269437.36822, 4765866980.38429, 430174168.740104, 39952095560.8829, 22250455018.8067, 851549231502.615, 37926285714.2857, 40620557.13350929, 112190355158.17801, 25995031850.1545, 962525840.0, 2637866340434.13, 382575085091.899, 849708342.6984121, 59159949231.4924, 56488991831.0239, 3855000000.0, 14498100000.0, 223779865815.183, 26818703092.5852, 22813010116.1292, 25868142076.7897]}],\n",
       "                        {\"coloraxis\": {\"colorbar\": {\"title\": {\"text\": \"Value\"}}, \"colorscale\": [[0.0, \"#0d0887\"], [0.1111111111111111, \"#46039f\"], [0.2222222222222222, \"#7201a8\"], [0.3333333333333333, \"#9c179e\"], [0.4444444444444444, \"#bd3786\"], [0.5555555555555556, \"#d8576b\"], [0.6666666666666666, \"#ed7953\"], [0.7777777777777778, \"#fb9f3a\"], [0.8888888888888888, \"#fdca26\"], [1.0, \"#f0f921\"]]}, \"geo\": {\"center\": {}, \"domain\": {\"x\": [0.0, 1.0], \"y\": [0.0, 1.0]}}, \"height\": 600, \"legend\": {\"tracegroupgap\": 0}, \"margin\": {\"t\": 60}, \"template\": {\"data\": {\"bar\": [{\"error_x\": {\"color\": \"#2a3f5f\"}, \"error_y\": {\"color\": \"#2a3f5f\"}, \"marker\": {\"line\": {\"color\": \"#E5ECF6\", \"width\": 0.5}}, \"type\": \"bar\"}], \"barpolar\": [{\"marker\": {\"line\": {\"color\": \"#E5ECF6\", \"width\": 0.5}}, \"type\": \"barpolar\"}], \"carpet\": [{\"aaxis\": {\"endlinecolor\": \"#2a3f5f\", \"gridcolor\": \"white\", \"linecolor\": \"white\", \"minorgridcolor\": \"white\", \"startlinecolor\": \"#2a3f5f\"}, \"baxis\": {\"endlinecolor\": \"#2a3f5f\", \"gridcolor\": \"white\", \"linecolor\": \"white\", \"minorgridcolor\": \"white\", \"startlinecolor\": \"#2a3f5f\"}, \"type\": \"carpet\"}], \"choropleth\": [{\"colorbar\": {\"outlinewidth\": 0, \"ticks\": \"\"}, \"type\": \"choropleth\"}], \"contour\": [{\"colorbar\": {\"outlinewidth\": 0, \"ticks\": \"\"}, \"colorscale\": [[0.0, \"#0d0887\"], [0.1111111111111111, \"#46039f\"], [0.2222222222222222, \"#7201a8\"], [0.3333333333333333, \"#9c179e\"], [0.4444444444444444, \"#bd3786\"], [0.5555555555555556, \"#d8576b\"], [0.6666666666666666, \"#ed7953\"], [0.7777777777777778, \"#fb9f3a\"], [0.8888888888888888, \"#fdca26\"], [1.0, \"#f0f921\"]], \"type\": \"contour\"}], \"contourcarpet\": [{\"colorbar\": {\"outlinewidth\": 0, \"ticks\": \"\"}, \"type\": \"contourcarpet\"}], \"heatmap\": [{\"colorbar\": {\"outlinewidth\": 0, \"ticks\": \"\"}, \"colorscale\": [[0.0, \"#0d0887\"], [0.1111111111111111, \"#46039f\"], [0.2222222222222222, \"#7201a8\"], [0.3333333333333333, \"#9c179e\"], [0.4444444444444444, \"#bd3786\"], [0.5555555555555556, \"#d8576b\"], [0.6666666666666666, \"#ed7953\"], [0.7777777777777778, \"#fb9f3a\"], [0.8888888888888888, \"#fdca26\"], [1.0, \"#f0f921\"]], \"type\": \"heatmap\"}], \"heatmapgl\": [{\"colorbar\": {\"outlinewidth\": 0, \"ticks\": \"\"}, \"colorscale\": [[0.0, \"#0d0887\"], [0.1111111111111111, \"#46039f\"], [0.2222222222222222, \"#7201a8\"], [0.3333333333333333, \"#9c179e\"], [0.4444444444444444, \"#bd3786\"], [0.5555555555555556, \"#d8576b\"], [0.6666666666666666, \"#ed7953\"], [0.7777777777777778, \"#fb9f3a\"], [0.8888888888888888, \"#fdca26\"], [1.0, \"#f0f921\"]], \"type\": \"heatmapgl\"}], \"histogram\": [{\"marker\": {\"colorbar\": {\"outlinewidth\": 0, \"ticks\": \"\"}}, \"type\": \"histogram\"}], \"histogram2d\": [{\"colorbar\": {\"outlinewidth\": 0, \"ticks\": \"\"}, \"colorscale\": [[0.0, \"#0d0887\"], [0.1111111111111111, \"#46039f\"], [0.2222222222222222, \"#7201a8\"], [0.3333333333333333, \"#9c179e\"], [0.4444444444444444, \"#bd3786\"], [0.5555555555555556, \"#d8576b\"], [0.6666666666666666, \"#ed7953\"], [0.7777777777777778, \"#fb9f3a\"], [0.8888888888888888, \"#fdca26\"], [1.0, \"#f0f921\"]], \"type\": \"histogram2d\"}], \"histogram2dcontour\": [{\"colorbar\": {\"outlinewidth\": 0, \"ticks\": \"\"}, \"colorscale\": [[0.0, \"#0d0887\"], [0.1111111111111111, \"#46039f\"], [0.2222222222222222, \"#7201a8\"], [0.3333333333333333, \"#9c179e\"], [0.4444444444444444, \"#bd3786\"], [0.5555555555555556, \"#d8576b\"], [0.6666666666666666, \"#ed7953\"], [0.7777777777777778, \"#fb9f3a\"], [0.8888888888888888, \"#fdca26\"], [1.0, \"#f0f921\"]], \"type\": \"histogram2dcontour\"}], \"mesh3d\": [{\"colorbar\": {\"outlinewidth\": 0, \"ticks\": \"\"}, \"type\": \"mesh3d\"}], \"parcoords\": [{\"line\": {\"colorbar\": {\"outlinewidth\": 0, \"ticks\": \"\"}}, \"type\": \"parcoords\"}], \"pie\": [{\"automargin\": true, \"type\": \"pie\"}], \"scatter\": [{\"marker\": {\"colorbar\": {\"outlinewidth\": 0, \"ticks\": \"\"}}, \"type\": \"scatter\"}], \"scatter3d\": [{\"line\": {\"colorbar\": {\"outlinewidth\": 0, \"ticks\": \"\"}}, \"marker\": {\"colorbar\": {\"outlinewidth\": 0, \"ticks\": \"\"}}, \"type\": \"scatter3d\"}], \"scattercarpet\": [{\"marker\": {\"colorbar\": {\"outlinewidth\": 0, \"ticks\": \"\"}}, \"type\": \"scattercarpet\"}], \"scattergeo\": [{\"marker\": {\"colorbar\": {\"outlinewidth\": 0, \"ticks\": \"\"}}, \"type\": \"scattergeo\"}], \"scattergl\": [{\"marker\": {\"colorbar\": {\"outlinewidth\": 0, \"ticks\": \"\"}}, \"type\": \"scattergl\"}], \"scattermapbox\": [{\"marker\": {\"colorbar\": {\"outlinewidth\": 0, \"ticks\": \"\"}}, \"type\": \"scattermapbox\"}], \"scatterpolar\": [{\"marker\": {\"colorbar\": {\"outlinewidth\": 0, \"ticks\": \"\"}}, \"type\": \"scatterpolar\"}], \"scatterpolargl\": [{\"marker\": {\"colorbar\": {\"outlinewidth\": 0, \"ticks\": \"\"}}, \"type\": \"scatterpolargl\"}], \"scatterternary\": [{\"marker\": {\"colorbar\": {\"outlinewidth\": 0, \"ticks\": \"\"}}, \"type\": \"scatterternary\"}], \"surface\": [{\"colorbar\": {\"outlinewidth\": 0, \"ticks\": \"\"}, \"colorscale\": [[0.0, \"#0d0887\"], [0.1111111111111111, \"#46039f\"], [0.2222222222222222, \"#7201a8\"], [0.3333333333333333, \"#9c179e\"], [0.4444444444444444, \"#bd3786\"], [0.5555555555555556, \"#d8576b\"], [0.6666666666666666, \"#ed7953\"], [0.7777777777777778, \"#fb9f3a\"], [0.8888888888888888, \"#fdca26\"], [1.0, \"#f0f921\"]], \"type\": \"surface\"}], \"table\": [{\"cells\": {\"fill\": {\"color\": \"#EBF0F8\"}, \"line\": {\"color\": \"white\"}}, \"header\": {\"fill\": {\"color\": \"#C8D4E3\"}, \"line\": {\"color\": \"white\"}}, \"type\": \"table\"}]}, \"layout\": {\"annotationdefaults\": {\"arrowcolor\": \"#2a3f5f\", \"arrowhead\": 0, \"arrowwidth\": 1}, \"coloraxis\": {\"colorbar\": {\"outlinewidth\": 0, \"ticks\": \"\"}}, \"colorscale\": {\"diverging\": [[0, \"#8e0152\"], [0.1, \"#c51b7d\"], [0.2, \"#de77ae\"], [0.3, \"#f1b6da\"], [0.4, \"#fde0ef\"], [0.5, \"#f7f7f7\"], [0.6, \"#e6f5d0\"], [0.7, \"#b8e186\"], [0.8, \"#7fbc41\"], [0.9, \"#4d9221\"], [1, \"#276419\"]], \"sequential\": [[0.0, \"#0d0887\"], [0.1111111111111111, \"#46039f\"], [0.2222222222222222, \"#7201a8\"], [0.3333333333333333, \"#9c179e\"], [0.4444444444444444, \"#bd3786\"], [0.5555555555555556, \"#d8576b\"], [0.6666666666666666, \"#ed7953\"], [0.7777777777777778, \"#fb9f3a\"], [0.8888888888888888, \"#fdca26\"], [1.0, \"#f0f921\"]], \"sequentialminus\": [[0.0, \"#0d0887\"], [0.1111111111111111, \"#46039f\"], [0.2222222222222222, \"#7201a8\"], [0.3333333333333333, \"#9c179e\"], [0.4444444444444444, \"#bd3786\"], [0.5555555555555556, \"#d8576b\"], [0.6666666666666666, \"#ed7953\"], [0.7777777777777778, \"#fb9f3a\"], [0.8888888888888888, \"#fdca26\"], [1.0, \"#f0f921\"]]}, \"colorway\": [\"#636efa\", \"#EF553B\", \"#00cc96\", \"#ab63fa\", \"#FFA15A\", \"#19d3f3\", \"#FF6692\", \"#B6E880\", \"#FF97FF\", \"#FECB52\"], \"font\": {\"color\": \"#2a3f5f\"}, \"geo\": {\"bgcolor\": \"white\", \"lakecolor\": \"white\", \"landcolor\": \"#E5ECF6\", \"showlakes\": true, \"showland\": true, \"subunitcolor\": \"white\"}, \"hoverlabel\": {\"align\": \"left\"}, \"hovermode\": \"closest\", \"mapbox\": {\"style\": \"light\"}, \"paper_bgcolor\": \"white\", \"plot_bgcolor\": \"#E5ECF6\", \"polar\": {\"angularaxis\": {\"gridcolor\": \"white\", \"linecolor\": \"white\", \"ticks\": \"\"}, \"bgcolor\": \"#E5ECF6\", \"radialaxis\": {\"gridcolor\": \"white\", \"linecolor\": \"white\", \"ticks\": \"\"}}, \"scene\": {\"xaxis\": {\"backgroundcolor\": \"#E5ECF6\", \"gridcolor\": \"white\", \"gridwidth\": 2, \"linecolor\": \"white\", \"showbackground\": true, \"ticks\": \"\", \"zerolinecolor\": \"white\"}, \"yaxis\": {\"backgroundcolor\": \"#E5ECF6\", \"gridcolor\": \"white\", \"gridwidth\": 2, \"linecolor\": \"white\", \"showbackground\": true, \"ticks\": \"\", \"zerolinecolor\": \"white\"}, \"zaxis\": {\"backgroundcolor\": \"#E5ECF6\", \"gridcolor\": \"white\", \"gridwidth\": 2, \"linecolor\": \"white\", \"showbackground\": true, \"ticks\": \"\", \"zerolinecolor\": \"white\"}}, \"shapedefaults\": {\"line\": {\"color\": \"#2a3f5f\"}}, \"ternary\": {\"aaxis\": {\"gridcolor\": \"white\", \"linecolor\": \"white\", \"ticks\": \"\"}, \"baxis\": {\"gridcolor\": \"white\", \"linecolor\": \"white\", \"ticks\": \"\"}, \"bgcolor\": \"#E5ECF6\", \"caxis\": {\"gridcolor\": \"white\", \"linecolor\": \"white\", \"ticks\": \"\"}}, \"title\": {\"x\": 0.05}, \"xaxis\": {\"automargin\": true, \"gridcolor\": \"white\", \"linecolor\": \"white\", \"ticks\": \"\", \"title\": {\"standoff\": 15}, \"zerolinecolor\": \"white\", \"zerolinewidth\": 2}, \"yaxis\": {\"automargin\": true, \"gridcolor\": \"white\", \"linecolor\": \"white\", \"ticks\": \"\", \"title\": {\"standoff\": 15}, \"zerolinecolor\": \"white\", \"zerolinewidth\": 2}}}},\n",
       "                        {\"responsive\": true}\n",
       "                    ).then(function(){\n",
       "                            \n",
       "var gd = document.getElementById('58493e64-1abc-47f0-b01a-d446012a975b');\n",
       "var x = new MutationObserver(function (mutations, observer) {{\n",
       "        var display = window.getComputedStyle(gd).display;\n",
       "        if (!display || display === 'none') {{\n",
       "            console.log([gd, 'removed!']);\n",
       "            Plotly.purge(gd);\n",
       "            observer.disconnect();\n",
       "        }}\n",
       "}});\n",
       "\n",
       "// Listen for the removal of the full notebook cells\n",
       "var notebookContainer = gd.closest('#notebook-container');\n",
       "if (notebookContainer) {{\n",
       "    x.observe(notebookContainer, {childList: true});\n",
       "}}\n",
       "\n",
       "// Listen for the clearing of the current output cell\n",
       "var outputEl = gd.closest('.output');\n",
       "if (outputEl) {{\n",
       "    x.observe(outputEl, {childList: true});\n",
       "}}\n",
       "\n",
       "                        })\n",
       "                };\n",
       "                });\n",
       "            </script>\n",
       "        </div>"
      ]
     },
     "metadata": {},
     "output_type": "display_data"
    }
   ],
   "source": [
    "fig = px.choropleth(gdp[(gdp['Time'] == 2017) & (gdp['Value'] < 5*(10**12))], \n",
    "                    locations=\"LOCATION\",\n",
    "                    color=\"Value\",\n",
    "                    hover_name=\"Location\",\n",
    "                    color_continuous_scale=px.colors.sequential.Plasma,\n",
    "                   )\n",
    "fig.show()"
   ]
  },
  {
   "cell_type": "markdown",
   "metadata": {},
   "source": [
    "Россия не входит даже в top10 стран по ВВП (при том что по площади, страна занимает 1 место, а по численности населения - 9, почти по всем полезным ископаемым тоже входит в top10).\n",
    "\n",
    "Возможно это говорит о неоптимальном рассходовании ресурсов."
   ]
  },
  {
   "cell_type": "code",
   "execution_count": null,
   "metadata": {},
   "outputs": [],
   "source": [
    "\n"
   ]
  },
  {
   "cell_type": "markdown",
   "metadata": {},
   "source": [
    "# GDP dinamics analys"
   ]
  },
  {
   "cell_type": "code",
   "execution_count": 13,
   "metadata": {},
   "outputs": [
    {
     "data": {
      "text/html": [
       "<div>\n",
       "<style scoped>\n",
       "    .dataframe tbody tr th:only-of-type {\n",
       "        vertical-align: middle;\n",
       "    }\n",
       "\n",
       "    .dataframe tbody tr th {\n",
       "        vertical-align: top;\n",
       "    }\n",
       "\n",
       "    .dataframe thead th {\n",
       "        text-align: right;\n",
       "    }\n",
       "</style>\n",
       "<table border=\"1\" class=\"dataframe\">\n",
       "  <thead>\n",
       "    <tr style=\"text-align: right;\">\n",
       "      <th>Location</th>\n",
       "      <th>China</th>\n",
       "      <th>European Union</th>\n",
       "      <th>India</th>\n",
       "      <th>Russian Federation</th>\n",
       "      <th>United States</th>\n",
       "    </tr>\n",
       "    <tr>\n",
       "      <th>Time</th>\n",
       "      <th></th>\n",
       "      <th></th>\n",
       "      <th></th>\n",
       "      <th></th>\n",
       "      <th></th>\n",
       "    </tr>\n",
       "  </thead>\n",
       "  <tbody>\n",
       "    <tr>\n",
       "      <td>2010</td>\n",
       "      <td>6.087165e+12</td>\n",
       "      <td>1.700961e+13</td>\n",
       "      <td>1.675615e+12</td>\n",
       "      <td>1.524917e+12</td>\n",
       "      <td>1.499205e+13</td>\n",
       "    </tr>\n",
       "    <tr>\n",
       "      <td>2011</td>\n",
       "      <td>7.551500e+12</td>\n",
       "      <td>1.837432e+13</td>\n",
       "      <td>1.823050e+12</td>\n",
       "      <td>2.051662e+12</td>\n",
       "      <td>1.554258e+13</td>\n",
       "    </tr>\n",
       "    <tr>\n",
       "      <td>2012</td>\n",
       "      <td>8.532231e+12</td>\n",
       "      <td>1.731686e+13</td>\n",
       "      <td>1.827638e+12</td>\n",
       "      <td>2.210257e+12</td>\n",
       "      <td>1.619701e+13</td>\n",
       "    </tr>\n",
       "    <tr>\n",
       "      <td>2013</td>\n",
       "      <td>9.570406e+12</td>\n",
       "      <td>1.805272e+13</td>\n",
       "      <td>1.856722e+12</td>\n",
       "      <td>2.297128e+12</td>\n",
       "      <td>1.678485e+13</td>\n",
       "    </tr>\n",
       "    <tr>\n",
       "      <td>2014</td>\n",
       "      <td>1.043853e+13</td>\n",
       "      <td>1.866867e+13</td>\n",
       "      <td>2.039127e+12</td>\n",
       "      <td>2.059984e+12</td>\n",
       "      <td>1.752175e+13</td>\n",
       "    </tr>\n",
       "  </tbody>\n",
       "</table>\n",
       "</div>"
      ],
      "text/plain": [
       "Location         China  European Union         India  Russian Federation  \\\n",
       "Time                                                                       \n",
       "2010      6.087165e+12    1.700961e+13  1.675615e+12        1.524917e+12   \n",
       "2011      7.551500e+12    1.837432e+13  1.823050e+12        2.051662e+12   \n",
       "2012      8.532231e+12    1.731686e+13  1.827638e+12        2.210257e+12   \n",
       "2013      9.570406e+12    1.805272e+13  1.856722e+12        2.297128e+12   \n",
       "2014      1.043853e+13    1.866867e+13  2.039127e+12        2.059984e+12   \n",
       "\n",
       "Location  United States  \n",
       "Time                     \n",
       "2010       1.499205e+13  \n",
       "2011       1.554258e+13  \n",
       "2012       1.619701e+13  \n",
       "2013       1.678485e+13  \n",
       "2014       1.752175e+13  "
      ]
     },
     "execution_count": 13,
     "metadata": {},
     "output_type": "execute_result"
    }
   ],
   "source": [
    "gdp_dinamics = gdp[(gdp['Location'].isin(['Russian Federation',\n",
    "                                       'United States',\n",
    "                                       'European Union',\n",
    "                                       'China',\n",
    "#                                        'Australia',\n",
    "#                                        'Germany',\n",
    "#                                        'Japan', \n",
    "#                                        'United Kingdom',\n",
    "                                       'India', \n",
    "#                                        'France',\n",
    "#                                        'Iataly', \n",
    "#                                        'Brazil', \n",
    "#                                        'Canada',\n",
    "#                                        'Spain'\n",
    "                                      ]))]\n",
    "# 'World','European Union','Finland'\n",
    "gdp_dinamics = gdp_dinamics.pivot(index = 'Time', columns = 'Location', values =  'Value' )\n",
    "gdp_dinamics.head()"
   ]
  },
  {
   "cell_type": "code",
   "execution_count": 15,
   "metadata": {},
   "outputs": [],
   "source": [
    "l = len(gdp_dinamics)\n",
    "for i in range(l):\n",
    "    if i == l-1:\n",
    "        gdp_dinamics.iloc[l-i-1] /= gdp_dinamics.iloc[l-i-1]\n",
    "    else:\n",
    "        gdp_dinamics.iloc[l-i-1] /=  gdp_dinamics.iloc[l-i-2]"
   ]
  },
  {
   "cell_type": "code",
   "execution_count": 16,
   "metadata": {},
   "outputs": [
    {
     "data": {
      "text/plain": [
       "<matplotlib.legend.Legend at 0x1a28f581d0>"
      ]
     },
     "execution_count": 16,
     "metadata": {},
     "output_type": "execute_result"
    },
    {
     "data": {
      "image/png": "[encoded data removed]",
      "text/plain": [
       "<Figure size 864x648 with 1 Axes>"
      ]
     },
     "metadata": {
      "needs_background": "light"
     },
     "output_type": "display_data"
    }
   ],
   "source": [
    "plt.plot(gdp_dinamics)\n",
    "plt.legend(gdp_dinamics)"
   ]
  },
  {
   "cell_type": "markdown",
   "metadata": {},
   "source": [
    "Динамика ВВП В России кране не стабильно по отношении к динамике других стран.\n",
    "\n",
    "Почему такое может быть?\n",
    "\n",
    "Далее добавим к этим данным динамику катировок нефти и посмотрим зависимость ВВП от цен на нефть."
   ]
  },
  {
   "cell_type": "code",
   "execution_count": null,
   "metadata": {},
   "outputs": [],
   "source": []
  },
  {
   "cell_type": "markdown",
   "metadata": {},
   "source": [
    "# ADD oil"
   ]
  },
  {
   "cell_type": "code",
   "execution_count": 17,
   "metadata": {},
   "outputs": [
    {
     "name": "stderr",
     "output_type": "stream",
     "text": [
      "/Users/user/anaconda3/lib/python3.7/site-packages/ipykernel_launcher.py:13: SettingWithCopyWarning:\n",
      "\n",
      "\n",
      "A value is trying to be set on a copy of a slice from a DataFrame\n",
      "\n",
      "See the caveats in the documentation: http://pandas.pydata.org/pandas-docs/stable/user_guide/indexing.html#returning-a-view-versus-a-copy\n",
      "\n",
      "/Users/user/anaconda3/lib/python3.7/site-packages/ipykernel_launcher.py:11: SettingWithCopyWarning:\n",
      "\n",
      "\n",
      "A value is trying to be set on a copy of a slice from a DataFrame\n",
      "\n",
      "See the caveats in the documentation: http://pandas.pydata.org/pandas-docs/stable/user_guide/indexing.html#returning-a-view-versus-a-copy\n",
      "\n"
     ]
    }
   ],
   "source": [
    "dict = {2010:80.32,2011:112.41,2012:110.70,\n",
    "        2013:108.69, 2014:97.64, 2015:53.41,\n",
    "        2016:46.10, 2017:55.55, 2018:71.38}\n",
    "\n",
    "oil = pd.DataFrame.from_dict(dict, orient='index')\\\n",
    "                .reset_index().rename(columns={0:'Oil', 'index': 'Time'})\n",
    "\n",
    "\n",
    "for i in range(len(oil)):\n",
    "    if i == l-1:\n",
    "        oil['Oil'][0] = 1\n",
    "    else:\n",
    "        oil['Oil'][l-i-1] /=  oil['Oil'][l-i-2]\n",
    "\n",
    "# plt.plot(oil['Oil'])"
   ]
  },
  {
   "cell_type": "code",
   "execution_count": 18,
   "metadata": {},
   "outputs": [
    {
     "data": {
      "text/html": [
       "<div>\n",
       "<style scoped>\n",
       "    .dataframe tbody tr th:only-of-type {\n",
       "        vertical-align: middle;\n",
       "    }\n",
       "\n",
       "    .dataframe tbody tr th {\n",
       "        vertical-align: top;\n",
       "    }\n",
       "\n",
       "    .dataframe thead th {\n",
       "        text-align: right;\n",
       "    }\n",
       "</style>\n",
       "<table border=\"1\" class=\"dataframe\">\n",
       "  <thead>\n",
       "    <tr style=\"text-align: right;\">\n",
       "      <th></th>\n",
       "      <th>China</th>\n",
       "      <th>European Union</th>\n",
       "      <th>India</th>\n",
       "      <th>Russian Federation</th>\n",
       "      <th>United States</th>\n",
       "      <th>Oil</th>\n",
       "    </tr>\n",
       "    <tr>\n",
       "      <th>Time</th>\n",
       "      <th></th>\n",
       "      <th></th>\n",
       "      <th></th>\n",
       "      <th></th>\n",
       "      <th></th>\n",
       "      <th></th>\n",
       "    </tr>\n",
       "  </thead>\n",
       "  <tbody>\n",
       "    <tr>\n",
       "      <td>2010</td>\n",
       "      <td>1.000000</td>\n",
       "      <td>1.000000</td>\n",
       "      <td>1.000000</td>\n",
       "      <td>1.000000</td>\n",
       "      <td>1.000000</td>\n",
       "      <td>1.000000</td>\n",
       "    </tr>\n",
       "    <tr>\n",
       "      <td>2011</td>\n",
       "      <td>1.240561</td>\n",
       "      <td>1.080231</td>\n",
       "      <td>1.087988</td>\n",
       "      <td>1.345425</td>\n",
       "      <td>1.036721</td>\n",
       "      <td>1.399527</td>\n",
       "    </tr>\n",
       "    <tr>\n",
       "      <td>2012</td>\n",
       "      <td>1.129872</td>\n",
       "      <td>0.942450</td>\n",
       "      <td>1.002517</td>\n",
       "      <td>1.077301</td>\n",
       "      <td>1.042105</td>\n",
       "      <td>0.984788</td>\n",
       "    </tr>\n",
       "    <tr>\n",
       "      <td>2013</td>\n",
       "      <td>1.121677</td>\n",
       "      <td>1.042494</td>\n",
       "      <td>1.015914</td>\n",
       "      <td>1.039304</td>\n",
       "      <td>1.036293</td>\n",
       "      <td>0.981843</td>\n",
       "    </tr>\n",
       "    <tr>\n",
       "      <td>2014</td>\n",
       "      <td>1.090709</td>\n",
       "      <td>1.034119</td>\n",
       "      <td>1.098241</td>\n",
       "      <td>0.896765</td>\n",
       "      <td>1.043903</td>\n",
       "      <td>0.898335</td>\n",
       "    </tr>\n",
       "  </tbody>\n",
       "</table>\n",
       "</div>"
      ],
      "text/plain": [
       "         China  European Union     India  Russian Federation  United States  \\\n",
       "Time                                                                          \n",
       "2010  1.000000        1.000000  1.000000            1.000000       1.000000   \n",
       "2011  1.240561        1.080231  1.087988            1.345425       1.036721   \n",
       "2012  1.129872        0.942450  1.002517            1.077301       1.042105   \n",
       "2013  1.121677        1.042494  1.015914            1.039304       1.036293   \n",
       "2014  1.090709        1.034119  1.098241            0.896765       1.043903   \n",
       "\n",
       "           Oil  \n",
       "Time            \n",
       "2010  1.000000  \n",
       "2011  1.399527  \n",
       "2012  0.984788  \n",
       "2013  0.981843  \n",
       "2014  0.898335  "
      ]
     },
     "execution_count": 18,
     "metadata": {},
     "output_type": "execute_result"
    }
   ],
   "source": [
    "gdp_oil = gdp_dinamics.reset_index().merge(oil, how = 'left', on = 'Time')\n",
    "gdp_oil = gdp_oil.set_index('Time')\n",
    "gdp_oil.head()"
   ]
  },
  {
   "cell_type": "code",
   "execution_count": 19,
   "metadata": {},
   "outputs": [
    {
     "data": {
      "text/plain": [
       "<matplotlib.legend.Legend at 0x1a28fc1750>"
      ]
     },
     "execution_count": 19,
     "metadata": {},
     "output_type": "execute_result"
    },
    {
     "data": {
      "image/png": "[encoded data removed]",
      "text/plain": [
       "<Figure size 864x648 with 1 Axes>"
      ]
     },
     "metadata": {
      "needs_background": "light"
     },
     "output_type": "display_data"
    }
   ],
   "source": [
    "plt.plot(gdp_oil)\n",
    "plt.legend(gdp_oil)"
   ]
  },
  {
   "cell_type": "markdown",
   "metadata": {},
   "source": [
    "ВВП России ведет себя также как и цены на нефть.\n",
    "\n",
    "Однако, из интересных фактов можно заметить, что в 2018 году, не смотря на то что динамика цены нефти brent была восходящей, ВВП России все равно не выросло год к году.\n"
   ]
  },
  {
   "cell_type": "code",
   "execution_count": 20,
   "metadata": {},
   "outputs": [
    {
     "data": {
      "text/plain": [
       "<seaborn.axisgrid.PairGrid at 0x1a2809f950>"
      ]
     },
     "execution_count": 20,
     "metadata": {},
     "output_type": "execute_result"
    },
    {
     "data": {
      "image/png": "[encoded data removed]",
      "text/plain": [
       "<Figure size 1080x1080 with 42 Axes>"
      ]
     },
     "metadata": {
      "needs_background": "light"
     },
     "output_type": "display_data"
    }
   ],
   "source": [
    "sns.pairplot(gdp_oil)\n"
   ]
  },
  {
   "cell_type": "markdown",
   "metadata": {},
   "source": [
    "Из грфика видно, ВВП РФ практически линейно связано с ценами на нефть."
   ]
  },
  {
   "cell_type": "code",
   "execution_count": null,
   "metadata": {},
   "outputs": [],
   "source": []
  },
  {
   "cell_type": "code",
   "execution_count": null,
   "metadata": {},
   "outputs": [],
   "source": [
    "\n"
   ]
  },
  {
   "cell_type": "code",
   "execution_count": null,
   "metadata": {},
   "outputs": [],
   "source": []
  },
  {
   "cell_type": "code",
   "execution_count": null,
   "metadata": {},
   "outputs": [],
   "source": []
  },
  {
   "cell_type": "code",
   "execution_count": null,
   "metadata": {},
   "outputs": [],
   "source": []
  },
  {
   "cell_type": "markdown",
   "metadata": {},
   "source": [
    "## Imports of goods and services (current US$)\n"
   ]
  },
  {
   "cell_type": "code",
   "execution_count": 21,
   "metadata": {},
   "outputs": [
    {
     "data": {
      "text/html": [
       "<div>\n",
       "<style scoped>\n",
       "    .dataframe tbody tr th:only-of-type {\n",
       "        vertical-align: middle;\n",
       "    }\n",
       "\n",
       "    .dataframe tbody tr th {\n",
       "        vertical-align: top;\n",
       "    }\n",
       "\n",
       "    .dataframe thead th {\n",
       "        text-align: right;\n",
       "    }\n",
       "</style>\n",
       "<table border=\"1\" class=\"dataframe\">\n",
       "  <thead>\n",
       "    <tr style=\"text-align: right;\">\n",
       "      <th></th>\n",
       "      <th>LOCATION</th>\n",
       "      <th>Location</th>\n",
       "      <th>SUBJECT</th>\n",
       "      <th>Subject</th>\n",
       "      <th>TIME</th>\n",
       "      <th>Time</th>\n",
       "      <th>Value</th>\n",
       "      <th>Flag Codes</th>\n",
       "      <th>Flags</th>\n",
       "    </tr>\n",
       "  </thead>\n",
       "  <tbody>\n",
       "    <tr>\n",
       "      <td>0</td>\n",
       "      <td>EAR</td>\n",
       "      <td>Early-demographic dividend</td>\n",
       "      <td>NE-IMP-GNFS-CD</td>\n",
       "      <td>Imports of goods and services (current US$)</td>\n",
       "      <td>2010</td>\n",
       "      <td>2010</td>\n",
       "      <td>2.342494e+12</td>\n",
       "      <td>NaN</td>\n",
       "      <td>NaN</td>\n",
       "    </tr>\n",
       "    <tr>\n",
       "      <td>1</td>\n",
       "      <td>EAR</td>\n",
       "      <td>Early-demographic dividend</td>\n",
       "      <td>NE-IMP-GNFS-CD</td>\n",
       "      <td>Imports of goods and services (current US$)</td>\n",
       "      <td>2011</td>\n",
       "      <td>2011</td>\n",
       "      <td>2.784157e+12</td>\n",
       "      <td>NaN</td>\n",
       "      <td>NaN</td>\n",
       "    </tr>\n",
       "    <tr>\n",
       "      <td>2</td>\n",
       "      <td>EAR</td>\n",
       "      <td>Early-demographic dividend</td>\n",
       "      <td>NE-IMP-GNFS-CD</td>\n",
       "      <td>Imports of goods and services (current US$)</td>\n",
       "      <td>2012</td>\n",
       "      <td>2012</td>\n",
       "      <td>2.983228e+12</td>\n",
       "      <td>NaN</td>\n",
       "      <td>NaN</td>\n",
       "    </tr>\n",
       "    <tr>\n",
       "      <td>3</td>\n",
       "      <td>EAR</td>\n",
       "      <td>Early-demographic dividend</td>\n",
       "      <td>NE-IMP-GNFS-CD</td>\n",
       "      <td>Imports of goods and services (current US$)</td>\n",
       "      <td>2013</td>\n",
       "      <td>2013</td>\n",
       "      <td>3.007239e+12</td>\n",
       "      <td>NaN</td>\n",
       "      <td>NaN</td>\n",
       "    </tr>\n",
       "    <tr>\n",
       "      <td>4</td>\n",
       "      <td>EAR</td>\n",
       "      <td>Early-demographic dividend</td>\n",
       "      <td>NE-IMP-GNFS-CD</td>\n",
       "      <td>Imports of goods and services (current US$)</td>\n",
       "      <td>2014</td>\n",
       "      <td>2014</td>\n",
       "      <td>3.064990e+12</td>\n",
       "      <td>NaN</td>\n",
       "      <td>NaN</td>\n",
       "    </tr>\n",
       "  </tbody>\n",
       "</table>\n",
       "</div>"
      ],
      "text/plain": [
       "  LOCATION                    Location         SUBJECT  \\\n",
       "0      EAR  Early-demographic dividend  NE-IMP-GNFS-CD   \n",
       "1      EAR  Early-demographic dividend  NE-IMP-GNFS-CD   \n",
       "2      EAR  Early-demographic dividend  NE-IMP-GNFS-CD   \n",
       "3      EAR  Early-demographic dividend  NE-IMP-GNFS-CD   \n",
       "4      EAR  Early-demographic dividend  NE-IMP-GNFS-CD   \n",
       "\n",
       "                                       Subject  TIME  Time         Value  \\\n",
       "0  Imports of goods and services (current US$)  2010  2010  2.342494e+12   \n",
       "1  Imports of goods and services (current US$)  2011  2011  2.784157e+12   \n",
       "2  Imports of goods and services (current US$)  2012  2012  2.983228e+12   \n",
       "3  Imports of goods and services (current US$)  2013  2013  3.007239e+12   \n",
       "4  Imports of goods and services (current US$)  2014  2014  3.064990e+12   \n",
       "\n",
       "   Flag Codes  Flags  \n",
       "0         NaN    NaN  \n",
       "1         NaN    NaN  \n",
       "2         NaN    NaN  \n",
       "3         NaN    NaN  \n",
       "4         NaN    NaN  "
      ]
     },
     "execution_count": 21,
     "metadata": {},
     "output_type": "execute_result"
    }
   ],
   "source": [
    "igs = pd.read_csv('igs2010.csv')\n",
    "# igs = igs[['Location','Time', 'Value']]\n",
    "igs.head()"
   ]
  },
  {
   "cell_type": "code",
   "execution_count": 22,
   "metadata": {},
   "outputs": [
    {
     "data": {
      "text/plain": [
       "<BarContainer object of 13 artists>"
      ]
     },
     "execution_count": 22,
     "metadata": {},
     "output_type": "execute_result"
    },
    {
     "data": {
      "image/png": "[encoded data removed]",
      "text/plain": [
       "<Figure size 864x648 with 1 Axes>"
      ]
     },
     "metadata": {
      "needs_background": "light"
     },
     "output_type": "display_data"
    }
   ],
   "source": [
    "igs_filtr = igs[(igs['Location'].isin(['Russian Federation',\n",
    "                                       'United States',\n",
    "#                                        'European Union',\n",
    "                                       'China',\n",
    "                                       'Australia',\n",
    "                                       'Germany',\n",
    "                                       'Japan', \n",
    "                                       'United Kingdom', \n",
    "                                       'India', \n",
    "                                       'France',\n",
    "                                       'Italy', \n",
    "                                       'Brazil', \n",
    "                                       'Canada',\n",
    "                                       'Spain']))].sort_values('Value')\n",
    "plt.barh(igs_filtr[igs_filtr['Time']==2017]['Location'],\n",
    "         igs_filtr[igs_filtr['Time']==2017]['Value'])\n"
   ]
  },
  {
   "cell_type": "code",
   "execution_count": 23,
   "metadata": {},
   "outputs": [
    {
     "data": {
      "application/vnd.plotly.v1+json": {
       "config": {
        "plotlyServerURL": "https://plot.ly"
       },
       "data": [
        {
         "coloraxis": "coloraxis",
         "geo": "geo",
         "hoverlabel": {
          "namelength": 0
         },
         "hovertemplate": "<b>%{hovertext}</b><br><br>LOCATION=%{location}<br>Value=%{z}",
         "hovertext": [
          "Heavily Indebted Poor Countries (HIPC)",
          "Fragile and conflict affected situations",
          "IDA only",
          "Other small states",
          "South Asia",
          "South Asia (IDA & IBRD)",
          "Albania",
          "Argentina",
          "Armenia",
          "Austria",
          "Azerbaijan",
          "Australia",
          "Bahrain",
          "Bangladesh",
          "Belarus",
          "Belgium",
          "Bolivia",
          "Benin",
          "Bosnia and Herzegovina",
          "Botswana",
          "Brazil",
          "Bulgaria",
          "Brunei Darussalam",
          "Burkina Faso",
          "Cambodia",
          "Cabo Verde",
          "Canada",
          "Cameroon",
          "Chad",
          "Chile",
          "Colombia",
          "Congo, Dem. Rep.",
          "Congo, Rep.",
          "Côte d'Ivoire",
          "Costa Rica",
          "Croatia",
          "Cyprus",
          "Czech Republic",
          "Denmark",
          "Djibouti",
          "Dominican Republic",
          "Dominica",
          "Ecuador",
          "El Salvador",
          "Equatorial Guinea",
          "Egypt, Arab Rep.",
          "Ethiopia",
          "Estonia",
          "France",
          "Finland",
          "Georgia",
          "Greece",
          "Guatemala",
          "Haiti",
          "Guinea",
          "Guinea-Bissau",
          "Honduras",
          "Hungary",
          "Hong Kong SAR, China",
          "India",
          "Iceland",
          "Indonesia",
          "Iraq",
          "Ireland",
          "Italy",
          "Jordan",
          "Kenya",
          "Kosovo",
          "Korea, Rep.",
          "Kyrgyz Republic",
          "Latvia",
          "Lebanon",
          "Libya",
          "Lithuania",
          "Liberia",
          "Luxembourg",
          "Macao SAR, China",
          "Malaysia",
          "Mali",
          "Malta",
          "Mauritius",
          "Mauritania",
          "Mexico",
          "Moldova",
          "Mongolia",
          "Morocco",
          "Montenegro",
          "Mozambique",
          "Namibia",
          "Nepal",
          "Netherlands",
          "Nicaragua",
          "North Macedonia",
          "Norway",
          "Oman",
          "Pakistan",
          "Peru",
          "Paraguay",
          "Poland",
          "Portugal",
          "Philippines",
          "Puerto Rico",
          "Romania",
          "Russian Federation",
          "Rwanda",
          "Samoa",
          "Seychelles",
          "Serbia",
          "Saudi Arabia",
          "Senegal",
          "Singapore",
          "Slovak Republic",
          "Slovenia",
          "Somalia",
          "South Africa",
          "Sri Lanka",
          "Spain",
          "Sudan",
          "Sweden",
          "Switzerland",
          "Thailand",
          "Togo",
          "Turkey",
          "Turkmenistan",
          "Ukraine",
          "Uganda",
          "United Arab Emirates",
          "United Kingdom",
          "Uzbekistan",
          "Uruguay",
          "Vietnam",
          "West Bank and Gaza",
          "Zambia",
          "Zimbabwe"
         ],
         "locations": [
          "HPC",
          "FCS",
          "IDX",
          "OSS",
          "SAS",
          "TSA",
          "ALB",
          "ARG",
          "ARM",
          "AUT",
          "AZE",
          "AUS",
          "BHR",
          "BGD",
          "BLR",
          "BEL",
          "BOL",
          "BEN",
          "BIH",
          "BWA",
          "BRA",
          "BGR",
          "BRN",
          "BFA",
          "KHM",
          "CPV",
          "CAN",
          "CMR",
          "TCD",
          "CHL",
          "COL",
          "COD",
          "COG",
          "CIV",
          "CRI",
          "HRV",
          "CYP",
          "CZE",
          "DNK",
          "DJI",
          "DOM",
          "DMA",
          "ECU",
          "SLV",
          "GNQ",
          "EGY",
          "ETH",
          "EST",
          "FRA",
          "FIN",
          "GEO",
          "GRC",
          "GTM",
          "HTI",
          "GIN",
          "GNB",
          "HND",
          "HUN",
          "HKG",
          "IND",
          "ISL",
          "IDN",
          "IRQ",
          "IRL",
          "ITA",
          "JOR",
          "KEN",
          "XKX",
          "KOR",
          "KGZ",
          "LVA",
          "LBN",
          "LBY",
          "LTU",
          "LBR",
          "LUX",
          "MAC",
          "MYS",
          "MLI",
          "MLT",
          "MUS",
          "MRT",
          "MEX",
          "MDA",
          "MNG",
          "MAR",
          "MNE",
          "MOZ",
          "NAM",
          "NPL",
          "NLD",
          "NIC",
          "MKD",
          "NOR",
          "OMN",
          "PAK",
          "PER",
          "PRY",
          "POL",
          "PRT",
          "PHL",
          "PRI",
          "ROU",
          "RUS",
          "RWA",
          "WSM",
          "SYC",
          "SRB",
          "SAU",
          "SEN",
          "SGP",
          "SVK",
          "SVN",
          "SOM",
          "ZAF",
          "LKA",
          "ESP",
          "SDN",
          "SWE",
          "CHE",
          "THA",
          "TGO",
          "TUR",
          "TKM",
          "UKR",
          "UGA",
          "ARE",
          "GBR",
          "UZB",
          "URY",
          "VNM",
          "PSE",
          "ZMB",
          "ZWE"
         ],
         "name": "",
         "type": "choropleth",
         "z": [
          253729329874.36603,
          331150045401.289,
          431828432765.861,
          229677001017.863,
          819161722094.3359,
          819161722094.3359,
          6856096998.58875,
          84846707072.4328,
          6575927037.82687,
          232206769027.40198,
          17705176470.5882,
          305306565382.529,
          26843670212.766003,
          64242232742.5396,
          41253091872.7915,
          466444000369.421,
          12537987264.8336,
          4577704315.01499,
          11246468919.7345,
          6942269981.959371,
          266778399474.52,
          41455220277.6101,
          5693409139.803989,
          5036706106.04879,
          15554628992.2541,
          1345742901.59513,
          581116856497.357,
          8766960496.8565,
          4270379167.08804,
          85649396745.6799,
          69000820109.1855,
          17635815460.1593,
          6310124257.15829,
          12578294784.6408,
          19893952995.0413,
          30317949004.6186,
          16151085930.1228,
          176570166322.159,
          174400551673.102,
          1617805229.01193,
          24350261219.7338,
          358608037.037037,
          24982275000,
          12668380000,
          5434238010.09979,
          73678705208.8487,
          19231971305.1748,
          21720413273.2256,
          891893479126.7809,
          109076353386.908,
          10806917643.3448,
          79342810498.4262,
          21721645919.7787,
          5647366035.00169,
          10429697036.9548,
          473248832.410983,
          14366655160.2708,
          127285177669.358,
          682261146903.107,
          638781687806.773,
          11420488441.2947,
          229861430850.832,
          84952155169.8778,
          341121426942.486,
          606703929060.213,
          22794076163.6107,
          20223452249.0933,
          4360315659.5162,
          631474411832.185,
          5534624340.68416,
          20733094392.137,
          22434335422.3549,
          28020955437.5882,
          42421433140.8818,
          3079000000,
          132523093888.55699,
          17966924744.5029,
          221725438734.673,
          6715998352.04127,
          17917130920.474,
          7705808854.73148,
          4425842379.54879,
          502980529657.704,
          6363182781.67789,
          8266714748.45885,
          57831580741.7351,
          3673755901.79415,
          11069100264.7358,
          6523035098.17778,
          13119519390.0721,
          669997794292.734,
          6726142387.04399,
          9237397590.7314,
          141496833691.977,
          38009362808.8427,
          60763266726.7032,
          52806243534.3516,
          13933336961.5304,
          303959354320.68,
          103366468094.90302,
          146840634453.493,
          46462500000,
          107446620661.66,
          344262687487.328,
          3245532291.47494,
          392293913.653367,
          1623298147.11168,
          29940221671.8526,
          209980266666.667,
          8707216903.63226,
          545564872479.241,
          101249320013.726,
          41072456175.5185,
          4702138368.64981,
          108877966270.551,
          26789046566.9989,
          461009540896.28796,
          5043382727.59912,
          241828998155.69397,
          376581110800.539,
          285261929669.268,
          2266152737.75216,
          236010471566.645,
          5094000000,
          70399183838.5324,
          7780669139.530491,
          281552076242.342,
          887202896381.116,
          19561908552.3157,
          11316243362.523998,
          225679521806.876,
          8730900000,
          10216905805.5928,
          7909000000
         ]
        }
       ],
       "layout": {
        "coloraxis": {
         "colorbar": {
          "title": {
           "text": "Value"
          }
         },
         "colorscale": [
          [
           0,
           "#0d0887"
          ],
          [
           0.1111111111111111,
           "#46039f"
          ],
          [
           0.2222222222222222,
           "#7201a8"
          ],
          [
           0.3333333333333333,
           "#9c179e"
          ],
          [
           0.4444444444444444,
           "#bd3786"
          ],
          [
           0.5555555555555556,
           "#d8576b"
          ],
          [
           0.6666666666666666,
           "#ed7953"
          ],
          [
           0.7777777777777778,
           "#fb9f3a"
          ],
          [
           0.8888888888888888,
           "#fdca26"
          ],
          [
           1,
           "#f0f921"
          ]
         ]
        },
        "geo": {
         "center": {},
         "domain": {
          "x": [
           0,
           1
          ],
          "y": [
           0,
           1
          ]
         }
        },
        "height": 600,
        "legend": {
         "tracegroupgap": 0
        },
        "margin": {
         "t": 60
        },
        "template": {
         "data": {
          "bar": [
           {
            "error_x": {
             "color": "#2a3f5f"
            },
            "error_y": {
             "color": "#2a3f5f"
            },
            "marker": {
             "line": {
              "color": "#E5ECF6",
              "width": 0.5
             }
            },
            "type": "bar"
           }
          ],
          "barpolar": [
           {
            "marker": {
             "line": {
              "color": "#E5ECF6",
              "width": 0.5
             }
            },
            "type": "barpolar"
           }
          ],
          "carpet": [
           {
            "aaxis": {
             "endlinecolor": "#2a3f5f",
             "gridcolor": "white",
             "linecolor": "white",
             "minorgridcolor": "white",
             "startlinecolor": "#2a3f5f"
            },
            "baxis": {
             "endlinecolor": "#2a3f5f",
             "gridcolor": "white",
             "linecolor": "white",
             "minorgridcolor": "white",
             "startlinecolor": "#2a3f5f"
            },
            "type": "carpet"
           }
          ],
          "choropleth": [
           {
            "colorbar": {
             "outlinewidth": 0,
             "ticks": ""
            },
            "type": "choropleth"
           }
          ],
          "contour": [
           {
            "colorbar": {
             "outlinewidth": 0,
             "ticks": ""
            },
            "colorscale": [
             [
              0,
              "#0d0887"
             ],
             [
              0.1111111111111111,
              "#46039f"
             ],
             [
              0.2222222222222222,
              "#7201a8"
             ],
             [
              0.3333333333333333,
              "#9c179e"
             ],
             [
              0.4444444444444444,
              "#bd3786"
             ],
             [
              0.5555555555555556,
              "#d8576b"
             ],
             [
              0.6666666666666666,
              "#ed7953"
             ],
             [
              0.7777777777777778,
              "#fb9f3a"
             ],
             [
              0.8888888888888888,
              "#fdca26"
             ],
             [
              1,
              "#f0f921"
             ]
            ],
            "type": "contour"
           }
          ],
          "contourcarpet": [
           {
            "colorbar": {
             "outlinewidth": 0,
             "ticks": ""
            },
            "type": "contourcarpet"
           }
          ],
          "heatmap": [
           {
            "colorbar": {
             "outlinewidth": 0,
             "ticks": ""
            },
            "colorscale": [
             [
              0,
              "#0d0887"
             ],
             [
              0.1111111111111111,
              "#46039f"
             ],
             [
              0.2222222222222222,
              "#7201a8"
             ],
             [
              0.3333333333333333,
              "#9c179e"
             ],
             [
              0.4444444444444444,
              "#bd3786"
             ],
             [
              0.5555555555555556,
              "#d8576b"
             ],
             [
              0.6666666666666666,
              "#ed7953"
             ],
             [
              0.7777777777777778,
              "#fb9f3a"
             ],
             [
              0.8888888888888888,
              "#fdca26"
             ],
             [
              1,
              "#f0f921"
             ]
            ],
            "type": "heatmap"
           }
          ],
          "heatmapgl": [
           {
            "colorbar": {
             "outlinewidth": 0,
             "ticks": ""
            },
            "colorscale": [
             [
              0,
              "#0d0887"
             ],
             [
              0.1111111111111111,
              "#46039f"
             ],
             [
              0.2222222222222222,
              "#7201a8"
             ],
             [
              0.3333333333333333,
              "#9c179e"
             ],
             [
              0.4444444444444444,
              "#bd3786"
             ],
             [
              0.5555555555555556,
              "#d8576b"
             ],
             [
              0.6666666666666666,
              "#ed7953"
             ],
             [
              0.7777777777777778,
              "#fb9f3a"
             ],
             [
              0.8888888888888888,
              "#fdca26"
             ],
             [
              1,
              "#f0f921"
             ]
            ],
            "type": "heatmapgl"
           }
          ],
          "histogram": [
           {
            "marker": {
             "colorbar": {
              "outlinewidth": 0,
              "ticks": ""
             }
            },
            "type": "histogram"
           }
          ],
          "histogram2d": [
           {
            "colorbar": {
             "outlinewidth": 0,
             "ticks": ""
            },
            "colorscale": [
             [
              0,
              "#0d0887"
             ],
             [
              0.1111111111111111,
              "#46039f"
             ],
             [
              0.2222222222222222,
              "#7201a8"
             ],
             [
              0.3333333333333333,
              "#9c179e"
             ],
             [
              0.4444444444444444,
              "#bd3786"
             ],
             [
              0.5555555555555556,
              "#d8576b"
             ],
             [
              0.6666666666666666,
              "#ed7953"
             ],
             [
              0.7777777777777778,
              "#fb9f3a"
             ],
             [
              0.8888888888888888,
              "#fdca26"
             ],
             [
              1,
              "#f0f921"
             ]
            ],
            "type": "histogram2d"
           }
          ],
          "histogram2dcontour": [
           {
            "colorbar": {
             "outlinewidth": 0,
             "ticks": ""
            },
            "colorscale": [
             [
              0,
              "#0d0887"
             ],
             [
              0.1111111111111111,
              "#46039f"
             ],
             [
              0.2222222222222222,
              "#7201a8"
             ],
             [
              0.3333333333333333,
              "#9c179e"
             ],
             [
              0.4444444444444444,
              "#bd3786"
             ],
             [
              0.5555555555555556,
              "#d8576b"
             ],
             [
              0.6666666666666666,
              "#ed7953"
             ],
             [
              0.7777777777777778,
              "#fb9f3a"
             ],
             [
              0.8888888888888888,
              "#fdca26"
             ],
             [
              1,
              "#f0f921"
             ]
            ],
            "type": "histogram2dcontour"
           }
          ],
          "mesh3d": [
           {
            "colorbar": {
             "outlinewidth": 0,
             "ticks": ""
            },
            "type": "mesh3d"
           }
          ],
          "parcoords": [
           {
            "line": {
             "colorbar": {
              "outlinewidth": 0,
              "ticks": ""
             }
            },
            "type": "parcoords"
           }
          ],
          "pie": [
           {
            "automargin": true,
            "type": "pie"
           }
          ],
          "scatter": [
           {
            "marker": {
             "colorbar": {
              "outlinewidth": 0,
              "ticks": ""
             }
            },
            "type": "scatter"
           }
          ],
          "scatter3d": [
           {
            "line": {
             "colorbar": {
              "outlinewidth": 0,
              "ticks": ""
             }
            },
            "marker": {
             "colorbar": {
              "outlinewidth": 0,
              "ticks": ""
             }
            },
            "type": "scatter3d"
           }
          ],
          "scattercarpet": [
           {
            "marker": {
             "colorbar": {
              "outlinewidth": 0,
              "ticks": ""
             }
            },
            "type": "scattercarpet"
           }
          ],
          "scattergeo": [
           {
            "marker": {
             "colorbar": {
              "outlinewidth": 0,
              "ticks": ""
             }
            },
            "type": "scattergeo"
           }
          ],
          "scattergl": [
           {
            "marker": {
             "colorbar": {
              "outlinewidth": 0,
              "ticks": ""
             }
            },
            "type": "scattergl"
           }
          ],
          "scattermapbox": [
           {
            "marker": {
             "colorbar": {
              "outlinewidth": 0,
              "ticks": ""
             }
            },
            "type": "scattermapbox"
           }
          ],
          "scatterpolar": [
           {
            "marker": {
             "colorbar": {
              "outlinewidth": 0,
              "ticks": ""
             }
            },
            "type": "scatterpolar"
           }
          ],
          "scatterpolargl": [
           {
            "marker": {
             "colorbar": {
              "outlinewidth": 0,
              "ticks": ""
             }
            },
            "type": "scatterpolargl"
           }
          ],
          "scatterternary": [
           {
            "marker": {
             "colorbar": {
              "outlinewidth": 0,
              "ticks": ""
             }
            },
            "type": "scatterternary"
           }
          ],
          "surface": [
           {
            "colorbar": {
             "outlinewidth": 0,
             "ticks": ""
            },
            "colorscale": [
             [
              0,
              "#0d0887"
             ],
             [
              0.1111111111111111,
              "#46039f"
             ],
             [
              0.2222222222222222,
              "#7201a8"
             ],
             [
              0.3333333333333333,
              "#9c179e"
             ],
             [
              0.4444444444444444,
              "#bd3786"
             ],
             [
              0.5555555555555556,
              "#d8576b"
             ],
             [
              0.6666666666666666,
              "#ed7953"
             ],
             [
              0.7777777777777778,
              "#fb9f3a"
             ],
             [
              0.8888888888888888,
              "#fdca26"
             ],
             [
              1,
              "#f0f921"
             ]
            ],
            "type": "surface"
           }
          ],
          "table": [
           {
            "cells": {
             "fill": {
              "color": "#EBF0F8"
             },
             "line": {
              "color": "white"
             }
            },
            "header": {
             "fill": {
              "color": "#C8D4E3"
             },
             "line": {
              "color": "white"
             }
            },
            "type": "table"
           }
          ]
         },
         "layout": {
          "annotationdefaults": {
           "arrowcolor": "#2a3f5f",
           "arrowhead": 0,
           "arrowwidth": 1
          },
          "coloraxis": {
           "colorbar": {
            "outlinewidth": 0,
            "ticks": ""
           }
          },
          "colorscale": {
           "diverging": [
            [
             0,
             "#8e0152"
            ],
            [
             0.1,
             "#c51b7d"
            ],
            [
             0.2,
             "#de77ae"
            ],
            [
             0.3,
             "#f1b6da"
            ],
            [
             0.4,
             "#fde0ef"
            ],
            [
             0.5,
             "#f7f7f7"
            ],
            [
             0.6,
             "#e6f5d0"
            ],
            [
             0.7,
             "#b8e186"
            ],
            [
             0.8,
             "#7fbc41"
            ],
            [
             0.9,
             "#4d9221"
            ],
            [
             1,
             "#276419"
            ]
           ],
           "sequential": [
            [
             0,
             "#0d0887"
            ],
            [
             0.1111111111111111,
             "#46039f"
            ],
            [
             0.2222222222222222,
             "#7201a8"
            ],
            [
             0.3333333333333333,
             "#9c179e"
            ],
            [
             0.4444444444444444,
             "#bd3786"
            ],
            [
             0.5555555555555556,
             "#d8576b"
            ],
            [
             0.6666666666666666,
             "#ed7953"
            ],
            [
             0.7777777777777778,
             "#fb9f3a"
            ],
            [
             0.8888888888888888,
             "#fdca26"
            ],
            [
             1,
             "#f0f921"
            ]
           ],
           "sequentialminus": [
            [
             0,
             "#0d0887"
            ],
            [
             0.1111111111111111,
             "#46039f"
            ],
            [
             0.2222222222222222,
             "#7201a8"
            ],
            [
             0.3333333333333333,
             "#9c179e"
            ],
            [
             0.4444444444444444,
             "#bd3786"
            ],
            [
             0.5555555555555556,
             "#d8576b"
            ],
            [
             0.6666666666666666,
             "#ed7953"
            ],
            [
             0.7777777777777778,
             "#fb9f3a"
            ],
            [
             0.8888888888888888,
             "#fdca26"
            ],
            [
             1,
             "#f0f921"
            ]
           ]
          },
          "colorway": [
           "#636efa",
           "#EF553B",
           "#00cc96",
           "#ab63fa",
           "#FFA15A",
           "#19d3f3",
           "#FF6692",
           "#B6E880",
           "#FF97FF",
           "#FECB52"
          ],
          "font": {
           "color": "#2a3f5f"
          },
          "geo": {
           "bgcolor": "white",
           "lakecolor": "white",
           "landcolor": "#E5ECF6",
           "showlakes": true,
           "showland": true,
           "subunitcolor": "white"
          },
          "hoverlabel": {
           "align": "left"
          },
          "hovermode": "closest",
          "mapbox": {
           "style": "light"
          },
          "paper_bgcolor": "white",
          "plot_bgcolor": "#E5ECF6",
          "polar": {
           "angularaxis": {
            "gridcolor": "white",
            "linecolor": "white",
            "ticks": ""
           },
           "bgcolor": "#E5ECF6",
           "radialaxis": {
            "gridcolor": "white",
            "linecolor": "white",
            "ticks": ""
           }
          },
          "scene": {
           "xaxis": {
            "backgroundcolor": "#E5ECF6",
            "gridcolor": "white",
            "gridwidth": 2,
            "linecolor": "white",
            "showbackground": true,
            "ticks": "",
            "zerolinecolor": "white"
           },
           "yaxis": {
            "backgroundcolor": "#E5ECF6",
            "gridcolor": "white",
            "gridwidth": 2,
            "linecolor": "white",
            "showbackground": true,
            "ticks": "",
            "zerolinecolor": "white"
           },
           "zaxis": {
            "backgroundcolor": "#E5ECF6",
            "gridcolor": "white",
            "gridwidth": 2,
            "linecolor": "white",
            "showbackground": true,
            "ticks": "",
            "zerolinecolor": "white"
           }
          },
          "shapedefaults": {
           "line": {
            "color": "#2a3f5f"
           }
          },
          "ternary": {
           "aaxis": {
            "gridcolor": "white",
            "linecolor": "white",
            "ticks": ""
           },
           "baxis": {
            "gridcolor": "white",
            "linecolor": "white",
            "ticks": ""
           },
           "bgcolor": "#E5ECF6",
           "caxis": {
            "gridcolor": "white",
            "linecolor": "white",
            "ticks": ""
           }
          },
          "title": {
           "x": 0.05
          },
          "xaxis": {
           "automargin": true,
           "gridcolor": "white",
           "linecolor": "white",
           "ticks": "",
           "title": {
            "standoff": 15
           },
           "zerolinecolor": "white",
           "zerolinewidth": 2
          },
          "yaxis": {
           "automargin": true,
           "gridcolor": "white",
           "linecolor": "white",
           "ticks": "",
           "title": {
            "standoff": 15
           },
           "zerolinecolor": "white",
           "zerolinewidth": 2
          }
         }
        }
       }
      },
      "text/html": [
       "<div>\n",
       "        \n",
       "        \n",
       "            <div id=\"2d81367b-dd39-451a-9484-7237945ec374\" class=\"plotly-graph-div\" style=\"height:600px; width:100%;\"></div>\n",
       "            <script type=\"text/javascript\">\n",
       "                require([\"plotly\"], function(Plotly) {\n",
       "                    window.PLOTLYENV=window.PLOTLYENV || {};\n",
       "                    \n",
       "                if (document.getElementById(\"2d81367b-dd39-451a-9484-7237945ec374\")) {\n",
       "                    Plotly.newPlot(\n",
       "                        '2d81367b-dd39-451a-9484-7237945ec374',\n",
       "                        [{\"coloraxis\": \"coloraxis\", \"geo\": \"geo\", \"hoverlabel\": {\"namelength\": 0}, \"hovertemplate\": \"<b>%{hovertext}</b><br><br>LOCATION=%{location}<br>Value=%{z}\", \"hovertext\": [\"Heavily Indebted Poor Countries (HIPC)\", \"Fragile and conflict affected situations\", \"IDA only\", \"Other small states\", \"South Asia\", \"South Asia (IDA & IBRD)\", \"Albania\", \"Argentina\", \"Armenia\", \"Austria\", \"Azerbaijan\", \"Australia\", \"Bahrain\", \"Bangladesh\", \"Belarus\", \"Belgium\", \"Bolivia\", \"Benin\", \"Bosnia and Herzegovina\", \"Botswana\", \"Brazil\", \"Bulgaria\", \"Brunei Darussalam\", \"Burkina Faso\", \"Cambodia\", \"Cabo Verde\", \"Canada\", \"Cameroon\", \"Chad\", \"Chile\", \"Colombia\", \"Congo, Dem. Rep.\", \"Congo, Rep.\", \"C\\u00f4te d'Ivoire\", \"Costa Rica\", \"Croatia\", \"Cyprus\", \"Czech Republic\", \"Denmark\", \"Djibouti\", \"Dominican Republic\", \"Dominica\", \"Ecuador\", \"El Salvador\", \"Equatorial Guinea\", \"Egypt, Arab Rep.\", \"Ethiopia\", \"Estonia\", \"France\", \"Finland\", \"Georgia\", \"Greece\", \"Guatemala\", \"Haiti\", \"Guinea\", \"Guinea-Bissau\", \"Honduras\", \"Hungary\", \"Hong Kong SAR, China\", \"India\", \"Iceland\", \"Indonesia\", \"Iraq\", \"Ireland\", \"Italy\", \"Jordan\", \"Kenya\", \"Kosovo\", \"Korea, Rep.\", \"Kyrgyz Republic\", \"Latvia\", \"Lebanon\", \"Libya\", \"Lithuania\", \"Liberia\", \"Luxembourg\", \"Macao SAR, China\", \"Malaysia\", \"Mali\", \"Malta\", \"Mauritius\", \"Mauritania\", \"Mexico\", \"Moldova\", \"Mongolia\", \"Morocco\", \"Montenegro\", \"Mozambique\", \"Namibia\", \"Nepal\", \"Netherlands\", \"Nicaragua\", \"North Macedonia\", \"Norway\", \"Oman\", \"Pakistan\", \"Peru\", \"Paraguay\", \"Poland\", \"Portugal\", \"Philippines\", \"Puerto Rico\", \"Romania\", \"Russian Federation\", \"Rwanda\", \"Samoa\", \"Seychelles\", \"Serbia\", \"Saudi Arabia\", \"Senegal\", \"Singapore\", \"Slovak Republic\", \"Slovenia\", \"Somalia\", \"South Africa\", \"Sri Lanka\", \"Spain\", \"Sudan\", \"Sweden\", \"Switzerland\", \"Thailand\", \"Togo\", \"Turkey\", \"Turkmenistan\", \"Ukraine\", \"Uganda\", \"United Arab Emirates\", \"United Kingdom\", \"Uzbekistan\", \"Uruguay\", \"Vietnam\", \"West Bank and Gaza\", \"Zambia\", \"Zimbabwe\"], \"locations\": [\"HPC\", \"FCS\", \"IDX\", \"OSS\", \"SAS\", \"TSA\", \"ALB\", \"ARG\", \"ARM\", \"AUT\", \"AZE\", \"AUS\", \"BHR\", \"BGD\", \"BLR\", \"BEL\", \"BOL\", \"BEN\", \"BIH\", \"BWA\", \"BRA\", \"BGR\", \"BRN\", \"BFA\", \"KHM\", \"CPV\", \"CAN\", \"CMR\", \"TCD\", \"CHL\", \"COL\", \"COD\", \"COG\", \"CIV\", \"CRI\", \"HRV\", \"CYP\", \"CZE\", \"DNK\", \"DJI\", \"DOM\", \"DMA\", \"ECU\", \"SLV\", \"GNQ\", \"EGY\", \"ETH\", \"EST\", \"FRA\", \"FIN\", \"GEO\", \"GRC\", \"GTM\", \"HTI\", \"GIN\", \"GNB\", \"HND\", \"HUN\", \"HKG\", \"IND\", \"ISL\", \"IDN\", \"IRQ\", \"IRL\", \"ITA\", \"JOR\", \"KEN\", \"XKX\", \"KOR\", \"KGZ\", \"LVA\", \"LBN\", \"LBY\", \"LTU\", \"LBR\", \"LUX\", \"MAC\", \"MYS\", \"MLI\", \"MLT\", \"MUS\", \"MRT\", \"MEX\", \"MDA\", \"MNG\", \"MAR\", \"MNE\", \"MOZ\", \"NAM\", \"NPL\", \"NLD\", \"NIC\", \"MKD\", \"NOR\", \"OMN\", \"PAK\", \"PER\", \"PRY\", \"POL\", \"PRT\", \"PHL\", \"PRI\", \"ROU\", \"RUS\", \"RWA\", \"WSM\", \"SYC\", \"SRB\", \"SAU\", \"SEN\", \"SGP\", \"SVK\", \"SVN\", \"SOM\", \"ZAF\", \"LKA\", \"ESP\", \"SDN\", \"SWE\", \"CHE\", \"THA\", \"TGO\", \"TUR\", \"TKM\", \"UKR\", \"UGA\", \"ARE\", \"GBR\", \"UZB\", \"URY\", \"VNM\", \"PSE\", \"ZMB\", \"ZWE\"], \"name\": \"\", \"type\": \"choropleth\", \"z\": [253729329874.36603, 331150045401.289, 431828432765.861, 229677001017.863, 819161722094.3359, 819161722094.3359, 6856096998.58875, 84846707072.4328, 6575927037.82687, 232206769027.40198, 17705176470.5882, 305306565382.529, 26843670212.766003, 64242232742.5396, 41253091872.7915, 466444000369.421, 12537987264.8336, 4577704315.01499, 11246468919.7345, 6942269981.959371, 266778399474.52, 41455220277.6101, 5693409139.803989, 5036706106.04879, 15554628992.2541, 1345742901.59513, 581116856497.357, 8766960496.8565, 4270379167.08804, 85649396745.6799, 69000820109.1855, 17635815460.1593, 6310124257.15829, 12578294784.6408, 19893952995.0413, 30317949004.6186, 16151085930.1228, 176570166322.159, 174400551673.102, 1617805229.01193, 24350261219.7338, 358608037.037037, 24982275000.0, 12668380000.0, 5434238010.09979, 73678705208.8487, 19231971305.1748, 21720413273.2256, 891893479126.7809, 109076353386.908, 10806917643.3448, 79342810498.4262, 21721645919.7787, 5647366035.00169, 10429697036.9548, 473248832.410983, 14366655160.2708, 127285177669.358, 682261146903.107, 638781687806.773, 11420488441.2947, 229861430850.832, 84952155169.8778, 341121426942.486, 606703929060.213, 22794076163.6107, 20223452249.0933, 4360315659.5162, 631474411832.185, 5534624340.68416, 20733094392.137, 22434335422.3549, 28020955437.5882, 42421433140.8818, 3079000000.0, 132523093888.55699, 17966924744.5029, 221725438734.673, 6715998352.04127, 17917130920.474, 7705808854.73148, 4425842379.54879, 502980529657.704, 6363182781.67789, 8266714748.45885, 57831580741.7351, 3673755901.79415, 11069100264.7358, 6523035098.17778, 13119519390.0721, 669997794292.734, 6726142387.04399, 9237397590.7314, 141496833691.977, 38009362808.8427, 60763266726.7032, 52806243534.3516, 13933336961.5304, 303959354320.68, 103366468094.90302, 146840634453.493, 46462500000.0, 107446620661.66, 344262687487.328, 3245532291.47494, 392293913.653367, 1623298147.11168, 29940221671.8526, 209980266666.667, 8707216903.63226, 545564872479.241, 101249320013.726, 41072456175.5185, 4702138368.64981, 108877966270.551, 26789046566.9989, 461009540896.28796, 5043382727.59912, 241828998155.69397, 376581110800.539, 285261929669.268, 2266152737.75216, 236010471566.645, 5094000000.0, 70399183838.5324, 7780669139.530491, 281552076242.342, 887202896381.116, 19561908552.3157, 11316243362.523998, 225679521806.876, 8730900000.0, 10216905805.5928, 7909000000.0]}],\n",
       "                        {\"coloraxis\": {\"colorbar\": {\"title\": {\"text\": \"Value\"}}, \"colorscale\": [[0.0, \"#0d0887\"], [0.1111111111111111, \"#46039f\"], [0.2222222222222222, \"#7201a8\"], [0.3333333333333333, \"#9c179e\"], [0.4444444444444444, \"#bd3786\"], [0.5555555555555556, \"#d8576b\"], [0.6666666666666666, \"#ed7953\"], [0.7777777777777778, \"#fb9f3a\"], [0.8888888888888888, \"#fdca26\"], [1.0, \"#f0f921\"]]}, \"geo\": {\"center\": {}, \"domain\": {\"x\": [0.0, 1.0], \"y\": [0.0, 1.0]}}, \"height\": 600, \"legend\": {\"tracegroupgap\": 0}, \"margin\": {\"t\": 60}, \"template\": {\"data\": {\"bar\": [{\"error_x\": {\"color\": \"#2a3f5f\"}, \"error_y\": {\"color\": \"#2a3f5f\"}, \"marker\": {\"line\": {\"color\": \"#E5ECF6\", \"width\": 0.5}}, \"type\": \"bar\"}], \"barpolar\": [{\"marker\": {\"line\": {\"color\": \"#E5ECF6\", \"width\": 0.5}}, \"type\": \"barpolar\"}], \"carpet\": [{\"aaxis\": {\"endlinecolor\": \"#2a3f5f\", \"gridcolor\": \"white\", \"linecolor\": \"white\", \"minorgridcolor\": \"white\", \"startlinecolor\": \"#2a3f5f\"}, \"baxis\": {\"endlinecolor\": \"#2a3f5f\", \"gridcolor\": \"white\", \"linecolor\": \"white\", \"minorgridcolor\": \"white\", \"startlinecolor\": \"#2a3f5f\"}, \"type\": \"carpet\"}], \"choropleth\": [{\"colorbar\": {\"outlinewidth\": 0, \"ticks\": \"\"}, \"type\": \"choropleth\"}], \"contour\": [{\"colorbar\": {\"outlinewidth\": 0, \"ticks\": \"\"}, \"colorscale\": [[0.0, \"#0d0887\"], [0.1111111111111111, \"#46039f\"], [0.2222222222222222, \"#7201a8\"], [0.3333333333333333, \"#9c179e\"], [0.4444444444444444, \"#bd3786\"], [0.5555555555555556, \"#d8576b\"], [0.6666666666666666, \"#ed7953\"], [0.7777777777777778, \"#fb9f3a\"], [0.8888888888888888, \"#fdca26\"], [1.0, \"#f0f921\"]], \"type\": \"contour\"}], \"contourcarpet\": [{\"colorbar\": {\"outlinewidth\": 0, \"ticks\": \"\"}, \"type\": \"contourcarpet\"}], \"heatmap\": [{\"colorbar\": {\"outlinewidth\": 0, \"ticks\": \"\"}, \"colorscale\": [[0.0, \"#0d0887\"], [0.1111111111111111, \"#46039f\"], [0.2222222222222222, \"#7201a8\"], [0.3333333333333333, \"#9c179e\"], [0.4444444444444444, \"#bd3786\"], [0.5555555555555556, \"#d8576b\"], [0.6666666666666666, \"#ed7953\"], [0.7777777777777778, \"#fb9f3a\"], [0.8888888888888888, \"#fdca26\"], [1.0, \"#f0f921\"]], \"type\": \"heatmap\"}], \"heatmapgl\": [{\"colorbar\": {\"outlinewidth\": 0, \"ticks\": \"\"}, \"colorscale\": [[0.0, \"#0d0887\"], [0.1111111111111111, \"#46039f\"], [0.2222222222222222, \"#7201a8\"], [0.3333333333333333, \"#9c179e\"], [0.4444444444444444, \"#bd3786\"], [0.5555555555555556, \"#d8576b\"], [0.6666666666666666, \"#ed7953\"], [0.7777777777777778, \"#fb9f3a\"], [0.8888888888888888, \"#fdca26\"], [1.0, \"#f0f921\"]], \"type\": \"heatmapgl\"}], \"histogram\": [{\"marker\": {\"colorbar\": {\"outlinewidth\": 0, \"ticks\": \"\"}}, \"type\": \"histogram\"}], \"histogram2d\": [{\"colorbar\": {\"outlinewidth\": 0, \"ticks\": \"\"}, \"colorscale\": [[0.0, \"#0d0887\"], [0.1111111111111111, \"#46039f\"], [0.2222222222222222, \"#7201a8\"], [0.3333333333333333, \"#9c179e\"], [0.4444444444444444, \"#bd3786\"], [0.5555555555555556, \"#d8576b\"], [0.6666666666666666, \"#ed7953\"], [0.7777777777777778, \"#fb9f3a\"], [0.8888888888888888, \"#fdca26\"], [1.0, \"#f0f921\"]], \"type\": \"histogram2d\"}], \"histogram2dcontour\": [{\"colorbar\": {\"outlinewidth\": 0, \"ticks\": \"\"}, \"colorscale\": [[0.0, \"#0d0887\"], [0.1111111111111111, \"#46039f\"], [0.2222222222222222, \"#7201a8\"], [0.3333333333333333, \"#9c179e\"], [0.4444444444444444, \"#bd3786\"], [0.5555555555555556, \"#d8576b\"], [0.6666666666666666, \"#ed7953\"], [0.7777777777777778, \"#fb9f3a\"], [0.8888888888888888, \"#fdca26\"], [1.0, \"#f0f921\"]], \"type\": \"histogram2dcontour\"}], \"mesh3d\": [{\"colorbar\": {\"outlinewidth\": 0, \"ticks\": \"\"}, \"type\": \"mesh3d\"}], \"parcoords\": [{\"line\": {\"colorbar\": {\"outlinewidth\": 0, \"ticks\": \"\"}}, \"type\": \"parcoords\"}], \"pie\": [{\"automargin\": true, \"type\": \"pie\"}], \"scatter\": [{\"marker\": {\"colorbar\": {\"outlinewidth\": 0, \"ticks\": \"\"}}, \"type\": \"scatter\"}], \"scatter3d\": [{\"line\": {\"colorbar\": {\"outlinewidth\": 0, \"ticks\": \"\"}}, \"marker\": {\"colorbar\": {\"outlinewidth\": 0, \"ticks\": \"\"}}, \"type\": \"scatter3d\"}], \"scattercarpet\": [{\"marker\": {\"colorbar\": {\"outlinewidth\": 0, \"ticks\": \"\"}}, \"type\": \"scattercarpet\"}], \"scattergeo\": [{\"marker\": {\"colorbar\": {\"outlinewidth\": 0, \"ticks\": \"\"}}, \"type\": \"scattergeo\"}], \"scattergl\": [{\"marker\": {\"colorbar\": {\"outlinewidth\": 0, \"ticks\": \"\"}}, \"type\": \"scattergl\"}], \"scattermapbox\": [{\"marker\": {\"colorbar\": {\"outlinewidth\": 0, \"ticks\": \"\"}}, \"type\": \"scattermapbox\"}], \"scatterpolar\": [{\"marker\": {\"colorbar\": {\"outlinewidth\": 0, \"ticks\": \"\"}}, \"type\": \"scatterpolar\"}], \"scatterpolargl\": [{\"marker\": {\"colorbar\": {\"outlinewidth\": 0, \"ticks\": \"\"}}, \"type\": \"scatterpolargl\"}], \"scatterternary\": [{\"marker\": {\"colorbar\": {\"outlinewidth\": 0, \"ticks\": \"\"}}, \"type\": \"scatterternary\"}], \"surface\": [{\"colorbar\": {\"outlinewidth\": 0, \"ticks\": \"\"}, \"colorscale\": [[0.0, \"#0d0887\"], [0.1111111111111111, \"#46039f\"], [0.2222222222222222, \"#7201a8\"], [0.3333333333333333, \"#9c179e\"], [0.4444444444444444, \"#bd3786\"], [0.5555555555555556, \"#d8576b\"], [0.6666666666666666, \"#ed7953\"], [0.7777777777777778, \"#fb9f3a\"], [0.8888888888888888, \"#fdca26\"], [1.0, \"#f0f921\"]], \"type\": \"surface\"}], \"table\": [{\"cells\": {\"fill\": {\"color\": \"#EBF0F8\"}, \"line\": {\"color\": \"white\"}}, \"header\": {\"fill\": {\"color\": \"#C8D4E3\"}, \"line\": {\"color\": \"white\"}}, \"type\": \"table\"}]}, \"layout\": {\"annotationdefaults\": {\"arrowcolor\": \"#2a3f5f\", \"arrowhead\": 0, \"arrowwidth\": 1}, \"coloraxis\": {\"colorbar\": {\"outlinewidth\": 0, \"ticks\": \"\"}}, \"colorscale\": {\"diverging\": [[0, \"#8e0152\"], [0.1, \"#c51b7d\"], [0.2, \"#de77ae\"], [0.3, \"#f1b6da\"], [0.4, \"#fde0ef\"], [0.5, \"#f7f7f7\"], [0.6, \"#e6f5d0\"], [0.7, \"#b8e186\"], [0.8, \"#7fbc41\"], [0.9, \"#4d9221\"], [1, \"#276419\"]], \"sequential\": [[0.0, \"#0d0887\"], [0.1111111111111111, \"#46039f\"], [0.2222222222222222, \"#7201a8\"], [0.3333333333333333, \"#9c179e\"], [0.4444444444444444, \"#bd3786\"], [0.5555555555555556, \"#d8576b\"], [0.6666666666666666, \"#ed7953\"], [0.7777777777777778, \"#fb9f3a\"], [0.8888888888888888, \"#fdca26\"], [1.0, \"#f0f921\"]], \"sequentialminus\": [[0.0, \"#0d0887\"], [0.1111111111111111, \"#46039f\"], [0.2222222222222222, \"#7201a8\"], [0.3333333333333333, \"#9c179e\"], [0.4444444444444444, \"#bd3786\"], [0.5555555555555556, \"#d8576b\"], [0.6666666666666666, \"#ed7953\"], [0.7777777777777778, \"#fb9f3a\"], [0.8888888888888888, \"#fdca26\"], [1.0, \"#f0f921\"]]}, \"colorway\": [\"#636efa\", \"#EF553B\", \"#00cc96\", \"#ab63fa\", \"#FFA15A\", \"#19d3f3\", \"#FF6692\", \"#B6E880\", \"#FF97FF\", \"#FECB52\"], \"font\": {\"color\": \"#2a3f5f\"}, \"geo\": {\"bgcolor\": \"white\", \"lakecolor\": \"white\", \"landcolor\": \"#E5ECF6\", \"showlakes\": true, \"showland\": true, \"subunitcolor\": \"white\"}, \"hoverlabel\": {\"align\": \"left\"}, \"hovermode\": \"closest\", \"mapbox\": {\"style\": \"light\"}, \"paper_bgcolor\": \"white\", \"plot_bgcolor\": \"#E5ECF6\", \"polar\": {\"angularaxis\": {\"gridcolor\": \"white\", \"linecolor\": \"white\", \"ticks\": \"\"}, \"bgcolor\": \"#E5ECF6\", \"radialaxis\": {\"gridcolor\": \"white\", \"linecolor\": \"white\", \"ticks\": \"\"}}, \"scene\": {\"xaxis\": {\"backgroundcolor\": \"#E5ECF6\", \"gridcolor\": \"white\", \"gridwidth\": 2, \"linecolor\": \"white\", \"showbackground\": true, \"ticks\": \"\", \"zerolinecolor\": \"white\"}, \"yaxis\": {\"backgroundcolor\": \"#E5ECF6\", \"gridcolor\": \"white\", \"gridwidth\": 2, \"linecolor\": \"white\", \"showbackground\": true, \"ticks\": \"\", \"zerolinecolor\": \"white\"}, \"zaxis\": {\"backgroundcolor\": \"#E5ECF6\", \"gridcolor\": \"white\", \"gridwidth\": 2, \"linecolor\": \"white\", \"showbackground\": true, \"ticks\": \"\", \"zerolinecolor\": \"white\"}}, \"shapedefaults\": {\"line\": {\"color\": \"#2a3f5f\"}}, \"ternary\": {\"aaxis\": {\"gridcolor\": \"white\", \"linecolor\": \"white\", \"ticks\": \"\"}, \"baxis\": {\"gridcolor\": \"white\", \"linecolor\": \"white\", \"ticks\": \"\"}, \"bgcolor\": \"#E5ECF6\", \"caxis\": {\"gridcolor\": \"white\", \"linecolor\": \"white\", \"ticks\": \"\"}}, \"title\": {\"x\": 0.05}, \"xaxis\": {\"automargin\": true, \"gridcolor\": \"white\", \"linecolor\": \"white\", \"ticks\": \"\", \"title\": {\"standoff\": 15}, \"zerolinecolor\": \"white\", \"zerolinewidth\": 2}, \"yaxis\": {\"automargin\": true, \"gridcolor\": \"white\", \"linecolor\": \"white\", \"ticks\": \"\", \"title\": {\"standoff\": 15}, \"zerolinecolor\": \"white\", \"zerolinewidth\": 2}}}},\n",
       "                        {\"responsive\": true}\n",
       "                    ).then(function(){\n",
       "                            \n",
       "var gd = document.getElementById('2d81367b-dd39-451a-9484-7237945ec374');\n",
       "var x = new MutationObserver(function (mutations, observer) {{\n",
       "        var display = window.getComputedStyle(gd).display;\n",
       "        if (!display || display === 'none') {{\n",
       "            console.log([gd, 'removed!']);\n",
       "            Plotly.purge(gd);\n",
       "            observer.disconnect();\n",
       "        }}\n",
       "}});\n",
       "\n",
       "// Listen for the removal of the full notebook cells\n",
       "var notebookContainer = gd.closest('#notebook-container');\n",
       "if (notebookContainer) {{\n",
       "    x.observe(notebookContainer, {childList: true});\n",
       "}}\n",
       "\n",
       "// Listen for the clearing of the current output cell\n",
       "var outputEl = gd.closest('.output');\n",
       "if (outputEl) {{\n",
       "    x.observe(outputEl, {childList: true});\n",
       "}}\n",
       "\n",
       "                        })\n",
       "                };\n",
       "                });\n",
       "            </script>\n",
       "        </div>"
      ]
     },
     "metadata": {},
     "output_type": "display_data"
    }
   ],
   "source": [
    "fig = px.choropleth(igs[(igs['Time'] == 2018) & (igs['Value'] < (10**12))], \n",
    "                    locations=\"LOCATION\",\n",
    "                    color=\"Value\", \n",
    "                    hover_name=\"Location\", \n",
    "                    color_continuous_scale=px.colors.sequential.Plasma,\n",
    "                   )\n",
    "fig.show()"
   ]
  },
  {
   "cell_type": "markdown",
   "metadata": {},
   "source": [
    "Сравниваем параметр Imports of goods and services для топа стран.\n",
    "\n",
    "Можем увидеть, что Россия также не входит в top10\n",
    "\n",
    "Давайте дальше посмотрим на днамику этого показателя"
   ]
  },
  {
   "cell_type": "code",
   "execution_count": null,
   "metadata": {},
   "outputs": [],
   "source": []
  },
  {
   "cell_type": "markdown",
   "metadata": {},
   "source": [
    "# IGS dinamic analys"
   ]
  },
  {
   "cell_type": "code",
   "execution_count": 24,
   "metadata": {},
   "outputs": [
    {
     "data": {
      "text/html": [
       "<div>\n",
       "<style scoped>\n",
       "    .dataframe tbody tr th:only-of-type {\n",
       "        vertical-align: middle;\n",
       "    }\n",
       "\n",
       "    .dataframe tbody tr th {\n",
       "        vertical-align: top;\n",
       "    }\n",
       "\n",
       "    .dataframe thead th {\n",
       "        text-align: right;\n",
       "    }\n",
       "</style>\n",
       "<table border=\"1\" class=\"dataframe\">\n",
       "  <thead>\n",
       "    <tr style=\"text-align: right;\">\n",
       "      <th>Location</th>\n",
       "      <th>China</th>\n",
       "      <th>European Union</th>\n",
       "      <th>India</th>\n",
       "      <th>Russian Federation</th>\n",
       "      <th>United States</th>\n",
       "    </tr>\n",
       "    <tr>\n",
       "      <th>Time</th>\n",
       "      <th></th>\n",
       "      <th></th>\n",
       "      <th></th>\n",
       "      <th></th>\n",
       "      <th></th>\n",
       "    </tr>\n",
       "  </thead>\n",
       "  <tbody>\n",
       "    <tr>\n",
       "      <td>2010</td>\n",
       "      <td>1.380075e+12</td>\n",
       "      <td>6.391258e+12</td>\n",
       "      <td>4.499743e+11</td>\n",
       "      <td>3.223667e+11</td>\n",
       "      <td>2.360183e+12</td>\n",
       "    </tr>\n",
       "    <tr>\n",
       "      <td>2011</td>\n",
       "      <td>1.825403e+12</td>\n",
       "      <td>7.385217e+12</td>\n",
       "      <td>5.666672e+11</td>\n",
       "      <td>4.087767e+11</td>\n",
       "      <td>2.682456e+12</td>\n",
       "    </tr>\n",
       "    <tr>\n",
       "      <td>2012</td>\n",
       "      <td>1.943215e+12</td>\n",
       "      <td>6.991420e+12</td>\n",
       "      <td>5.713066e+11</td>\n",
       "      <td>4.470489e+11</td>\n",
       "      <td>2.759851e+12</td>\n",
       "    </tr>\n",
       "    <tr>\n",
       "      <td>2013</td>\n",
       "      <td>2.119378e+12</td>\n",
       "      <td>7.229858e+12</td>\n",
       "      <td>5.275555e+11</td>\n",
       "      <td>4.686231e+11</td>\n",
       "      <td>2.764210e+12</td>\n",
       "    </tr>\n",
       "    <tr>\n",
       "      <td>2014</td>\n",
       "      <td>2.241289e+12</td>\n",
       "      <td>7.493014e+12</td>\n",
       "      <td>5.292397e+11</td>\n",
       "      <td>4.260622e+11</td>\n",
       "      <td>2.879284e+12</td>\n",
       "    </tr>\n",
       "  </tbody>\n",
       "</table>\n",
       "</div>"
      ],
      "text/plain": [
       "Location         China  European Union         India  Russian Federation  \\\n",
       "Time                                                                       \n",
       "2010      1.380075e+12    6.391258e+12  4.499743e+11        3.223667e+11   \n",
       "2011      1.825403e+12    7.385217e+12  5.666672e+11        4.087767e+11   \n",
       "2012      1.943215e+12    6.991420e+12  5.713066e+11        4.470489e+11   \n",
       "2013      2.119378e+12    7.229858e+12  5.275555e+11        4.686231e+11   \n",
       "2014      2.241289e+12    7.493014e+12  5.292397e+11        4.260622e+11   \n",
       "\n",
       "Location  United States  \n",
       "Time                     \n",
       "2010       2.360183e+12  \n",
       "2011       2.682456e+12  \n",
       "2012       2.759851e+12  \n",
       "2013       2.764210e+12  \n",
       "2014       2.879284e+12  "
      ]
     },
     "execution_count": 24,
     "metadata": {},
     "output_type": "execute_result"
    }
   ],
   "source": [
    "igs_dinamics = igs[(igs['Location'].isin(['Russian Federation',\n",
    "                                       'United States',\n",
    "                                       'European Union',\n",
    "                                       'China',\n",
    "#                                        'Australia',\n",
    "#                                        'Germany',\n",
    "#                                        'Japan', \n",
    "#                                        'United Kingdom',\n",
    "                                       'India', \n",
    "#                                        'France',\n",
    "#                                        'Iataly', \n",
    "#                                        'Brazil', \n",
    "#                                        'Canada',\n",
    "#                                        'Spain'\n",
    "                                      ]))]\n",
    "igs_dinamics = igs_dinamics.pivot(index = 'Time', columns = 'Location', values =  'Value' )\n",
    "igs_dinamics.head()"
   ]
  },
  {
   "cell_type": "code",
   "execution_count": 25,
   "metadata": {},
   "outputs": [
    {
     "data": {
      "text/plain": [
       "<matplotlib.legend.Legend at 0x1a286c5dd0>"
      ]
     },
     "execution_count": 25,
     "metadata": {},
     "output_type": "execute_result"
    },
    {
     "data": {
      "image/png": "[encoded data removed]",
      "text/plain": [
       "<Figure size 864x648 with 1 Axes>"
      ]
     },
     "metadata": {
      "needs_background": "light"
     },
     "output_type": "display_data"
    }
   ],
   "source": [
    "l = len(igs_dinamics)\n",
    "for i in range(l):\n",
    "    if i == l-1:\n",
    "        igs_dinamics.iloc[l-i-1] /= igs_dinamics.iloc[l-i-1]\n",
    "    else:\n",
    "        igs_dinamics.iloc[l-i-1] /=  igs_dinamics.iloc[l-i-2]\n",
    "    \n",
    "plt.plot(igs_dinamics)\n",
    "plt.legend(igs_dinamics)"
   ]
  },
  {
   "cell_type": "markdown",
   "metadata": {},
   "source": [
    "Видно, что в 2015 году практически по всем странам показатель год к году просел, однако такой просадки как в РФ не было у большинства развитсых стран.\n",
    "\n",
    "Из-за чего такое может быть?\n",
    "\n",
    "Опять добавить динамику изменения цены на нефть."
   ]
  },
  {
   "cell_type": "code",
   "execution_count": null,
   "metadata": {},
   "outputs": [],
   "source": []
  },
  {
   "cell_type": "code",
   "execution_count": 26,
   "metadata": {},
   "outputs": [
    {
     "data": {
      "text/html": [
       "<div>\n",
       "<style scoped>\n",
       "    .dataframe tbody tr th:only-of-type {\n",
       "        vertical-align: middle;\n",
       "    }\n",
       "\n",
       "    .dataframe tbody tr th {\n",
       "        vertical-align: top;\n",
       "    }\n",
       "\n",
       "    .dataframe thead th {\n",
       "        text-align: right;\n",
       "    }\n",
       "</style>\n",
       "<table border=\"1\" class=\"dataframe\">\n",
       "  <thead>\n",
       "    <tr style=\"text-align: right;\">\n",
       "      <th></th>\n",
       "      <th>China</th>\n",
       "      <th>European Union</th>\n",
       "      <th>India</th>\n",
       "      <th>Russian Federation</th>\n",
       "      <th>United States</th>\n",
       "      <th>Oil</th>\n",
       "    </tr>\n",
       "    <tr>\n",
       "      <th>Time</th>\n",
       "      <th></th>\n",
       "      <th></th>\n",
       "      <th></th>\n",
       "      <th></th>\n",
       "      <th></th>\n",
       "      <th></th>\n",
       "    </tr>\n",
       "  </thead>\n",
       "  <tbody>\n",
       "    <tr>\n",
       "      <td>2010</td>\n",
       "      <td>1.000000</td>\n",
       "      <td>1.000000</td>\n",
       "      <td>1.000000</td>\n",
       "      <td>1.000000</td>\n",
       "      <td>1.000000</td>\n",
       "      <td>1.000000</td>\n",
       "    </tr>\n",
       "    <tr>\n",
       "      <td>2011</td>\n",
       "      <td>1.322683</td>\n",
       "      <td>1.155519</td>\n",
       "      <td>1.259332</td>\n",
       "      <td>1.268049</td>\n",
       "      <td>1.136546</td>\n",
       "      <td>1.399527</td>\n",
       "    </tr>\n",
       "    <tr>\n",
       "      <td>2012</td>\n",
       "      <td>1.064541</td>\n",
       "      <td>0.946678</td>\n",
       "      <td>1.008187</td>\n",
       "      <td>1.093626</td>\n",
       "      <td>1.028852</td>\n",
       "      <td>0.984788</td>\n",
       "    </tr>\n",
       "    <tr>\n",
       "      <td>2013</td>\n",
       "      <td>1.090655</td>\n",
       "      <td>1.034104</td>\n",
       "      <td>0.923419</td>\n",
       "      <td>1.048259</td>\n",
       "      <td>1.001579</td>\n",
       "      <td>0.981843</td>\n",
       "    </tr>\n",
       "    <tr>\n",
       "      <td>2014</td>\n",
       "      <td>1.057522</td>\n",
       "      <td>1.036399</td>\n",
       "      <td>1.003192</td>\n",
       "      <td>0.909179</td>\n",
       "      <td>1.041630</td>\n",
       "      <td>0.898335</td>\n",
       "    </tr>\n",
       "  </tbody>\n",
       "</table>\n",
       "</div>"
      ],
      "text/plain": [
       "         China  European Union     India  Russian Federation  United States  \\\n",
       "Time                                                                          \n",
       "2010  1.000000        1.000000  1.000000            1.000000       1.000000   \n",
       "2011  1.322683        1.155519  1.259332            1.268049       1.136546   \n",
       "2012  1.064541        0.946678  1.008187            1.093626       1.028852   \n",
       "2013  1.090655        1.034104  0.923419            1.048259       1.001579   \n",
       "2014  1.057522        1.036399  1.003192            0.909179       1.041630   \n",
       "\n",
       "           Oil  \n",
       "Time            \n",
       "2010  1.000000  \n",
       "2011  1.399527  \n",
       "2012  0.984788  \n",
       "2013  0.981843  \n",
       "2014  0.898335  "
      ]
     },
     "execution_count": 26,
     "metadata": {},
     "output_type": "execute_result"
    }
   ],
   "source": [
    "igs_oil = igs_dinamics.reset_index().merge(oil, how = 'left', on = 'Time')\n",
    "igs_oil = igs_oil.set_index('Time')\n",
    "igs_oil.head()"
   ]
  },
  {
   "cell_type": "code",
   "execution_count": 27,
   "metadata": {},
   "outputs": [
    {
     "data": {
      "text/plain": [
       "<matplotlib.legend.Legend at 0x1a2a05a6d0>"
      ]
     },
     "execution_count": 27,
     "metadata": {},
     "output_type": "execute_result"
    },
    {
     "data": {
      "image/png": "[encoded data removed]",
      "text/plain": [
       "<Figure size 864x648 with 1 Axes>"
      ]
     },
     "metadata": {
      "needs_background": "light"
     },
     "output_type": "display_data"
    }
   ],
   "source": [
    "plt.plot(igs_oil)\n",
    "plt.legend(igs_oil)"
   ]
  },
  {
   "cell_type": "markdown",
   "metadata": {},
   "source": [
    "Здесь видна абсолютно аналогичная зависимость как и в случае с GDP (с теми же особенностями 2018 года)"
   ]
  },
  {
   "cell_type": "code",
   "execution_count": 28,
   "metadata": {},
   "outputs": [
    {
     "name": "stderr",
     "output_type": "stream",
     "text": [
      "/Users/user/anaconda3/lib/python3.7/site-packages/numpy/lib/histograms.py:829: RuntimeWarning:\n",
      "\n",
      "invalid value encountered in greater_equal\n",
      "\n",
      "/Users/user/anaconda3/lib/python3.7/site-packages/numpy/lib/histograms.py:830: RuntimeWarning:\n",
      "\n",
      "invalid value encountered in less_equal\n",
      "\n"
     ]
    },
    {
     "data": {
      "text/plain": [
       "<seaborn.axisgrid.PairGrid at 0x1a2a32c610>"
      ]
     },
     "execution_count": 28,
     "metadata": {},
     "output_type": "execute_result"
    },
    {
     "data": {
      "image/png": "[encoded data removed]",
      "text/plain": [
       "<Figure size 1080x1080 with 42 Axes>"
      ]
     },
     "metadata": {
      "needs_background": "light"
     },
     "output_type": "display_data"
    }
   ],
   "source": [
    "sns.pairplot(igs_oil)"
   ]
  },
  {
   "cell_type": "code",
   "execution_count": null,
   "metadata": {},
   "outputs": [],
   "source": []
  },
  {
   "cell_type": "markdown",
   "metadata": {},
   "source": [
    "Отсюда можем видеть на сколько сильно экономика России зависит от цены на нефть. Также сильно как зависит и igs.\n",
    "\n",
    "Те основной импортируемый товар, как и основа нашей экономики - нефть. (Небезызвестных факт доказанный на цифрах :) )"
   ]
  },
  {
   "cell_type": "code",
   "execution_count": null,
   "metadata": {},
   "outputs": [],
   "source": []
  },
  {
   "cell_type": "code",
   "execution_count": null,
   "metadata": {},
   "outputs": [],
   "source": []
  },
  {
   "cell_type": "code",
   "execution_count": null,
   "metadata": {},
   "outputs": [],
   "source": []
  },
  {
   "cell_type": "code",
   "execution_count": null,
   "metadata": {},
   "outputs": [],
   "source": []
  },
  {
   "cell_type": "code",
   "execution_count": null,
   "metadata": {},
   "outputs": [],
   "source": []
  },
  {
   "cell_type": "code",
   "execution_count": null,
   "metadata": {},
   "outputs": [],
   "source": [
    "\n"
   ]
  },
  {
   "cell_type": "code",
   "execution_count": null,
   "metadata": {},
   "outputs": [],
   "source": []
  },
  {
   "cell_type": "code",
   "execution_count": null,
   "metadata": {},
   "outputs": [],
   "source": []
  },
  {
   "cell_type": "code",
   "execution_count": null,
   "metadata": {},
   "outputs": [],
   "source": []
  },
  {
   "cell_type": "code",
   "execution_count": null,
   "metadata": {},
   "outputs": [],
   "source": []
  },
  {
   "cell_type": "code",
   "execution_count": null,
   "metadata": {},
   "outputs": [],
   "source": []
  },
  {
   "cell_type": "code",
   "execution_count": null,
   "metadata": {},
   "outputs": [],
   "source": []
  }
 ],
 "metadata": {
  "kernelspec": {
   "display_name": "Python 3",
   "language": "python",
   "name": "python3"
  },
  "language_info": {
   "codemirror_mode": {
    "name": "ipython",
    "version": 3
   },
   "file_extension": ".py",
   "mimetype": "text/x-python",
   "name": "python",
   "nbconvert_exporter": "python",
   "pygments_lexer": "ipython3",
   "version": "3.7.4"
  }
 },
 "nbformat": 4,
 "nbformat_minor": 2
}
